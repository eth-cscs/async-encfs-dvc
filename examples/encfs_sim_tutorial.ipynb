{
 "cells": [
  {
   "cell_type": "markdown",
   "id": "2e1e3f1f-753d-462b-88bd-b31d918896c1",
   "metadata": {},
   "source": [
    "# Tutorial: Running DVC stages with EncFS and Docker \n",
    "\n",
    "This guide demonstrates how to configure app-policies for the application to be run in a Docker container operating on encrypted data managed through EncFS. To learn about the steps to construct a DVC repository with infrastructure-as-code techniques please refer to the [tutorial for an ML repository](ml_tutorial.ipynb). Our example application will perform an iterative simulation with a linear data dependency graph. The key steps we will cover include:\n",
    "\n",
    " * Initialize a DVC repository to be managed by EncFS\n",
    " * Configure an app policy to use Docker in a DVC stage\n",
    " * Run a DVC stage using Docker and EncFS and inspect the results through a manually mounted encrypted filesystem\n",
    "\n",
    "It is important to note that while we use Docker here, the container engine [Sarus](https://products.cscs.ch/sarus/) is equally supported and extensions for others are possible as well.\n",
    "\n",
    "As a prerequisite to this tutorial, you should have `encfs` installed as described in the [instructions](../async_encfs_dvc/encfs_int/README.md)."
   ]
  },
  {
   "cell_type": "markdown",
   "id": "f276f6c3-08cf-409b-b1e3-6e767e0e82db",
   "metadata": {},
   "source": [
    "## Initializing the DVC repository\n",
    "We first import the depencies for the tutorial."
   ]
  },
  {
   "cell_type": "code",
   "execution_count": 1,
   "id": "2af8552e-1d3e-4c31-b410-627b1de89fdc",
   "metadata": {},
   "outputs": [],
   "source": [
    "import os"
   ]
  },
  {
   "cell_type": "code",
   "execution_count": 2,
   "id": "5ac94128",
   "metadata": {},
   "outputs": [],
   "source": [
    "from IPython.display import SVG  # test_encfs_sim_tutorial: skip"
   ]
  },
  {
   "cell_type": "markdown",
   "id": "b65be096-eb8e-4d18-a2e2-858ea136b47b",
   "metadata": {},
   "source": [
    "Create a new directory `data/v1` for the DVC root and change to it."
   ]
  },
  {
   "cell_type": "code",
   "execution_count": 3,
   "id": "e6dd315e-6ab4-4e75-8a85-4056b09563ac",
   "metadata": {},
   "outputs": [],
   "source": [
    "os.chdir('data/v1')"
   ]
  },
  {
   "cell_type": "markdown",
   "id": "5823a232-0796-405f-af6d-ecda49add286",
   "metadata": {},
   "source": [
    "Initialize an `encfs` DVC repository using the command"
   ]
  },
  {
   "cell_type": "code",
   "execution_count": 4,
   "id": "878f12d8-3b44-40f4-8bd2-ffb2dd84fa2f",
   "metadata": {},
   "outputs": [
    {
     "name": "stdout",
     "output_type": "stream",
     "text": [
      "\u001b[34m2023-07-31 11:47:00,913\u001b[39m \u001b[34mDEBUG\u001b[39m: v0.1.dev8866+gd72e04c, CPython 3.8.10 on Linux-5.15.0-78-generic-x86_64-with-glibc2.29\n",
      "\u001b[34m2023-07-31 11:47:00,914\u001b[39m \u001b[34mDEBUG\u001b[39m: command: /home/lukasd/src/mitraccel/async-encfs-dvc/venv/bin/dvc init --subdir --verbose\n",
      "\u001b[34m2023-07-31 11:47:01,421\u001b[39m \u001b[34mDEBUG\u001b[39m: Added '/home/lukasd/src/mitraccel/async-encfs-dvc/examples/data/v1/.dvc/config.local' to gitignore file.\n",
      "\u001b[34m2023-07-31 11:47:01,422\u001b[39m \u001b[34mDEBUG\u001b[39m: Added '/home/lukasd/src/mitraccel/async-encfs-dvc/examples/data/v1/.dvc/tmp' to gitignore file.\n",
      "\u001b[34m2023-07-31 11:47:01,422\u001b[39m \u001b[34mDEBUG\u001b[39m: Added '/home/lukasd/src/mitraccel/async-encfs-dvc/examples/data/v1/.dvc/cache' to gitignore file.\n",
      "\u001b[34m2023-07-31 11:47:01,423\u001b[39m \u001b[34mDEBUG\u001b[39m: Removing '/var/tmp/dvc/repo/a177a6927f8a74db68a8839474eacc3f'\n",
      "\u001b[34m2023-07-31 11:47:01,454\u001b[39m \u001b[34mDEBUG\u001b[39m: Staging files: {'/home/lukasd/src/mitraccel/async-encfs-dvc/examples/data/v1/.dvc/config', '/home/lukasd/src/mitraccel/async-encfs-dvc/examples/data/v1/.dvcignore', '/home/lukasd/src/mitraccel/async-encfs-dvc/examples/data/v1/.dvc/.gitignore'}\n",
      "Initialized DVC repository.\n",
      "\n",
      "You can now commit the changes to git.\n",
      "\n",
      "\u001b[34m2023-07-31 11:47:01,469\u001b[39m \u001b[34mDEBUG\u001b[39m: Analytics is enabled.\n",
      "\u001b[31m+---------------------------------------------------------------------+\n",
      "\u001b[0m\u001b[31m|\u001b[0m                                                                     \u001b[31m|\u001b[0m\n",
      "\u001b[31m|\u001b[0m        DVC has enabled anonymous aggregate usage analytics.         \u001b[31m|\u001b[0m\n",
      "\u001b[31m|\u001b[0m     Read the analytics documentation (and how to opt-out) here:     \u001b[31m|\u001b[0m\n",
      "\u001b[31m|\u001b[0m             <\u001b[36mhttps://dvc.org/doc/user-guide/analytics\u001b[39m>              \u001b[31m|\u001b[0m\n",
      "\u001b[31m|\u001b[0m                                                                     \u001b[31m|\u001b[0m\n",
      "\u001b[31m+---------------------------------------------------------------------+\n",
      "\u001b[0m\n",
      "\u001b[33mWhat's next?\u001b[39m\n",
      "\u001b[33m------------\u001b[39m\n",
      "- Check out the documentation: <\u001b[36mhttps://dvc.org/doc\u001b[39m>\n",
      "- Get help and share ideas: <\u001b[36mhttps://dvc.org/chat\u001b[39m>\n",
      "- Star us on GitHub: <\u001b[36mhttps://github.com/iterative/dvc\u001b[39m>\n",
      "\u001b[34m2023-07-31 11:47:01,471\u001b[39m \u001b[34mDEBUG\u001b[39m: Analytics is enabled.\n",
      "\u001b[34m2023-07-31 11:47:01,527\u001b[39m \u001b[34mDEBUG\u001b[39m: Trying to spawn '['daemon', '-q', 'analytics', '/tmp/tmpk7ix27i9']'\n",
      "\u001b[34m2023-07-31 11:47:01,528\u001b[39m \u001b[34mDEBUG\u001b[39m: Spawned '['daemon', '-q', 'analytics', '/tmp/tmpk7ix27i9']'\n",
      "\u001b[0m\u001b[0mInitialized DVC repo (encfs) and stage policies.\n"
     ]
    }
   ],
   "source": [
    "!dvc_init_repo . encfs"
   ]
  },
  {
   "cell_type": "markdown",
   "id": "cf0d1a24",
   "metadata": {},
   "source": [
    "As next step, EncFS needs to be configured, which can be achieved by running\n",
    "\n",
    "```shell\n",
    "${ENCFS_INSTALL_DIR}/bin/encfs -o allow_root,max_write=1048576,big_writes -f encrypt decrypt\n",
    "```\n",
    "as described in the [EncFS initialization instructions](../async_encfs_dvc/encfs_int/README.md).\n",
    "\n",
    "Here, only for the purpose of this tutorial, we use a pre-established configuration with a simple password. It is important that this is only for demonstration purposes - in practice always generate a **random** key and store it in a **safe location**!"
   ]
  },
  {
   "cell_type": "code",
   "execution_count": 5,
   "id": "5064a732",
   "metadata": {},
   "outputs": [],
   "source": [
    "%%bash\n",
    "echo 1234 > encfs_tutorial.key\n",
    "cp $(git rev-parse --show-toplevel)/examples/.encfs6.xml.tutorial encrypt/ && mv encrypt/.encfs6.xml.tutorial encrypt/.encfs6.xml"
   ]
  },
  {
   "cell_type": "markdown",
   "id": "e06397c8",
   "metadata": {},
   "source": [
    "At runtime, EncFS will read the password from a file. The location of that file is passed in an environment variable that has to be set when `dvc repro` is run on a stage or `encfs_launch` is used to e.g. inspect the encrypted data interactively."
   ]
  },
  {
   "cell_type": "code",
   "execution_count": 6,
   "id": "aa42666d",
   "metadata": {},
   "outputs": [],
   "source": [
    "os.environ['ENCFS_PW_FILE'] = os.path.realpath('encfs_tutorial.key')"
   ]
  },
  {
   "cell_type": "markdown",
   "id": "fd6e1e70-9135-4c7c-954f-af0c5b850341",
   "metadata": {},
   "source": [
    "The DVC repo has been initialized with repo and stage policies available under `.dvc_policies`."
   ]
  },
  {
   "cell_type": "code",
   "execution_count": 7,
   "id": "0d25ced6-1813-4891-895a-8963bb46a96d",
   "metadata": {},
   "outputs": [
    {
     "name": "stdout",
     "output_type": "stream",
     "text": [
      "\u001b[01;34m.dvc_policies\u001b[00m\n",
      "├── \u001b[01;34mrepo\u001b[00m\n",
      "│   └── dvc_root.yaml\n",
      "└── \u001b[01;34mstages\u001b[00m\n",
      "    ├── dvc_config.yaml\n",
      "    ├── dvc_etl.yaml\n",
      "    ├── dvc_in.yaml\n",
      "    ├── dvc_ml_inference.yaml\n",
      "    ├── dvc_ml_training.yaml\n",
      "    └── dvc_simulation.yaml\n",
      "\n",
      "2 directories, 7 files\n"
     ]
    }
   ],
   "source": [
    "!tree .dvc_policies"
   ]
  },
  {
   "cell_type": "markdown",
   "id": "959f888a",
   "metadata": {},
   "source": [
    "For the purpose of this tutorial, we will extract the paths of the encrypted directory and the mount target of EncFS into environment variables. This is not a necessary step to run DVC stages with EncFS, though."
   ]
  },
  {
   "cell_type": "code",
   "execution_count": 8,
   "id": "3b497ee8",
   "metadata": {},
   "outputs": [],
   "source": [
    "from async_encfs_dvc.encfs_int.mount_config import load_mount_config\n",
    "\n",
    "mount_config = [os.popen(f\"echo {d}\").read().strip() for d in  # evaluating shell exprs in paths\n",
    "                load_mount_config('.dvc_policies/repo/dvc_root.yaml')]\n",
    "\n",
    "os.environ['ENCFS_ENCRYPT_DIR'] = mount_config[0]  # encrypt (same on all hosts)\n",
    "os.environ['ENCFS_DECRYPT_DIR'] = mount_config[1]  # host-specific"
   ]
  },
  {
   "cell_type": "markdown",
   "id": "30c1eae6-bdeb-491c-a3dc-1d8ae82b6e6c",
   "metadata": {},
   "source": [
    "## Establishing the input dataset\n",
    "Our pipeline will be based on a dataset labeled `sim_dataset_v1` and thereof a specific subset `ex2` (label chosen arbitrarily). First, we create a DVC stage to track the encrypted input data. As `dvc add` on longer supports the `--file` option to locate the `.dvc` file in a different folder, we use a workaround with a frozen no-op stage analogous to the manual preprocessing step for the training dataset in the ML tutorial."
   ]
  },
  {
   "cell_type": "code",
   "execution_count": 9,
   "id": "06dd5611-cf31-4e6e-bab2-5307237c0824",
   "metadata": {},
   "outputs": [
    {
     "name": "stdout",
     "output_type": "stream",
     "text": [
      "Not using SLURM or MPI in this DVC stage.\n",
      "Writing DVC stage to config/in/sim_dataset_v1/original/ex2\n",
      "Using encfs - don't forget to set ENCFS_PW_FILE/ENCFS_INSTALL_DIR when running 'dvc repro'.\n",
      "Added stage 'in_original_add_init' in 'dvc.yaml'                      core\u001b[39m>\n",
      "\n",
      "To track the changes with git, run:\n",
      "\n",
      "\tgit add .gitignore ../../../../../encrypt/in/sim_dataset_v1/original/ex2/.gitignore dvc.yaml\n",
      "\n",
      "To enable auto staging, run:\n",
      "\n",
      "\tdvc config core.autostage true\n",
      "\u001b[0mFreezing stage for execution outside dvc - run 'dvc commit in_original_add_init' when outputs are done.\n",
      "Modifying stage 'in_original_add_init' in 'dvc.yaml'                  core\u001b[39m>\n",
      "\u001b[0m"
     ]
    }
   ],
   "source": [
    "!dvc_create_stage --app-yaml ../../in/dvc_app.yaml --stage add --run-label init --dataset-name sim_dataset_v1 --subset-name ex2"
   ]
  },
  {
   "cell_type": "code",
   "execution_count": 10,
   "id": "871b1063-1b33-4417-97ad-584b23c59912",
   "metadata": {},
   "outputs": [
    {
     "name": "stdout",
     "output_type": "stream",
     "text": [
      "stages:\n",
      "  in_original_add_init:\n",
      "    desc: Generated with venv/bin/dvc_create_stage --app-yaml ../../in/dvc_app.yaml\n",
      "      --stage add --run-label init --dataset-name sim_dataset_v1 --subset-name ex2\n",
      "      at commit 6535c7d6d7e8986037b68ac6516f460aeb53e26b\n",
      "    cmd: 'dvc_cmd in_original_add_init encfs_mount_and_run ../../../../../encrypt\n",
      "      ../../../../../decrypt_in_original_add_init_12d6bb635683_3497ddc9be6b ../../../../../decrypt_in_original_add_init_12d6bb635683_3497ddc9be6b/in/sim_dataset_v1/original/ex2/output/encfs_out_{MPI_RANK}.log\n",
      "      bash -c \"true --in-output ../../../../../decrypt_in_original_add_init_12d6bb635683_3497ddc9be6b/in/sim_dataset_v1/original/ex2/output\" '\n",
      "    outs:\n",
      "    - ../../../../../encrypt/in/sim_dataset_v1/original/ex2/output\n",
      "    - output\n",
      "    frozen: true\n"
     ]
    }
   ],
   "source": [
    "!cat config/in/sim_dataset_v1/original/ex2/dvc.yaml"
   ]
  },
  {
   "cell_type": "markdown",
   "id": "cfa0a293-c0f9-4390-959c-8a681d4d3baa",
   "metadata": {},
   "source": [
    "We now populate this dataset repository with input data that we generate randomly here, even though it could be downloaded from a remote source. As this will be encrypted data, we have to run `dd` that generates this data in an environment managed by EncFS, which is achieved by wrapping the command with `encfs_mount_and_run`. "
   ]
  },
  {
   "cell_type": "code",
   "execution_count": 11,
   "id": "61fa28d0-9aa6-4847-aa0d-53f40385ccba",
   "metadata": {},
   "outputs": [],
   "source": [
    "%%bash\n",
    "encfs_mount_and_run encrypt ${ENCFS_DECRYPT_DIR} ${ENCFS_DECRYPT_DIR}/in/sim_dataset_v1/original/ex2/output/encfs_out.log \\\n",
    "    dd if=/dev/urandom of=${ENCFS_DECRYPT_DIR}/in/sim_dataset_v1/original/ex2/output/sim_in.dat bs=4k iflag=fullblock,count_bytes count=$((10**7)) \\\n",
    "    > config/in/sim_dataset_v1/original/ex2/output/dvc_stage_out.log"
   ]
  },
  {
   "cell_type": "markdown",
   "id": "ca043ea7-dfb2-4d87-9873-9160eace6252",
   "metadata": {},
   "source": [
    "We can inspect the logs of the outer command, that is of `encfs_mount_and_run`, which we capture in the file `dvc_stage_out.log`."
   ]
  },
  {
   "cell_type": "code",
   "execution_count": 12,
   "id": "34135337-9d40-4b78-a192-44eb71cdbc69",
   "metadata": {},
   "outputs": [
    {
     "name": "stdout",
     "output_type": "stream",
     "text": [
      "encfs_mount_and_run[encrypt->decrypt_3497ddc9be6b]: Unable to determine local MPI rank - assuming to run in non-distributed mode (as a single process).\n",
      "encfs_mount_and_run[encrypt->decrypt_3497ddc9be6b]: Rank 0 on ThinkPad-X1: Running encfs-mount at /home/lukasd/src/mitraccel/async-encfs-dvc/examples/data/v1/decrypt_3497ddc9be6b.\n",
      "encfs_mount_and_run[encrypt->decrypt_3497ddc9be6b]: total 4.0K\n",
      "drwxrwxr-x 3 lukasd lukasd 4.0K Jul 31 11:47 in\n",
      "encfs_mount_and_run[encrypt->decrypt_3497ddc9be6b]: Rank 0 on ThinkPad-X1: Successfully mounted encfs-dir at /home/lukasd/src/mitraccel/async-encfs-dvc/examples/data/v1/decrypt_3497ddc9be6b and wrote to sync-file /home/lukasd/src/mitraccel/async-encfs-dvc/examples/data/v1/encrypt/.decrypt_3497ddc9be6b_ThinkPad-X1_local_sync - starting encfs-job\n",
      "encfs_mount_and_run[encrypt->decrypt_3497ddc9be6b]: Rank 0 on ThinkPad-X1: encfs-job completed.\n",
      "encfs_mount_and_run[encrypt->decrypt_3497ddc9be6b]: Rank 0 on ThinkPad-X1: sync-file content is 0 - entering wait-loop.\n",
      "encfs_mount_and_run[encrypt->decrypt_3497ddc9be6b]: Rank 0 on ThinkPad-X1: sync-file content is 0 - all local ranks finished encfs-job, unmounting encfs.\n",
      "encfs_mount_and_run[encrypt->decrypt_3497ddc9be6b]: Filesystem unmounting: /home/lukasd/src/mitraccel/async-encfs-dvc/examples/data/v1/decrypt_3497ddc9be6b\n"
     ]
    }
   ],
   "source": [
    "!cat config/in/sim_dataset_v1/original/ex2/output/dvc_stage_out.log"
   ]
  },
  {
   "cell_type": "markdown",
   "id": "47079eb8-0edb-4f9f-95d2-545a41651a02",
   "metadata": {},
   "source": [
    "These logs are unencrypted and do not leak any details on the application inside the EncFS-environment. The application logs are captured separately in the encrypted file `encfs_out.log`. To inspect it, we need to mount a decrypted view of `encrypt`. In a typical session, a user would launch EncFS in the foreground on a another terminal using\n",
    "```shell\n",
    "encfs_launch\n",
    "```\n",
    "and then access the decrypted data here. However, *exclusively* for the purpose of this notebook, we will copy the decrypted data to an unencrypted location to inspect it outside of EncFS. We emphasize that this is only for demonstration purposes and confidential data should *never* be handled in that manner."
   ]
  },
  {
   "cell_type": "code",
   "execution_count": 13,
   "id": "8b24fd1f-da42-4658-85a7-de18cb4e2898",
   "metadata": {},
   "outputs": [
    {
     "name": "stdout",
     "output_type": "stream",
     "text": [
      "2441+1 records in\n",
      "2441+1 records out\n",
      "10000000 bytes (10 MB, 9.5 MiB) copied, 0.171129 s, 58.4 MB/s\n"
     ]
    }
   ],
   "source": [
    "%%bash\n",
    "encfs_mount_and_run encrypt ${ENCFS_DECRYPT_DIR} /dev/null cp ${ENCFS_DECRYPT_DIR}/in/sim_dataset_v1/original/ex2/output/encfs_out.log encfs_out.log >/dev/null\n",
    "cat encfs_out.log\n",
    "rm encfs_out.log"
   ]
  },
  {
   "cell_type": "markdown",
   "id": "2af551d9-8c27-42d3-9c0c-ab1f7fac737a",
   "metadata": {},
   "source": [
    "To avoid logging the output of an EncFS-managed application to a file, you can supply `/dev/null` as a third parameter to `encfs_mount_and_run` as done here.\n",
    "\n",
    "Finally, we commit the newly added data to DVC as described in the manual preprocessing step for the training dataset in the ML tutorial."
   ]
  },
  {
   "cell_type": "code",
   "execution_count": 14,
   "id": "7564ba49-89bf-4d0c-b2e0-1ec824df756b",
   "metadata": {},
   "outputs": [
    {
     "name": "stdout",
     "output_type": "stream",
     "text": [
      "Generating lock file 'config/in/sim_dataset_v1/original/ex2/dvc.lock'           \n",
      "Updating lock file 'config/in/sim_dataset_v1/original/ex2/dvc.lock'\n",
      "\u001b[0m"
     ]
    }
   ],
   "source": [
    "!dvc commit --force config/in/sim_dataset_v1/original/ex2/dvc.yaml "
   ]
  },
  {
   "cell_type": "markdown",
   "id": "525a331d-ac6d-464a-805f-9ce38de6222e",
   "metadata": {},
   "source": [
    "The resulting file hierarchy looks as follows:"
   ]
  },
  {
   "cell_type": "code",
   "execution_count": 15,
   "id": "102870a6-3156-4b36-b72e-b368dca773e0",
   "metadata": {},
   "outputs": [
    {
     "name": "stdout",
     "output_type": "stream",
     "text": [
      "\u001b[01;34mencrypt\u001b[00m\n",
      "└── \u001b[01;34min\u001b[00m\n",
      "    └── \u001b[01;34msim_dataset_v1\u001b[00m\n",
      "        └── \u001b[01;34moriginal\u001b[00m\n",
      "            └── \u001b[01;34mex2\u001b[00m\n",
      "                └── \u001b[01;34moutput\u001b[00m\n",
      "                    ├── encfs_out.log\n",
      "                    └── sim_in.dat\n",
      "\u001b[01;34mconfig\u001b[00m\n",
      "└── \u001b[01;34min\u001b[00m\n",
      "    └── \u001b[01;34msim_dataset_v1\u001b[00m\n",
      "        └── \u001b[01;34moriginal\u001b[00m\n",
      "            └── \u001b[01;34mex2\u001b[00m\n",
      "                ├── dvc_app.yaml\n",
      "                ├── dvc.lock\n",
      "                ├── dvc.yaml\n",
      "                └── \u001b[01;34moutput\u001b[00m\n",
      "                    └── dvc_stage_out.log\n",
      "\n",
      "10 directories, 6 files\n"
     ]
    }
   ],
   "source": [
    "!tree encrypt config"
   ]
  },
  {
   "cell_type": "markdown",
   "id": "162c3900-edd2-4cb0-8fb1-1fcba605624a",
   "metadata": {},
   "source": [
    "Before moving to the definition of preprocessing stages, we define execution labels based on timestamps for the subsequent DVC stages. In a real-world application, the timestamps would usually be generated on the fly when creating the DVC stage."
   ]
  },
  {
   "cell_type": "code",
   "execution_count": 16,
   "id": "cae5a9cc-eee6-4c68-b9fe-46e195a0619c",
   "metadata": {},
   "outputs": [
    {
     "name": "stdout",
     "output_type": "stream",
     "text": [
      "env: ETL_RUN_LABEL=ex2-20230714-083624\n",
      "env: SIM_0_RUN_LABEL=ex2-20230714-083812-0\n",
      "env: SIM_1_RUN_LABEL=ex2-20230714-083812-1\n",
      "env: SIM_2_RUN_LABEL=ex2-20230714-083812-2\n",
      "env: SIM_3_RUN_LABEL=ex2-20230714-083812-3\n"
     ]
    }
   ],
   "source": [
    "%env ETL_RUN_LABEL=ex2-20230714-083624\n",
    "%env SIM_0_RUN_LABEL=ex2-20230714-083812-0\n",
    "%env SIM_1_RUN_LABEL=ex2-20230714-083812-1\n",
    "%env SIM_2_RUN_LABEL=ex2-20230714-083812-2\n",
    "%env SIM_3_RUN_LABEL=ex2-20230714-083812-3"
   ]
  },
  {
   "cell_type": "markdown",
   "id": "47b9e318-748a-4d20-a90b-f352e23dcca7",
   "metadata": {},
   "source": [
    "## Constructing the preprocessing stage\n",
    "The next step involves setting up the preprocessing stage. For illustration purposes, we will use the same preprocessing application as in the ML repository tutorial."
   ]
  },
  {
   "cell_type": "code",
   "execution_count": 17,
   "id": "1c76eca4-4dd0-4b68-aeda-ed390736f72f",
   "metadata": {},
   "outputs": [
    {
     "name": "stdout",
     "output_type": "stream",
     "text": [
      "Not using SLURM or MPI in this DVC stage.\n",
      "Writing DVC stage to config/in/sim_dataset_v1/app_prep_v1/auto/ex2-20230714-083624\n",
      "Using encfs - don't forget to set ENCFS_PW_FILE/ENCFS_INSTALL_DIR when running 'dvc repro'.\n",
      "Added stage 'app_prep_v1_sim_ex2-20230714-083624' in 'dvc.yaml'       core\u001b[39m>\n",
      "\n",
      "To track the changes with git, run:\n",
      "\n",
      "\tgit add .gitignore dvc.yaml ../../../../../../encrypt/in/sim_dataset_v1/app_prep_v1/auto/ex2-20230714-083624/.gitignore\n",
      "\n",
      "To enable auto staging, run:\n",
      "\n",
      "\tdvc config core.autostage true\n",
      "\u001b[0m"
     ]
    }
   ],
   "source": [
    "!dvc_create_stage --app-yaml ../../app_prep/dvc_app.yaml --stage sim \\\n",
    "    --run-label ${ETL_RUN_LABEL} --input-etl ex2 --input-etl-file output/sim_in.dat"
   ]
  },
  {
   "cell_type": "code",
   "execution_count": 18,
   "id": "eb7c5ee8-f4cd-469e-bdf3-47cf2ed26db5",
   "metadata": {},
   "outputs": [
    {
     "name": "stdout",
     "output_type": "stream",
     "text": [
      "stages:\n",
      "  app_prep_v1_sim_ex2-20230714-083624:\n",
      "    desc: Generated with venv/bin/dvc_create_stage --app-yaml ../../app_prep/dvc_app.yaml\n",
      "      --stage sim --run-label ex2-20230714-083624 --input-etl ex2 --input-etl-file\n",
      "      output/sim_in.dat at commit 6535c7d6d7e8986037b68ac6516f460aeb53e26b\n",
      "    cmd: 'dvc_cmd app_prep_v1_sim_ex2-20230714-083624 encfs_mount_and_run ../../../../../../encrypt\n",
      "      ../../../../../../decrypt_app_prep_v1_sim_ex2-20230714-083624_1d604493207b_3497ddc9be6b\n",
      "      ../../../../../../decrypt_app_prep_v1_sim_ex2-20230714-083624_1d604493207b_3497ddc9be6b/in/sim_dataset_v1/app_prep_v1/auto/ex2-20230714-083624/output/encfs_out_{MPI_RANK}.log\n",
      "      bash -c \"$(git rev-parse --show-toplevel)/examples/app_prep/prep.sh --etl-input\n",
      "      ../../../../../../decrypt_app_prep_v1_sim_ex2-20230714-083624_1d604493207b_3497ddc9be6b/in/sim_dataset_v1/original/ex2/output/sim_in.dat\n",
      "      --etl-output ../../../../../../decrypt_app_prep_v1_sim_ex2-20230714-083624_1d604493207b_3497ddc9be6b/in/sim_dataset_v1/app_prep_v1/auto/ex2-20230714-083624/output\" '\n",
      "    deps:\n",
      "    - ../../../../../../encrypt/in/sim_dataset_v1/original/ex2\n",
      "    outs:\n",
      "    - ../../../../../../encrypt/in/sim_dataset_v1/app_prep_v1/auto/ex2-20230714-083624/output\n",
      "    - output\n"
     ]
    }
   ],
   "source": [
    "!cat config/in/sim_dataset_v1/app_prep_v1/auto/${ETL_RUN_LABEL}/dvc.yaml"
   ]
  },
  {
   "cell_type": "code",
   "execution_count": 19,
   "id": "03c44d08-1860-44c3-9642-302a92b032b1",
   "metadata": {},
   "outputs": [
    {
     "name": "stdout",
     "output_type": "stream",
     "text": [
      "\u001b[33mWARNING\u001b[39m: stage: 'config/in/sim_dataset_v1/original/ex2/dvc.yaml:in_original_add_init' is frozen. Its dependencies are not going to be reproduced.\n",
      "Stage 'config/in/sim_dataset_v1/original/ex2/dvc.yaml:in_original_add_init' didn't change, skipping\n",
      "Running stage 'config/in/sim_dataset_v1/app_prep_v1/auto/ex2-20230714-083624/dvc.yaml:app_prep_v1_sim_ex2-20230714-083624':\n",
      "> dvc_cmd app_prep_v1_sim_ex2-20230714-083624 encfs_mount_and_run ../../../../../../encrypt ../../../../../../decrypt_app_prep_v1_sim_ex2-20230714-083624_1d604493207b_3497ddc9be6b ../../../../../../decrypt_app_prep_v1_sim_ex2-20230714-083624_1d604493207b_3497ddc9be6b/in/sim_dataset_v1/app_prep_v1/auto/ex2-20230714-083624/output/encfs_out_{MPI_RANK}.log bash -c \"$(git rev-parse --show-toplevel)/examples/app_prep/prep.sh --etl-input ../../../../../../decrypt_app_prep_v1_sim_ex2-20230714-083624_1d604493207b_3497ddc9be6b/in/sim_dataset_v1/original/ex2/output/sim_in.dat --etl-output ../../../../../../decrypt_app_prep_v1_sim_ex2-20230714-083624_1d604493207b_3497ddc9be6b/in/sim_dataset_v1/app_prep_v1/auto/ex2-20230714-083624/output\" \n",
      "encfs_mount_and_run[../../../../../../encrypt->../../../../../../decrypt_app_prep_v1_sim_ex2-20230714-083624_1d604493207b_3497ddc9be6b]: Unable to determine local MPI rank - assuming to run in non-distributed mode (as a single process).\n",
      "encfs_mount_and_run[../../../../../../encrypt->../../../../../../decrypt_app_prep_v1_sim_ex2-20230714-083624_1d604493207b_3497ddc9be6b]: Rank 0 on ThinkPad-X1: Running encfs-mount at /home/lukasd/src/mitraccel/async-encfs-dvc/examples/data/v1/decrypt_app_prep_v1_sim_ex2-20230714-083624_1d604493207b_3497ddc9be6b.\n",
      "encfs_mount_and_run[../../../../../../encrypt->../../../../../../decrypt_app_prep_v1_sim_ex2-20230714-083624_1d604493207b_3497ddc9be6b]: total 4.0K\n",
      "drwxrwxr-x 3 lukasd lukasd 4.0K Jul 31 11:47 in\n",
      "encfs_mount_and_run[../../../../../../encrypt->../../../../../../decrypt_app_prep_v1_sim_ex2-20230714-083624_1d604493207b_3497ddc9be6b]: Rank 0 on ThinkPad-X1: Successfully mounted encfs-dir at /home/lukasd/src/mitraccel/async-encfs-dvc/examples/data/v1/decrypt_app_prep_v1_sim_ex2-20230714-083624_1d604493207b_3497ddc9be6b and wrote to sync-file /home/lukasd/src/mitraccel/async-encfs-dvc/examples/data/v1/encrypt/.decrypt_app_prep_v1_sim_ex2-20230714-083624_1d604493207b_3497ddc9be6b_ThinkPad-X1_local_sync - starting encfs-job\n",
      "encfs_mount_and_run[../../../../../../encrypt->../../../../../../decrypt_app_prep_v1_sim_ex2-20230714-083624_1d604493207b_3497ddc9be6b]: Rank 0 on ThinkPad-X1: encfs-job completed.\n",
      "encfs_mount_and_run[../../../../../../encrypt->../../../../../../decrypt_app_prep_v1_sim_ex2-20230714-083624_1d604493207b_3497ddc9be6b]: Rank 0 on ThinkPad-X1: sync-file content is 0 - entering wait-loop.\n",
      "encfs_mount_and_run[../../../../../../encrypt->../../../../../../decrypt_app_prep_v1_sim_ex2-20230714-083624_1d604493207b_3497ddc9be6b]: Rank 0 on ThinkPad-X1: sync-file content is 0 - all local ranks finished encfs-job, unmounting encfs.\n",
      "encfs_mount_and_run[../../../../../../encrypt->../../../../../../decrypt_app_prep_v1_sim_ex2-20230714-083624_1d604493207b_3497ddc9be6b]: Filesystem unmounting: /home/lukasd/src/mitraccel/async-encfs-dvc/examples/data/v1/decrypt_app_prep_v1_sim_ex2-20230714-083624_1d604493207b_3497ddc9be6b\n",
      "Generating lock file 'config/in/sim_dataset_v1/app_prep_v1/auto/ex2-20230714-083624/dvc.lock'\n",
      "Updating lock file 'config/in/sim_dataset_v1/app_prep_v1/auto/ex2-20230714-083624/dvc.lock'\n",
      "\n",
      "To track the changes with git, run:\n",
      "\n",
      "\tgit add config/in/sim_dataset_v1/app_prep_v1/auto/ex2-20230714-083624/dvc.lock\n",
      "\n",
      "To enable auto staging, run:\n",
      "\n",
      "\tdvc config core.autostage true\n",
      "Use `dvc push` to send your updates to remote storage.\n",
      "\u001b[0m"
     ]
    }
   ],
   "source": [
    "!dvc repro config/in/sim_dataset_v1/app_prep_v1/auto/${ETL_RUN_LABEL}/dvc.yaml"
   ]
  },
  {
   "cell_type": "markdown",
   "id": "e0d2b7db-30e3-4e11-8f86-7e83c234a56b",
   "metadata": {},
   "source": [
    "Execution can also be deferred to the simulation stages, where it will be triggered as a dependency."
   ]
  },
  {
   "cell_type": "markdown",
   "id": "22280d7e-cae3-4df3-8674-2201925fceeb",
   "metadata": {},
   "source": [
    "## Creating the simulation stages\n",
    "Lastly, we will establish a rudimentary structure for an iterative simulation workflow that utilizes the preprocessed data. A usual simulation comes with its own tunable parameters. For this purpose, one can use a file such as for hyperparameters in the machine learning tutorial. However, for brevity here we skip this step and assume that all parameters are passed through the command line.\n",
    "\n",
    "We are now ready to set up the simulation stages. Where necessary, we can obtain completion suggestions with `--show-opts`."
   ]
  },
  {
   "cell_type": "code",
   "execution_count": 20,
   "id": "c23763a0-4602-4932-895e-0967304ecb65",
   "metadata": {},
   "outputs": [
    {
     "name": "stdout",
     "output_type": "stream",
     "text": [
      "Added stage 'app_sim_v1_sim_dataset_v1_base_simulation_ex2-20230714-083812-0' in 'dvc.yaml'\n",
      "\n",
      "To track the changes with git, run:\n",
      "\n",
      "\tgit add dvc.yaml ../../../../../encrypt/app_sim_v1/sim_dataset_v1/simulation/ex2-20230714-083812-0/.gitignore .gitignore\n",
      "\n",
      "To enable auto staging, run:\n",
      "\n",
      "\tdvc config core.autostage true\n",
      "Warning: stage argument --input-simulation-file not set (using Jinja2 default in app YAML if not --strict-mode).\n",
      "Writing DVC stage to config/app_sim_v1/sim_dataset_v1/simulation/ex2-20230714-083812-0\n",
      "Using encfs - don't forget to set ENCFS_PW_FILE/ENCFS_INSTALL_DIR when running 'dvc repro'.\n"
     ]
    }
   ],
   "source": [
    "%%bash\n",
    "dvc_create_stage --app-yaml ../../app_sim/dvc_app_docker.yaml --stage base_simulation \\\n",
    "  --run-label ${SIM_0_RUN_LABEL} \\\n",
    "  --input-simulation ${ETL_RUN_LABEL} \\\n",
    "  --simulation-output-file-num-per-rank 3 \\\n",
    "  --simulation-output-file-size $((10**6 * 2**0 / 3))"
   ]
  },
  {
   "cell_type": "markdown",
   "id": "894ddb9c-4b3d-4916-9891-28fd8227816b",
   "metadata": {},
   "source": [
    "The `dvc.yaml` file takes the form"
   ]
  },
  {
   "cell_type": "code",
   "execution_count": 21,
   "id": "e4e775da-5ae0-4879-8ff6-ad45949f94d7",
   "metadata": {},
   "outputs": [
    {
     "name": "stdout",
     "output_type": "stream",
     "text": [
      "stages:\n",
      "  app_sim_v1_sim_dataset_v1_base_simulation_ex2-20230714-083812-0:\n",
      "    desc: Generated with venv/bin/dvc_create_stage --app-yaml ../../app_sim/dvc_app_docker.yaml\n",
      "      --stage base_simulation --run-label ex2-20230714-083812-0 --input-simulation\n",
      "      ex2-20230714-083624 --simulation-output-file-num-per-rank 3 --simulation-output-file-size\n",
      "      333333 at commit 6535c7d6d7e8986037b68ac6516f460aeb53e26b\n",
      "    cmd: 'dvc_cmd app_sim_v1_sim_dataset_v1_base_simulation_ex2-20230714-083812-0\n",
      "      encfs_mount_and_run ../../../../../encrypt ../../../../../decrypt_app_sim_v1_sim_dataset_v1_base_simulation_ex2-20230714-083812-0_b8eaaec1281c_3497ddc9be6b\n",
      "      ../../../../../decrypt_app_sim_v1_sim_dataset_v1_base_simulation_ex2-20230714-083812-0_b8eaaec1281c_3497ddc9be6b/app_sim_v1/sim_dataset_v1/simulation/ex2-20230714-083812-0/output/encfs_out_{MPI_RANK}.log\n",
      "      docker run --rm -v \"$(realpath ../../../../../decrypt_app_sim_v1_sim_dataset_v1_base_simulation_ex2-20230714-083812-0_b8eaaec1281c_3497ddc9be6b)\":\"/app-data\"  --entrypoint\n",
      "      bash load/async-encfs-dvc/app_sim -c \"time mpiexec -np 2 /src/app/simulation.sh\n",
      "      --simulation-input /app-data/in/sim_dataset_v1/app_prep_v1/auto/ex2-20230714-083624/output\n",
      "      --simulation-output /app-data/app_sim_v1/sim_dataset_v1/simulation/ex2-20230714-083812-0/output\n",
      "      --simulation-output-file-num-per-rank 3 --simulation-output-file-size 333333\" '\n",
      "    deps:\n",
      "    - ../../../../../encrypt/in/sim_dataset_v1/app_prep_v1/auto/ex2-20230714-083624/output\n",
      "    outs:\n",
      "    - ../../../../../encrypt/app_sim_v1/sim_dataset_v1/simulation/ex2-20230714-083812-0/output\n",
      "    - output\n"
     ]
    }
   ],
   "source": [
    "!cat config/app_sim_v1/sim_dataset_v1/simulation/${SIM_0_RUN_LABEL}/dvc.yaml"
   ]
  },
  {
   "cell_type": "code",
   "execution_count": 22,
   "id": "53bcd052-689a-44d4-9857-9eff05a9313a",
   "metadata": {},
   "outputs": [
    {
     "name": "stdout",
     "output_type": "stream",
     "text": [
      "Added stage 'app_sim_v1_sim_dataset_v1_simulation_ex2-20230714-083812-1' in 'dvc.yaml'\n",
      "\n",
      "To track the changes with git, run:\n",
      "\n",
      "\tgit add ../../../../../encrypt/app_sim_v1/sim_dataset_v1/simulation/ex2-20230714-083812-1/.gitignore .gitignore dvc.yaml\n",
      "\n",
      "To enable auto staging, run:\n",
      "\n",
      "\tdvc config core.autostage true\n",
      "Warning: stage argument --input-simulation-file not set (using Jinja2 default in app YAML if not --strict-mode).\n",
      "Writing DVC stage to config/app_sim_v1/sim_dataset_v1/simulation/ex2-20230714-083812-1\n",
      "Using encfs - don't forget to set ENCFS_PW_FILE/ENCFS_INSTALL_DIR when running 'dvc repro'.\n"
     ]
    }
   ],
   "source": [
    "%%bash\n",
    "dvc_create_stage --app-yaml ../../app_sim/dvc_app_docker.yaml --stage simulation \\\n",
    "  --run-label ${SIM_1_RUN_LABEL} \\\n",
    "  --input-simulation ${SIM_0_RUN_LABEL} \\\n",
    "  --simulation-output-file-num-per-rank 3 \\\n",
    "  --simulation-output-file-size $((10**6 * 2**1 / 3))"
   ]
  },
  {
   "cell_type": "code",
   "execution_count": 23,
   "id": "c7bdaf91-e57b-4873-a2e3-1e28fff75274",
   "metadata": {},
   "outputs": [
    {
     "name": "stdout",
     "output_type": "stream",
     "text": [
      "Added stage 'app_sim_v1_sim_dataset_v1_simulation_ex2-20230714-083812-2' in 'dvc.yaml'\n",
      "\n",
      "To track the changes with git, run:\n",
      "\n",
      "\tgit add .gitignore dvc.yaml ../../../../../encrypt/app_sim_v1/sim_dataset_v1/simulation/ex2-20230714-083812-2/.gitignore\n",
      "\n",
      "To enable auto staging, run:\n",
      "\n",
      "\tdvc config core.autostage true\n",
      "Warning: stage argument --input-simulation-file not set (using Jinja2 default in app YAML if not --strict-mode).\n",
      "Writing DVC stage to config/app_sim_v1/sim_dataset_v1/simulation/ex2-20230714-083812-2\n",
      "Using encfs - don't forget to set ENCFS_PW_FILE/ENCFS_INSTALL_DIR when running 'dvc repro'.\n"
     ]
    }
   ],
   "source": [
    "%%bash\n",
    "dvc_create_stage --app-yaml ../../app_sim/dvc_app_docker.yaml --stage simulation \\\n",
    "  --run-label ${SIM_2_RUN_LABEL} \\\n",
    "  --input-simulation ${SIM_1_RUN_LABEL} \\\n",
    "  --simulation-output-file-num-per-rank 3 \\\n",
    "  --simulation-output-file-size $((10**6 * 2**2 / 3))"
   ]
  },
  {
   "cell_type": "code",
   "execution_count": 24,
   "id": "ac50ec09-28a8-44b8-98d8-cbc650cb16d9",
   "metadata": {},
   "outputs": [
    {
     "name": "stdout",
     "output_type": "stream",
     "text": [
      "Added stage 'app_sim_v1_sim_dataset_v1_simulation_ex2-20230714-083812-3' in 'dvc.yaml'\n",
      "\n",
      "To track the changes with git, run:\n",
      "\n",
      "\tgit add .gitignore ../../../../../encrypt/app_sim_v1/sim_dataset_v1/simulation/ex2-20230714-083812-3/.gitignore dvc.yaml\n",
      "\n",
      "To enable auto staging, run:\n",
      "\n",
      "\tdvc config core.autostage true\n",
      "Warning: stage argument --input-simulation-file not set (using Jinja2 default in app YAML if not --strict-mode).\n",
      "Writing DVC stage to config/app_sim_v1/sim_dataset_v1/simulation/ex2-20230714-083812-3\n",
      "Using encfs - don't forget to set ENCFS_PW_FILE/ENCFS_INSTALL_DIR when running 'dvc repro'.\n"
     ]
    }
   ],
   "source": [
    "%%bash\n",
    "dvc_create_stage --app-yaml ../../app_sim/dvc_app_docker.yaml --stage simulation \\\n",
    "  --run-label ${SIM_3_RUN_LABEL} \\\n",
    "  --input-simulation ${SIM_2_RUN_LABEL} \\\n",
    "  --simulation-output-file-num-per-rank 3 \\\n",
    "  --simulation-output-file-size $((10**6 * 2**3 / 3))"
   ]
  },
  {
   "cell_type": "code",
   "execution_count": 25,
   "id": "dd0c5007-9744-41ae-a8b6-01436985d5a5",
   "metadata": {},
   "outputs": [
    {
     "name": "stdout",
     "output_type": "stream",
     "text": [
      "\u001b[01;34mencrypt\u001b[00m\n",
      "├── \u001b[01;34mapp_sim_v1\u001b[00m\n",
      "│   └── \u001b[01;34msim_dataset_v1\u001b[00m\n",
      "│       └── \u001b[01;34msimulation\u001b[00m\n",
      "│           ├── \u001b[01;34mex2-20230714-083812-0\u001b[00m\n",
      "│           │   └── \u001b[01;34moutput\u001b[00m\n",
      "│           ├── \u001b[01;34mex2-20230714-083812-1\u001b[00m\n",
      "│           │   └── \u001b[01;34moutput\u001b[00m\n",
      "│           ├── \u001b[01;34mex2-20230714-083812-2\u001b[00m\n",
      "│           │   └── \u001b[01;34moutput\u001b[00m\n",
      "│           └── \u001b[01;34mex2-20230714-083812-3\u001b[00m\n",
      "│               └── \u001b[01;34moutput\u001b[00m\n",
      "└── \u001b[01;34min\u001b[00m\n",
      "    └── \u001b[01;34msim_dataset_v1\u001b[00m\n",
      "        ├── \u001b[01;34mapp_prep_v1\u001b[00m\n",
      "        │   └── \u001b[01;34mauto\u001b[00m\n",
      "        │       └── \u001b[01;34mex2-20230714-083624\u001b[00m\n",
      "        │           └── \u001b[01;34moutput\u001b[00m\n",
      "        │               ├── encfs_out_0.log\n",
      "        │               └── sim_in.dat\n",
      "        └── \u001b[01;34moriginal\u001b[00m\n",
      "            └── \u001b[01;34mex2\u001b[00m\n",
      "                └── \u001b[01;34moutput\u001b[00m\n",
      "                    ├── encfs_out.log\n",
      "                    └── sim_in.dat\n",
      "\u001b[01;34mconfig\u001b[00m\n",
      "├── \u001b[01;34mapp_sim_v1\u001b[00m\n",
      "│   └── \u001b[01;34msim_dataset_v1\u001b[00m\n",
      "│       └── \u001b[01;34msimulation\u001b[00m\n",
      "│           ├── \u001b[01;34mex2-20230714-083812-0\u001b[00m\n",
      "│           │   ├── dvc_app_docker.yaml\n",
      "│           │   ├── dvc.yaml\n",
      "│           │   └── \u001b[01;34moutput\u001b[00m\n",
      "│           ├── \u001b[01;34mex2-20230714-083812-1\u001b[00m\n",
      "│           │   ├── dvc_app_docker.yaml\n",
      "│           │   ├── dvc.yaml\n",
      "│           │   └── \u001b[01;34moutput\u001b[00m\n",
      "│           ├── \u001b[01;34mex2-20230714-083812-2\u001b[00m\n",
      "│           │   ├── dvc_app_docker.yaml\n",
      "│           │   ├── dvc.yaml\n",
      "│           │   └── \u001b[01;34moutput\u001b[00m\n",
      "│           └── \u001b[01;34mex2-20230714-083812-3\u001b[00m\n",
      "│               ├── dvc_app_docker.yaml\n",
      "│               ├── dvc.yaml\n",
      "│               └── \u001b[01;34moutput\u001b[00m\n",
      "└── \u001b[01;34min\u001b[00m\n",
      "    └── \u001b[01;34msim_dataset_v1\u001b[00m\n",
      "        ├── \u001b[01;34mapp_prep_v1\u001b[00m\n",
      "        │   └── \u001b[01;34mauto\u001b[00m\n",
      "        │       └── \u001b[01;34mex2-20230714-083624\u001b[00m\n",
      "        │           ├── dvc_app.yaml\n",
      "        │           ├── dvc.lock\n",
      "        │           ├── dvc.yaml\n",
      "        │           └── \u001b[01;34moutput\u001b[00m\n",
      "        │               └── dvc_stage_out.log\n",
      "        └── \u001b[01;34moriginal\u001b[00m\n",
      "            └── \u001b[01;34mex2\u001b[00m\n",
      "                ├── dvc_app.yaml\n",
      "                ├── dvc.lock\n",
      "                ├── dvc.yaml\n",
      "                └── \u001b[01;34moutput\u001b[00m\n",
      "                    └── dvc_stage_out.log\n",
      "\n",
      "40 directories, 20 files\n"
     ]
    }
   ],
   "source": [
    "!tree encrypt config"
   ]
  },
  {
   "cell_type": "markdown",
   "id": "b0b50a3d-a9e5-43a9-aff9-dcd44fa351a4",
   "metadata": {},
   "source": [
    "## Running the pipeline\n",
    "The stages can be inspected with:"
   ]
  },
  {
   "cell_type": "code",
   "execution_count": 26,
   "id": "1141181e-6424-4c28-86c0-6c729fa25dbd",
   "metadata": {},
   "outputs": [
    {
     "name": "stdout",
     "output_type": "stream",
     "text": [
      "strict digraph  {\n",
      "\"config/app_sim_v1/sim_dataset_v1/simulation/ex2-20230714-083812-0/dvc.yaml:app_sim_v1_sim_dataset_v1_base_simulation_ex2-20230714-083812-0\";\n",
      "\"config/app_sim_v1/sim_dataset_v1/simulation/ex2-20230714-083812-2/dvc.yaml:app_sim_v1_sim_dataset_v1_simulation_ex2-20230714-083812-2\";\n",
      "\"config/app_sim_v1/sim_dataset_v1/simulation/ex2-20230714-083812-3/dvc.yaml:app_sim_v1_sim_dataset_v1_simulation_ex2-20230714-083812-3\";\n",
      "\"config/app_sim_v1/sim_dataset_v1/simulation/ex2-20230714-083812-1/dvc.yaml:app_sim_v1_sim_dataset_v1_simulation_ex2-20230714-083812-1\";\n",
      "\"config/in/sim_dataset_v1/app_prep_v1/auto/ex2-20230714-083624/dvc.yaml:app_prep_v1_sim_ex2-20230714-083624\";\n",
      "\"config/in/sim_dataset_v1/original/ex2/dvc.yaml:in_original_add_init\";\n",
      "\"config/app_sim_v1/sim_dataset_v1/simulation/ex2-20230714-083812-0/dvc.yaml:app_sim_v1_sim_dataset_v1_base_simulation_ex2-20230714-083812-0\" -> \"config/app_sim_v1/sim_dataset_v1/simulation/ex2-20230714-083812-1/dvc.yaml:app_sim_v1_sim_dataset_v1_simulation_ex2-20230714-083812-1\";\n",
      "\"config/app_sim_v1/sim_dataset_v1/simulation/ex2-20230714-083812-2/dvc.yaml:app_sim_v1_sim_dataset_v1_simulation_ex2-20230714-083812-2\" -> \"config/app_sim_v1/sim_dataset_v1/simulation/ex2-20230714-083812-3/dvc.yaml:app_sim_v1_sim_dataset_v1_simulation_ex2-20230714-083812-3\";\n",
      "\"config/app_sim_v1/sim_dataset_v1/simulation/ex2-20230714-083812-1/dvc.yaml:app_sim_v1_sim_dataset_v1_simulation_ex2-20230714-083812-1\" -> \"config/app_sim_v1/sim_dataset_v1/simulation/ex2-20230714-083812-2/dvc.yaml:app_sim_v1_sim_dataset_v1_simulation_ex2-20230714-083812-2\";\n",
      "\"config/in/sim_dataset_v1/app_prep_v1/auto/ex2-20230714-083624/dvc.yaml:app_prep_v1_sim_ex2-20230714-083624\" -> \"config/app_sim_v1/sim_dataset_v1/simulation/ex2-20230714-083812-0/dvc.yaml:app_sim_v1_sim_dataset_v1_base_simulation_ex2-20230714-083812-0\";\n",
      "\"config/in/sim_dataset_v1/original/ex2/dvc.yaml:in_original_add_init\" -> \"config/in/sim_dataset_v1/app_prep_v1/auto/ex2-20230714-083624/dvc.yaml:app_prep_v1_sim_ex2-20230714-083624\";\n",
      "}\n",
      "\n"
     ]
    }
   ],
   "source": [
    "%%bash\n",
    "dvc dag --dot config/app_sim_v1/sim_dataset_v1/simulation/${SIM_3_RUN_LABEL}/dvc.yaml | tee config/app_sim_v1/sim_dataset_v1/simulation/${SIM_3_RUN_LABEL}/dvc_dag.dot\n",
    "if [[ $(command -v dot) ]]; then\n",
    "    dot -Tsvg config/app_sim_v1/sim_dataset_v1/simulation/${SIM_3_RUN_LABEL}/dvc_dag.dot > config/app_sim_v1/sim_dataset_v1/simulation/${SIM_3_RUN_LABEL}/dvc_dag.svg\n",
    "fi"
   ]
  },
  {
   "cell_type": "code",
   "execution_count": 27,
   "id": "587cc186-b78b-4df0-a900-713b4e4168b8",
   "metadata": {},
   "outputs": [
    {
     "data": {
      "image/svg+xml": [
       "<svg xmlns=\"http://www.w3.org/2000/svg\" xmlns:xlink=\"http://www.w3.org/1999/xlink\" width=\"1427pt\" height=\"404pt\" viewBox=\"0.00 0.00 1427.47 404.00\">\n",
       "<g id=\"graph0\" class=\"graph\" transform=\"scale(1 1) rotate(0) translate(4 400)\">\n",
       "<title>%3</title>\n",
       "<polygon fill=\"white\" stroke=\"transparent\" points=\"-4,4 -4,-400 1423.47,-400 1423.47,4 -4,4\"/>\n",
       "<!-- config/app_sim_v1/sim_dataset_v1/simulation/ex2&#45;20230714&#45;083812&#45;0/dvc.yaml:app_sim_v1_sim_dataset_v1_base_simulation_ex2&#45;20230714&#45;083812&#45;0 -->\n",
       "<g id=\"node1\" class=\"node\">\n",
       "<title>config/app_sim_v1/sim_dataset_v1/simulation/ex2-20230714-083812-0/dvc.yaml:app_sim_v1_sim_dataset_v1_base_simulation_ex2-20230714-083812-0</title>\n",
       "<ellipse fill=\"none\" stroke=\"black\" cx=\"709.74\" cy=\"-234\" rx=\"709.97\" ry=\"18\"/>\n",
       "<text text-anchor=\"middle\" x=\"709.74\" y=\"-230.3\" font-family=\"Times,serif\" font-size=\"14.00\">config/app_sim_v1/sim_dataset_v1/simulation/ex2-20230714-083812-0/dvc.yaml:app_sim_v1_sim_dataset_v1_base_simulation_ex2-20230714-083812-0</text>\n",
       "</g>\n",
       "<!-- config/app_sim_v1/sim_dataset_v1/simulation/ex2&#45;20230714&#45;083812&#45;1/dvc.yaml:app_sim_v1_sim_dataset_v1_simulation_ex2&#45;20230714&#45;083812&#45;1 -->\n",
       "<g id=\"node4\" class=\"node\">\n",
       "<title>config/app_sim_v1/sim_dataset_v1/simulation/ex2-20230714-083812-1/dvc.yaml:app_sim_v1_sim_dataset_v1_simulation_ex2-20230714-083812-1</title>\n",
       "<ellipse fill=\"none\" stroke=\"black\" cx=\"709.74\" cy=\"-162\" rx=\"683.98\" ry=\"18\"/>\n",
       "<text text-anchor=\"middle\" x=\"709.74\" y=\"-158.3\" font-family=\"Times,serif\" font-size=\"14.00\">config/app_sim_v1/sim_dataset_v1/simulation/ex2-20230714-083812-1/dvc.yaml:app_sim_v1_sim_dataset_v1_simulation_ex2-20230714-083812-1</text>\n",
       "</g>\n",
       "<!-- config/app_sim_v1/sim_dataset_v1/simulation/ex2&#45;20230714&#45;083812&#45;0/dvc.yaml:app_sim_v1_sim_dataset_v1_base_simulation_ex2&#45;20230714&#45;083812&#45;0&#45;&gt;config/app_sim_v1/sim_dataset_v1/simulation/ex2&#45;20230714&#45;083812&#45;1/dvc.yaml:app_sim_v1_sim_dataset_v1_simulation_ex2&#45;20230714&#45;083812&#45;1 -->\n",
       "<g id=\"edge1\" class=\"edge\">\n",
       "<title>config/app_sim_v1/sim_dataset_v1/simulation/ex2-20230714-083812-0/dvc.yaml:app_sim_v1_sim_dataset_v1_base_simulation_ex2-20230714-083812-0-&gt;config/app_sim_v1/sim_dataset_v1/simulation/ex2-20230714-083812-1/dvc.yaml:app_sim_v1_sim_dataset_v1_simulation_ex2-20230714-083812-1</title>\n",
       "<path fill=\"none\" stroke=\"black\" d=\"M709.74,-215.7C709.74,-207.98 709.74,-198.71 709.74,-190.11\"/>\n",
       "<polygon fill=\"black\" stroke=\"black\" points=\"713.24,-190.1 709.74,-180.1 706.24,-190.1 713.24,-190.1\"/>\n",
       "</g>\n",
       "<!-- config/app_sim_v1/sim_dataset_v1/simulation/ex2&#45;20230714&#45;083812&#45;2/dvc.yaml:app_sim_v1_sim_dataset_v1_simulation_ex2&#45;20230714&#45;083812&#45;2 -->\n",
       "<g id=\"node2\" class=\"node\">\n",
       "<title>config/app_sim_v1/sim_dataset_v1/simulation/ex2-20230714-083812-2/dvc.yaml:app_sim_v1_sim_dataset_v1_simulation_ex2-20230714-083812-2</title>\n",
       "<ellipse fill=\"none\" stroke=\"black\" cx=\"709.74\" cy=\"-90\" rx=\"683.98\" ry=\"18\"/>\n",
       "<text text-anchor=\"middle\" x=\"709.74\" y=\"-86.3\" font-family=\"Times,serif\" font-size=\"14.00\">config/app_sim_v1/sim_dataset_v1/simulation/ex2-20230714-083812-2/dvc.yaml:app_sim_v1_sim_dataset_v1_simulation_ex2-20230714-083812-2</text>\n",
       "</g>\n",
       "<!-- config/app_sim_v1/sim_dataset_v1/simulation/ex2&#45;20230714&#45;083812&#45;3/dvc.yaml:app_sim_v1_sim_dataset_v1_simulation_ex2&#45;20230714&#45;083812&#45;3 -->\n",
       "<g id=\"node3\" class=\"node\">\n",
       "<title>config/app_sim_v1/sim_dataset_v1/simulation/ex2-20230714-083812-3/dvc.yaml:app_sim_v1_sim_dataset_v1_simulation_ex2-20230714-083812-3</title>\n",
       "<ellipse fill=\"none\" stroke=\"black\" cx=\"709.74\" cy=\"-18\" rx=\"683.98\" ry=\"18\"/>\n",
       "<text text-anchor=\"middle\" x=\"709.74\" y=\"-14.3\" font-family=\"Times,serif\" font-size=\"14.00\">config/app_sim_v1/sim_dataset_v1/simulation/ex2-20230714-083812-3/dvc.yaml:app_sim_v1_sim_dataset_v1_simulation_ex2-20230714-083812-3</text>\n",
       "</g>\n",
       "<!-- config/app_sim_v1/sim_dataset_v1/simulation/ex2&#45;20230714&#45;083812&#45;2/dvc.yaml:app_sim_v1_sim_dataset_v1_simulation_ex2&#45;20230714&#45;083812&#45;2&#45;&gt;config/app_sim_v1/sim_dataset_v1/simulation/ex2&#45;20230714&#45;083812&#45;3/dvc.yaml:app_sim_v1_sim_dataset_v1_simulation_ex2&#45;20230714&#45;083812&#45;3 -->\n",
       "<g id=\"edge2\" class=\"edge\">\n",
       "<title>config/app_sim_v1/sim_dataset_v1/simulation/ex2-20230714-083812-2/dvc.yaml:app_sim_v1_sim_dataset_v1_simulation_ex2-20230714-083812-2-&gt;config/app_sim_v1/sim_dataset_v1/simulation/ex2-20230714-083812-3/dvc.yaml:app_sim_v1_sim_dataset_v1_simulation_ex2-20230714-083812-3</title>\n",
       "<path fill=\"none\" stroke=\"black\" d=\"M709.74,-71.7C709.74,-63.98 709.74,-54.71 709.74,-46.11\"/>\n",
       "<polygon fill=\"black\" stroke=\"black\" points=\"713.24,-46.1 709.74,-36.1 706.24,-46.1 713.24,-46.1\"/>\n",
       "</g>\n",
       "<!-- config/app_sim_v1/sim_dataset_v1/simulation/ex2&#45;20230714&#45;083812&#45;1/dvc.yaml:app_sim_v1_sim_dataset_v1_simulation_ex2&#45;20230714&#45;083812&#45;1&#45;&gt;config/app_sim_v1/sim_dataset_v1/simulation/ex2&#45;20230714&#45;083812&#45;2/dvc.yaml:app_sim_v1_sim_dataset_v1_simulation_ex2&#45;20230714&#45;083812&#45;2 -->\n",
       "<g id=\"edge3\" class=\"edge\">\n",
       "<title>config/app_sim_v1/sim_dataset_v1/simulation/ex2-20230714-083812-1/dvc.yaml:app_sim_v1_sim_dataset_v1_simulation_ex2-20230714-083812-1-&gt;config/app_sim_v1/sim_dataset_v1/simulation/ex2-20230714-083812-2/dvc.yaml:app_sim_v1_sim_dataset_v1_simulation_ex2-20230714-083812-2</title>\n",
       "<path fill=\"none\" stroke=\"black\" d=\"M709.74,-143.7C709.74,-135.98 709.74,-126.71 709.74,-118.11\"/>\n",
       "<polygon fill=\"black\" stroke=\"black\" points=\"713.24,-118.1 709.74,-108.1 706.24,-118.1 713.24,-118.1\"/>\n",
       "</g>\n",
       "<!-- config/in/sim_dataset_v1/app_prep_v1/auto/ex2&#45;20230714&#45;083624/dvc.yaml:app_prep_v1_sim_ex2&#45;20230714&#45;083624 -->\n",
       "<g id=\"node5\" class=\"node\">\n",
       "<title>config/in/sim_dataset_v1/app_prep_v1/auto/ex2-20230714-083624/dvc.yaml:app_prep_v1_sim_ex2-20230714-083624</title>\n",
       "<ellipse fill=\"none\" stroke=\"black\" cx=\"709.74\" cy=\"-306\" rx=\"551.6\" ry=\"18\"/>\n",
       "<text text-anchor=\"middle\" x=\"709.74\" y=\"-302.3\" font-family=\"Times,serif\" font-size=\"14.00\">config/in/sim_dataset_v1/app_prep_v1/auto/ex2-20230714-083624/dvc.yaml:app_prep_v1_sim_ex2-20230714-083624</text>\n",
       "</g>\n",
       "<!-- config/in/sim_dataset_v1/app_prep_v1/auto/ex2&#45;20230714&#45;083624/dvc.yaml:app_prep_v1_sim_ex2&#45;20230714&#45;083624&#45;&gt;config/app_sim_v1/sim_dataset_v1/simulation/ex2&#45;20230714&#45;083812&#45;0/dvc.yaml:app_sim_v1_sim_dataset_v1_base_simulation_ex2&#45;20230714&#45;083812&#45;0 -->\n",
       "<g id=\"edge4\" class=\"edge\">\n",
       "<title>config/in/sim_dataset_v1/app_prep_v1/auto/ex2-20230714-083624/dvc.yaml:app_prep_v1_sim_ex2-20230714-083624-&gt;config/app_sim_v1/sim_dataset_v1/simulation/ex2-20230714-083812-0/dvc.yaml:app_sim_v1_sim_dataset_v1_base_simulation_ex2-20230714-083812-0</title>\n",
       "<path fill=\"none\" stroke=\"black\" d=\"M709.74,-287.7C709.74,-279.98 709.74,-270.71 709.74,-262.11\"/>\n",
       "<polygon fill=\"black\" stroke=\"black\" points=\"713.24,-262.1 709.74,-252.1 706.24,-262.1 713.24,-262.1\"/>\n",
       "</g>\n",
       "<!-- config/in/sim_dataset_v1/original/ex2/dvc.yaml:in_original_add_init -->\n",
       "<g id=\"node6\" class=\"node\">\n",
       "<title>config/in/sim_dataset_v1/original/ex2/dvc.yaml:in_original_add_init</title>\n",
       "<ellipse fill=\"none\" stroke=\"black\" cx=\"709.74\" cy=\"-378\" rx=\"319.54\" ry=\"18\"/>\n",
       "<text text-anchor=\"middle\" x=\"709.74\" y=\"-374.3\" font-family=\"Times,serif\" font-size=\"14.00\">config/in/sim_dataset_v1/original/ex2/dvc.yaml:in_original_add_init</text>\n",
       "</g>\n",
       "<!-- config/in/sim_dataset_v1/original/ex2/dvc.yaml:in_original_add_init&#45;&gt;config/in/sim_dataset_v1/app_prep_v1/auto/ex2&#45;20230714&#45;083624/dvc.yaml:app_prep_v1_sim_ex2&#45;20230714&#45;083624 -->\n",
       "<g id=\"edge5\" class=\"edge\">\n",
       "<title>config/in/sim_dataset_v1/original/ex2/dvc.yaml:in_original_add_init-&gt;config/in/sim_dataset_v1/app_prep_v1/auto/ex2-20230714-083624/dvc.yaml:app_prep_v1_sim_ex2-20230714-083624</title>\n",
       "<path fill=\"none\" stroke=\"black\" d=\"M709.74,-359.7C709.74,-351.98 709.74,-342.71 709.74,-334.11\"/>\n",
       "<polygon fill=\"black\" stroke=\"black\" points=\"713.24,-334.1 709.74,-324.1 706.24,-334.1 713.24,-334.1\"/>\n",
       "</g>\n",
       "</g>\n",
       "</svg>"
      ],
      "text/plain": [
       "<IPython.core.display.SVG object>"
      ]
     },
     "metadata": {},
     "output_type": "display_data"
    }
   ],
   "source": [
    "dvc_dag_img = 'config/app_sim_v1/sim_dataset_v1/simulation/' + os.environ['SIM_3_RUN_LABEL'] + '/dvc_dag.svg'  # test_encfs_sim_tutorial: skip\n",
    "if os.path.exists(dvc_dag_img):  # test_encfs_sim_tutorial: skip\n",
    "    display(SVG(filename=dvc_dag_img))  # test_encfs_sim_tutorial: skip"
   ]
  },
  {
   "cell_type": "markdown",
   "id": "5093f914-a50b-4ee0-b94e-579cf8ec5c82",
   "metadata": {},
   "source": [
    "And finally executed with:"
   ]
  },
  {
   "cell_type": "code",
   "execution_count": 28,
   "id": "8dec8894-90c8-432a-876c-443a77333032",
   "metadata": {},
   "outputs": [
    {
     "name": "stdout",
     "output_type": "stream",
     "text": [
      "\u001b[33mWARNING\u001b[39m: stage: 'config/in/sim_dataset_v1/original/ex2/dvc.yaml:in_original_add_init' is frozen. Its dependencies are not going to be reproduced.\n",
      "Stage 'config/in/sim_dataset_v1/original/ex2/dvc.yaml:in_original_add_init' didn't change, skipping\n",
      "Stage 'config/in/sim_dataset_v1/app_prep_v1/auto/ex2-20230714-083624/dvc.yaml:app_prep_v1_sim_ex2-20230714-083624' didn't change, skipping\n",
      "Running stage 'config/app_sim_v1/sim_dataset_v1/simulation/ex2-20230714-083812-0/dvc.yaml:app_sim_v1_sim_dataset_v1_base_simulation_ex2-20230714-083812-0':\n",
      "> dvc_cmd app_sim_v1_sim_dataset_v1_base_simulation_ex2-20230714-083812-0 encfs_mount_and_run ../../../../../encrypt ../../../../../decrypt_app_sim_v1_sim_dataset_v1_base_simulation_ex2-20230714-083812-0_b8eaaec1281c_3497ddc9be6b ../../../../../decrypt_app_sim_v1_sim_dataset_v1_base_simulation_ex2-20230714-083812-0_b8eaaec1281c_3497ddc9be6b/app_sim_v1/sim_dataset_v1/simulation/ex2-20230714-083812-0/output/encfs_out_{MPI_RANK}.log docker run --rm -v \"$(realpath ../../../../../decrypt_app_sim_v1_sim_dataset_v1_base_simulation_ex2-20230714-083812-0_b8eaaec1281c_3497ddc9be6b)\":\"/app-data\"  --entrypoint bash load/async-encfs-dvc/app_sim -c \"time mpiexec -np 2 /src/app/simulation.sh --simulation-input /app-data/in/sim_dataset_v1/app_prep_v1/auto/ex2-20230714-083624/output --simulation-output /app-data/app_sim_v1/sim_dataset_v1/simulation/ex2-20230714-083812-0/output --simulation-output-file-num-per-rank 3 --simulation-output-file-size 333333\" \n",
      "encfs_mount_and_run[../../../../../encrypt->../../../../../decrypt_app_sim_v1_sim_dataset_v1_base_simulation_ex2-20230714-083812-0_b8eaaec1281c_3497ddc9be6b]: Unable to determine local MPI rank - assuming to run in non-distributed mode (as a single process).\n",
      "encfs_mount_and_run[../../../../../encrypt->../../../../../decrypt_app_sim_v1_sim_dataset_v1_base_simulation_ex2-20230714-083812-0_b8eaaec1281c_3497ddc9be6b]: Rank 0 on ThinkPad-X1: Running encfs-mount at /home/lukasd/src/mitraccel/async-encfs-dvc/examples/data/v1/decrypt_app_sim_v1_sim_dataset_v1_base_simulation_ex2-20230714-083812-0_b8eaaec1281c_3497ddc9be6b.\n",
      "encfs_mount_and_run[../../../../../encrypt->../../../../../decrypt_app_sim_v1_sim_dataset_v1_base_simulation_ex2-20230714-083812-0_b8eaaec1281c_3497ddc9be6b]: total 8.0K\n",
      "drwxrwxr-x 3 lukasd lukasd 4.0K Jul 31 11:47 app_sim_v1\n",
      "drwxrwxr-x 3 lukasd lukasd 4.0K Jul 31 11:47 in\n",
      "encfs_mount_and_run[../../../../../encrypt->../../../../../decrypt_app_sim_v1_sim_dataset_v1_base_simulation_ex2-20230714-083812-0_b8eaaec1281c_3497ddc9be6b]: Rank 0 on ThinkPad-X1: Successfully mounted encfs-dir at /home/lukasd/src/mitraccel/async-encfs-dvc/examples/data/v1/decrypt_app_sim_v1_sim_dataset_v1_base_simulation_ex2-20230714-083812-0_b8eaaec1281c_3497ddc9be6b and wrote to sync-file /home/lukasd/src/mitraccel/async-encfs-dvc/examples/data/v1/encrypt/.decrypt_app_sim_v1_sim_dataset_v1_base_simulation_ex2-20230714-083812-0_b8eaaec1281c_3497ddc9be6b_ThinkPad-X1_local_sync - starting encfs-job\n",
      "encfs_mount_and_run[../../../../../encrypt->../../../../../decrypt_app_sim_v1_sim_dataset_v1_base_simulation_ex2-20230714-083812-0_b8eaaec1281c_3497ddc9be6b]: Rank 0 on ThinkPad-X1: encfs-job completed.\n",
      "encfs_mount_and_run[../../../../../encrypt->../../../../../decrypt_app_sim_v1_sim_dataset_v1_base_simulation_ex2-20230714-083812-0_b8eaaec1281c_3497ddc9be6b]: Rank 0 on ThinkPad-X1: sync-file content is 0 - entering wait-loop.\n",
      "encfs_mount_and_run[../../../../../encrypt->../../../../../decrypt_app_sim_v1_sim_dataset_v1_base_simulation_ex2-20230714-083812-0_b8eaaec1281c_3497ddc9be6b]: Rank 0 on ThinkPad-X1: sync-file content is 0 - all local ranks finished encfs-job, unmounting encfs.\n",
      "encfs_mount_and_run[../../../../../encrypt->../../../../../decrypt_app_sim_v1_sim_dataset_v1_base_simulation_ex2-20230714-083812-0_b8eaaec1281c_3497ddc9be6b]: Filesystem unmounting: /home/lukasd/src/mitraccel/async-encfs-dvc/examples/data/v1/decrypt_app_sim_v1_sim_dataset_v1_base_simulation_ex2-20230714-083812-0_b8eaaec1281c_3497ddc9be6b\n",
      "Generating lock file 'config/app_sim_v1/sim_dataset_v1/simulation/ex2-20230714-083812-0/dvc.lock'\n",
      "Updating lock file 'config/app_sim_v1/sim_dataset_v1/simulation/ex2-20230714-083812-0/dvc.lock'\n",
      "\n",
      "Running stage 'config/app_sim_v1/sim_dataset_v1/simulation/ex2-20230714-083812-1/dvc.yaml:app_sim_v1_sim_dataset_v1_simulation_ex2-20230714-083812-1':\n",
      "> dvc_cmd app_sim_v1_sim_dataset_v1_simulation_ex2-20230714-083812-1 encfs_mount_and_run ../../../../../encrypt ../../../../../decrypt_app_sim_v1_sim_dataset_v1_simulation_ex2-20230714-083812-1_f23b2839f70c_3497ddc9be6b ../../../../../decrypt_app_sim_v1_sim_dataset_v1_simulation_ex2-20230714-083812-1_f23b2839f70c_3497ddc9be6b/app_sim_v1/sim_dataset_v1/simulation/ex2-20230714-083812-1/output/encfs_out_{MPI_RANK}.log docker run --rm -v \"$(realpath ../../../../../decrypt_app_sim_v1_sim_dataset_v1_simulation_ex2-20230714-083812-1_f23b2839f70c_3497ddc9be6b)\":\"/app-data\"  --entrypoint bash load/async-encfs-dvc/app_sim -c \"time mpiexec -np 2 /src/app/simulation.sh --simulation-input /app-data/app_sim_v1/sim_dataset_v1/simulation/ex2-20230714-083812-0/output --simulation-output /app-data/app_sim_v1/sim_dataset_v1/simulation/ex2-20230714-083812-1/output --simulation-output-file-num-per-rank 3 --simulation-output-file-size 666666\" \n",
      "encfs_mount_and_run[../../../../../encrypt->../../../../../decrypt_app_sim_v1_sim_dataset_v1_simulation_ex2-20230714-083812-1_f23b2839f70c_3497ddc9be6b]: Unable to determine local MPI rank - assuming to run in non-distributed mode (as a single process).\n",
      "encfs_mount_and_run[../../../../../encrypt->../../../../../decrypt_app_sim_v1_sim_dataset_v1_simulation_ex2-20230714-083812-1_f23b2839f70c_3497ddc9be6b]: Rank 0 on ThinkPad-X1: Running encfs-mount at /home/lukasd/src/mitraccel/async-encfs-dvc/examples/data/v1/decrypt_app_sim_v1_sim_dataset_v1_simulation_ex2-20230714-083812-1_f23b2839f70c_3497ddc9be6b.\n",
      "encfs_mount_and_run[../../../../../encrypt->../../../../../decrypt_app_sim_v1_sim_dataset_v1_simulation_ex2-20230714-083812-1_f23b2839f70c_3497ddc9be6b]: total 8.0K\n",
      "drwxrwxr-x 3 lukasd lukasd 4.0K Jul 31 11:47 app_sim_v1\n",
      "drwxrwxr-x 3 lukasd lukasd 4.0K Jul 31 11:47 in\n",
      "encfs_mount_and_run[../../../../../encrypt->../../../../../decrypt_app_sim_v1_sim_dataset_v1_simulation_ex2-20230714-083812-1_f23b2839f70c_3497ddc9be6b]: Rank 0 on ThinkPad-X1: Successfully mounted encfs-dir at /home/lukasd/src/mitraccel/async-encfs-dvc/examples/data/v1/decrypt_app_sim_v1_sim_dataset_v1_simulation_ex2-20230714-083812-1_f23b2839f70c_3497ddc9be6b and wrote to sync-file /home/lukasd/src/mitraccel/async-encfs-dvc/examples/data/v1/encrypt/.decrypt_app_sim_v1_sim_dataset_v1_simulation_ex2-20230714-083812-1_f23b2839f70c_3497ddc9be6b_ThinkPad-X1_local_sync - starting encfs-job\n",
      "encfs_mount_and_run[../../../../../encrypt->../../../../../decrypt_app_sim_v1_sim_dataset_v1_simulation_ex2-20230714-083812-1_f23b2839f70c_3497ddc9be6b]: Rank 0 on ThinkPad-X1: encfs-job completed.\n",
      "encfs_mount_and_run[../../../../../encrypt->../../../../../decrypt_app_sim_v1_sim_dataset_v1_simulation_ex2-20230714-083812-1_f23b2839f70c_3497ddc9be6b]: Rank 0 on ThinkPad-X1: sync-file content is 0 - entering wait-loop.\n",
      "encfs_mount_and_run[../../../../../encrypt->../../../../../decrypt_app_sim_v1_sim_dataset_v1_simulation_ex2-20230714-083812-1_f23b2839f70c_3497ddc9be6b]: Rank 0 on ThinkPad-X1: sync-file content is 0 - all local ranks finished encfs-job, unmounting encfs.\n",
      "encfs_mount_and_run[../../../../../encrypt->../../../../../decrypt_app_sim_v1_sim_dataset_v1_simulation_ex2-20230714-083812-1_f23b2839f70c_3497ddc9be6b]: Filesystem unmounting: /home/lukasd/src/mitraccel/async-encfs-dvc/examples/data/v1/decrypt_app_sim_v1_sim_dataset_v1_simulation_ex2-20230714-083812-1_f23b2839f70c_3497ddc9be6b\n",
      "Generating lock file 'config/app_sim_v1/sim_dataset_v1/simulation/ex2-20230714-083812-1/dvc.lock'\n",
      "Updating lock file 'config/app_sim_v1/sim_dataset_v1/simulation/ex2-20230714-083812-1/dvc.lock'\n",
      "\n",
      "Running stage 'config/app_sim_v1/sim_dataset_v1/simulation/ex2-20230714-083812-2/dvc.yaml:app_sim_v1_sim_dataset_v1_simulation_ex2-20230714-083812-2':\n",
      "> dvc_cmd app_sim_v1_sim_dataset_v1_simulation_ex2-20230714-083812-2 encfs_mount_and_run ../../../../../encrypt ../../../../../decrypt_app_sim_v1_sim_dataset_v1_simulation_ex2-20230714-083812-2_f9f408e24b78_3497ddc9be6b ../../../../../decrypt_app_sim_v1_sim_dataset_v1_simulation_ex2-20230714-083812-2_f9f408e24b78_3497ddc9be6b/app_sim_v1/sim_dataset_v1/simulation/ex2-20230714-083812-2/output/encfs_out_{MPI_RANK}.log docker run --rm -v \"$(realpath ../../../../../decrypt_app_sim_v1_sim_dataset_v1_simulation_ex2-20230714-083812-2_f9f408e24b78_3497ddc9be6b)\":\"/app-data\"  --entrypoint bash load/async-encfs-dvc/app_sim -c \"time mpiexec -np 2 /src/app/simulation.sh --simulation-input /app-data/app_sim_v1/sim_dataset_v1/simulation/ex2-20230714-083812-1/output --simulation-output /app-data/app_sim_v1/sim_dataset_v1/simulation/ex2-20230714-083812-2/output --simulation-output-file-num-per-rank 3 --simulation-output-file-size 1333333\" \n",
      "encfs_mount_and_run[../../../../../encrypt->../../../../../decrypt_app_sim_v1_sim_dataset_v1_simulation_ex2-20230714-083812-2_f9f408e24b78_3497ddc9be6b]: Unable to determine local MPI rank - assuming to run in non-distributed mode (as a single process).\n",
      "encfs_mount_and_run[../../../../../encrypt->../../../../../decrypt_app_sim_v1_sim_dataset_v1_simulation_ex2-20230714-083812-2_f9f408e24b78_3497ddc9be6b]: Rank 0 on ThinkPad-X1: Running encfs-mount at /home/lukasd/src/mitraccel/async-encfs-dvc/examples/data/v1/decrypt_app_sim_v1_sim_dataset_v1_simulation_ex2-20230714-083812-2_f9f408e24b78_3497ddc9be6b.\n",
      "encfs_mount_and_run[../../../../../encrypt->../../../../../decrypt_app_sim_v1_sim_dataset_v1_simulation_ex2-20230714-083812-2_f9f408e24b78_3497ddc9be6b]: total 8.0K\n",
      "drwxrwxr-x 3 lukasd lukasd 4.0K Jul 31 11:47 app_sim_v1\n",
      "drwxrwxr-x 3 lukasd lukasd 4.0K Jul 31 11:47 in\n",
      "encfs_mount_and_run[../../../../../encrypt->../../../../../decrypt_app_sim_v1_sim_dataset_v1_simulation_ex2-20230714-083812-2_f9f408e24b78_3497ddc9be6b]: Rank 0 on ThinkPad-X1: Successfully mounted encfs-dir at /home/lukasd/src/mitraccel/async-encfs-dvc/examples/data/v1/decrypt_app_sim_v1_sim_dataset_v1_simulation_ex2-20230714-083812-2_f9f408e24b78_3497ddc9be6b and wrote to sync-file /home/lukasd/src/mitraccel/async-encfs-dvc/examples/data/v1/encrypt/.decrypt_app_sim_v1_sim_dataset_v1_simulation_ex2-20230714-083812-2_f9f408e24b78_3497ddc9be6b_ThinkPad-X1_local_sync - starting encfs-job\n",
      "encfs_mount_and_run[../../../../../encrypt->../../../../../decrypt_app_sim_v1_sim_dataset_v1_simulation_ex2-20230714-083812-2_f9f408e24b78_3497ddc9be6b]: Rank 0 on ThinkPad-X1: encfs-job completed.\n",
      "encfs_mount_and_run[../../../../../encrypt->../../../../../decrypt_app_sim_v1_sim_dataset_v1_simulation_ex2-20230714-083812-2_f9f408e24b78_3497ddc9be6b]: Rank 0 on ThinkPad-X1: sync-file content is 0 - entering wait-loop.\n",
      "encfs_mount_and_run[../../../../../encrypt->../../../../../decrypt_app_sim_v1_sim_dataset_v1_simulation_ex2-20230714-083812-2_f9f408e24b78_3497ddc9be6b]: Rank 0 on ThinkPad-X1: sync-file content is 0 - all local ranks finished encfs-job, unmounting encfs.\n",
      "encfs_mount_and_run[../../../../../encrypt->../../../../../decrypt_app_sim_v1_sim_dataset_v1_simulation_ex2-20230714-083812-2_f9f408e24b78_3497ddc9be6b]: Filesystem unmounting: /home/lukasd/src/mitraccel/async-encfs-dvc/examples/data/v1/decrypt_app_sim_v1_sim_dataset_v1_simulation_ex2-20230714-083812-2_f9f408e24b78_3497ddc9be6b\n",
      "Generating lock file 'config/app_sim_v1/sim_dataset_v1/simulation/ex2-20230714-083812-2/dvc.lock'\n",
      "Updating lock file 'config/app_sim_v1/sim_dataset_v1/simulation/ex2-20230714-083812-2/dvc.lock'\n",
      "\n",
      "Running stage 'config/app_sim_v1/sim_dataset_v1/simulation/ex2-20230714-083812-3/dvc.yaml:app_sim_v1_sim_dataset_v1_simulation_ex2-20230714-083812-3':\n",
      "> dvc_cmd app_sim_v1_sim_dataset_v1_simulation_ex2-20230714-083812-3 encfs_mount_and_run ../../../../../encrypt ../../../../../decrypt_app_sim_v1_sim_dataset_v1_simulation_ex2-20230714-083812-3_f0aa05e5c171_3497ddc9be6b ../../../../../decrypt_app_sim_v1_sim_dataset_v1_simulation_ex2-20230714-083812-3_f0aa05e5c171_3497ddc9be6b/app_sim_v1/sim_dataset_v1/simulation/ex2-20230714-083812-3/output/encfs_out_{MPI_RANK}.log docker run --rm -v \"$(realpath ../../../../../decrypt_app_sim_v1_sim_dataset_v1_simulation_ex2-20230714-083812-3_f0aa05e5c171_3497ddc9be6b)\":\"/app-data\"  --entrypoint bash load/async-encfs-dvc/app_sim -c \"time mpiexec -np 2 /src/app/simulation.sh --simulation-input /app-data/app_sim_v1/sim_dataset_v1/simulation/ex2-20230714-083812-2/output --simulation-output /app-data/app_sim_v1/sim_dataset_v1/simulation/ex2-20230714-083812-3/output --simulation-output-file-num-per-rank 3 --simulation-output-file-size 2666666\" \n",
      "encfs_mount_and_run[../../../../../encrypt->../../../../../decrypt_app_sim_v1_sim_dataset_v1_simulation_ex2-20230714-083812-3_f0aa05e5c171_3497ddc9be6b]: Unable to determine local MPI rank - assuming to run in non-distributed mode (as a single process).\n",
      "encfs_mount_and_run[../../../../../encrypt->../../../../../decrypt_app_sim_v1_sim_dataset_v1_simulation_ex2-20230714-083812-3_f0aa05e5c171_3497ddc9be6b]: Rank 0 on ThinkPad-X1: Running encfs-mount at /home/lukasd/src/mitraccel/async-encfs-dvc/examples/data/v1/decrypt_app_sim_v1_sim_dataset_v1_simulation_ex2-20230714-083812-3_f0aa05e5c171_3497ddc9be6b.\n",
      "encfs_mount_and_run[../../../../../encrypt->../../../../../decrypt_app_sim_v1_sim_dataset_v1_simulation_ex2-20230714-083812-3_f0aa05e5c171_3497ddc9be6b]: total 8.0K\n",
      "drwxrwxr-x 3 lukasd lukasd 4.0K Jul 31 11:47 app_sim_v1\n",
      "drwxrwxr-x 3 lukasd lukasd 4.0K Jul 31 11:47 in\n",
      "encfs_mount_and_run[../../../../../encrypt->../../../../../decrypt_app_sim_v1_sim_dataset_v1_simulation_ex2-20230714-083812-3_f0aa05e5c171_3497ddc9be6b]: Rank 0 on ThinkPad-X1: Successfully mounted encfs-dir at /home/lukasd/src/mitraccel/async-encfs-dvc/examples/data/v1/decrypt_app_sim_v1_sim_dataset_v1_simulation_ex2-20230714-083812-3_f0aa05e5c171_3497ddc9be6b and wrote to sync-file /home/lukasd/src/mitraccel/async-encfs-dvc/examples/data/v1/encrypt/.decrypt_app_sim_v1_sim_dataset_v1_simulation_ex2-20230714-083812-3_f0aa05e5c171_3497ddc9be6b_ThinkPad-X1_local_sync - starting encfs-job\n",
      "encfs_mount_and_run[../../../../../encrypt->../../../../../decrypt_app_sim_v1_sim_dataset_v1_simulation_ex2-20230714-083812-3_f0aa05e5c171_3497ddc9be6b]: Rank 0 on ThinkPad-X1: encfs-job completed.\n",
      "encfs_mount_and_run[../../../../../encrypt->../../../../../decrypt_app_sim_v1_sim_dataset_v1_simulation_ex2-20230714-083812-3_f0aa05e5c171_3497ddc9be6b]: Rank 0 on ThinkPad-X1: sync-file content is 0 - entering wait-loop.\n",
      "encfs_mount_and_run[../../../../../encrypt->../../../../../decrypt_app_sim_v1_sim_dataset_v1_simulation_ex2-20230714-083812-3_f0aa05e5c171_3497ddc9be6b]: Rank 0 on ThinkPad-X1: sync-file content is 0 - all local ranks finished encfs-job, unmounting encfs.\n",
      "encfs_mount_and_run[../../../../../encrypt->../../../../../decrypt_app_sim_v1_sim_dataset_v1_simulation_ex2-20230714-083812-3_f0aa05e5c171_3497ddc9be6b]: Filesystem unmounting: /home/lukasd/src/mitraccel/async-encfs-dvc/examples/data/v1/decrypt_app_sim_v1_sim_dataset_v1_simulation_ex2-20230714-083812-3_f0aa05e5c171_3497ddc9be6b\n",
      "Generating lock file 'config/app_sim_v1/sim_dataset_v1/simulation/ex2-20230714-083812-3/dvc.lock'\n",
      "Updating lock file 'config/app_sim_v1/sim_dataset_v1/simulation/ex2-20230714-083812-3/dvc.lock'\n",
      "\n",
      "To track the changes with git, run:\n",
      "\n",
      "\tgit add config/app_sim_v1/sim_dataset_v1/simulation/ex2-20230714-083812-2/dvc.lock config/app_sim_v1/sim_dataset_v1/simulation/ex2-20230714-083812-1/dvc.lock config/app_sim_v1/sim_dataset_v1/simulation/ex2-20230714-083812-3/dvc.lock config/app_sim_v1/sim_dataset_v1/simulation/ex2-20230714-083812-0/dvc.lock\n",
      "\n",
      "To enable auto staging, run:\n",
      "\n",
      "\tdvc config core.autostage true\n",
      "Use `dvc push` to send your updates to remote storage.\n",
      "\u001b[0m"
     ]
    }
   ],
   "source": [
    "!dvc repro config/app_sim_v1/sim_dataset_v1/simulation/${SIM_3_RUN_LABEL}/dvc.yaml"
   ]
  },
  {
   "cell_type": "markdown",
   "id": "763bb5af",
   "metadata": {},
   "source": [
    "As described above, results can be inspected by running EncFS with `encfs_launch .dvc_policies/repo/dvc_root.yaml` from the DVC root directory in another terminal and then accessing the data through the `decrypt` directory."
   ]
  },
  {
   "cell_type": "code",
   "execution_count": 29,
   "id": "f456a0fe-49f4-42fb-a3de-61847c305369",
   "metadata": {},
   "outputs": [
    {
     "name": "stdout",
     "output_type": "stream",
     "text": [
      "\u001b[01;34mencrypt\u001b[00m\n",
      "├── \u001b[01;34mapp_sim_v1\u001b[00m\n",
      "│   └── \u001b[01;34msim_dataset_v1\u001b[00m\n",
      "│       └── \u001b[01;34msimulation\u001b[00m\n",
      "│           ├── \u001b[01;34mex2-20230714-083812-0\u001b[00m\n",
      "│           │   └── \u001b[01;34moutput\u001b[00m\n",
      "│           │       ├── encfs_out_0.log\n",
      "│           │       ├── sim.0.0.dat\n",
      "│           │       ├── sim.0.1.dat\n",
      "│           │       ├── sim.0.2.dat\n",
      "│           │       ├── sim.1.0.dat\n",
      "│           │       ├── sim.1.1.dat\n",
      "│           │       └── sim.1.2.dat\n",
      "│           ├── \u001b[01;34mex2-20230714-083812-1\u001b[00m\n",
      "│           │   └── \u001b[01;34moutput\u001b[00m\n",
      "│           │       ├── encfs_out_0.log\n",
      "│           │       ├── sim.0.0.dat\n",
      "│           │       ├── sim.0.1.dat\n",
      "│           │       ├── sim.0.2.dat\n",
      "│           │       ├── sim.1.0.dat\n",
      "│           │       ├── sim.1.1.dat\n",
      "│           │       └── sim.1.2.dat\n",
      "│           ├── \u001b[01;34mex2-20230714-083812-2\u001b[00m\n",
      "│           │   └── \u001b[01;34moutput\u001b[00m\n",
      "│           │       ├── encfs_out_0.log\n",
      "│           │       ├── sim.0.0.dat\n",
      "│           │       ├── sim.0.1.dat\n",
      "│           │       ├── sim.0.2.dat\n",
      "│           │       ├── sim.1.0.dat\n",
      "│           │       ├── sim.1.1.dat\n",
      "│           │       └── sim.1.2.dat\n",
      "│           └── \u001b[01;34mex2-20230714-083812-3\u001b[00m\n",
      "│               └── \u001b[01;34moutput\u001b[00m\n",
      "│                   ├── encfs_out_0.log\n",
      "│                   ├── sim.0.0.dat\n",
      "│                   ├── sim.0.1.dat\n",
      "│                   ├── sim.0.2.dat\n",
      "│                   ├── sim.1.0.dat\n",
      "│                   ├── sim.1.1.dat\n",
      "│                   └── sim.1.2.dat\n",
      "└── \u001b[01;34min\u001b[00m\n",
      "    └── \u001b[01;34msim_dataset_v1\u001b[00m\n",
      "        ├── \u001b[01;34mapp_prep_v1\u001b[00m\n",
      "        │   └── \u001b[01;34mauto\u001b[00m\n",
      "        │       └── \u001b[01;34mex2-20230714-083624\u001b[00m\n",
      "        │           └── \u001b[01;34moutput\u001b[00m\n",
      "        │               ├── encfs_out_0.log\n",
      "        │               └── sim_in.dat\n",
      "        └── \u001b[01;34moriginal\u001b[00m\n",
      "            └── \u001b[01;34mex2\u001b[00m\n",
      "                └── \u001b[01;34moutput\u001b[00m\n",
      "                    ├── encfs_out.log\n",
      "                    └── sim_in.dat\n",
      "\u001b[01;34mconfig\u001b[00m\n",
      "├── \u001b[01;34mapp_sim_v1\u001b[00m\n",
      "│   └── \u001b[01;34msim_dataset_v1\u001b[00m\n",
      "│       └── \u001b[01;34msimulation\u001b[00m\n",
      "│           ├── \u001b[01;34mex2-20230714-083812-0\u001b[00m\n",
      "│           │   ├── dvc_app_docker.yaml\n",
      "│           │   ├── dvc.lock\n",
      "│           │   ├── dvc.yaml\n",
      "│           │   └── \u001b[01;34moutput\u001b[00m\n",
      "│           │       └── dvc_stage_out.log\n",
      "│           ├── \u001b[01;34mex2-20230714-083812-1\u001b[00m\n",
      "│           │   ├── dvc_app_docker.yaml\n",
      "│           │   ├── dvc.lock\n",
      "│           │   ├── dvc.yaml\n",
      "│           │   └── \u001b[01;34moutput\u001b[00m\n",
      "│           │       └── dvc_stage_out.log\n",
      "│           ├── \u001b[01;34mex2-20230714-083812-2\u001b[00m\n",
      "│           │   ├── dvc_app_docker.yaml\n",
      "│           │   ├── dvc.lock\n",
      "│           │   ├── dvc.yaml\n",
      "│           │   └── \u001b[01;34moutput\u001b[00m\n",
      "│           │       └── dvc_stage_out.log\n",
      "│           └── \u001b[01;34mex2-20230714-083812-3\u001b[00m\n",
      "│               ├── dvc_app_docker.yaml\n",
      "│               ├── dvc_dag.dot\n",
      "│               ├── \u001b[01;35mdvc_dag.svg\u001b[00m\n",
      "│               ├── dvc.lock\n",
      "│               ├── dvc.yaml\n",
      "│               └── \u001b[01;34moutput\u001b[00m\n",
      "│                   └── dvc_stage_out.log\n",
      "└── \u001b[01;34min\u001b[00m\n",
      "    └── \u001b[01;34msim_dataset_v1\u001b[00m\n",
      "        ├── \u001b[01;34mapp_prep_v1\u001b[00m\n",
      "        │   └── \u001b[01;34mauto\u001b[00m\n",
      "        │       └── \u001b[01;34mex2-20230714-083624\u001b[00m\n",
      "        │           ├── dvc_app.yaml\n",
      "        │           ├── dvc.lock\n",
      "        │           ├── dvc.yaml\n",
      "        │           └── \u001b[01;34moutput\u001b[00m\n",
      "        │               └── dvc_stage_out.log\n",
      "        └── \u001b[01;34moriginal\u001b[00m\n",
      "            └── \u001b[01;34mex2\u001b[00m\n",
      "                ├── dvc_app.yaml\n",
      "                ├── dvc.lock\n",
      "                ├── dvc.yaml\n",
      "                └── \u001b[01;34moutput\u001b[00m\n",
      "                    └── dvc_stage_out.log\n",
      "\n",
      "40 directories, 58 files\n"
     ]
    }
   ],
   "source": [
    "!tree encrypt config"
   ]
  },
  {
   "cell_type": "code",
   "execution_count": null,
   "id": "71c6271c-3780-44c7-a73f-a72d22d5e5a1",
   "metadata": {},
   "outputs": [],
   "source": []
  }
 ],
 "metadata": {
  "kernelspec": {
   "display_name": "Python 3 (ipykernel)",
   "language": "python",
   "name": "python3"
  },
  "language_info": {
   "codemirror_mode": {
    "name": "ipython",
    "version": 3
   },
   "file_extension": ".py",
   "mimetype": "text/x-python",
   "name": "python",
   "nbconvert_exporter": "python",
   "pygments_lexer": "ipython3",
   "version": "3.8.10"
  }
 },
 "nbformat": 4,
 "nbformat_minor": 5
}
