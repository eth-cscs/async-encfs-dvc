{
 "cells": [
  {
   "cell_type": "markdown",
   "id": "2e1e3f1f-753d-462b-88bd-b31d918896c1",
   "metadata": {},
   "source": [
    "# Tutorial: Running DVC stages asynchronously with SLURM using EncFS and Sarus\n",
    "\n",
    "This guide shows how to configure app-policies to run an application in a SLURM cluster within [Sarus](https://products.cscs.ch/sarus/) containers while operating on encrypted data managed through EncFS. We focus on an asynchronous execution model as familiar from `sbatch`. That is when reproducing a stage, DVC will only be blocking during job submission to the SLURM queue, but not wait until the resources have been allocated, the job executed and the output data is available.\n",
    "\n",
    "Familiarity with the basic constructs such as how to construct a DVC repository with infrastructure-as-code techniques in the [tutorial for an ML repository](ml_tutorial.ipynb) and running [DVC stages on EncFS and Docker](encfs_sim_tutorial.ipynb) is assumed. We will use the same iterative simulation workflow as in the EncFS-tutorial as an example application. The key steps we will cover include:\n",
    "\n",
    " * Configure app-policies to run DVC stages on a SLURM cluster\n",
    " * Submit DVC stages that are asynchronously completed, committed and pushed to the SLURM queue\n",
    " * Monitor and control SLURM jobs corresponding to a DVC stage\n",
    "\n",
    "The integration of these features with support for containers and EncFS is seamless, i.e. a previously developed application using them can be configured without any invasive code changes to run on a SLURM cluster.\n",
    "\n",
    "As a prerequisite to this tutorial, you should have `encfs` installed as described in the [instructions](../async_encfs_dvc/encfs_int/README.md)."
   ]
  },
  {
   "cell_type": "markdown",
   "id": "f276f6c3-08cf-409b-b1e3-6e767e0e82db",
   "metadata": {},
   "source": [
    "## Initializing the DVC repository\n",
    "We first import the depencies for the tutorial."
   ]
  },
  {
   "cell_type": "code",
   "execution_count": 1,
   "id": "2af8552e-1d3e-4c31-b410-627b1de89fdc",
   "metadata": {},
   "outputs": [],
   "source": [
    "import os"
   ]
  },
  {
   "cell_type": "code",
   "execution_count": 2,
   "id": "5ac94128",
   "metadata": {},
   "outputs": [],
   "source": [
    "from IPython.display import SVG  # test_slurm_async_sim_tutorial: skip"
   ]
  },
  {
   "cell_type": "markdown",
   "id": "b65be096-eb8e-4d18-a2e2-858ea136b47b",
   "metadata": {},
   "source": [
    "Create a new directory `data/v2` for the DVC root and change to it."
   ]
  },
  {
   "cell_type": "code",
   "execution_count": 3,
   "id": "e6dd315e-6ab4-4e75-8a85-4056b09563ac",
   "metadata": {},
   "outputs": [],
   "source": [
    "os.chdir('data/v2')"
   ]
  },
  {
   "cell_type": "markdown",
   "id": "5823a232-0796-405f-af6d-ecda49add286",
   "metadata": {},
   "source": [
    "Initialize an `encfs` DVC repository using the command"
   ]
  },
  {
   "cell_type": "code",
   "execution_count": 4,
   "id": "878f12d8-3b44-40f4-8bd2-ffb2dd84fa2f",
   "metadata": {},
   "outputs": [
    {
     "name": "stdout",
     "output_type": "stream",
     "text": [
      "\u001b[34m2023-07-25 16:01:41,052\u001b[39m \u001b[34mDEBUG\u001b[39m: v0.1.dev8866+gd72e04c, CPython 3.9.4 on Linux-5.3.18-24.102-default-x86_64-with-glibc2.26\n",
      "\u001b[34m2023-07-25 16:01:41,052\u001b[39m \u001b[34mDEBUG\u001b[39m: command: /scratch/snx3000/lukasd/mitraccel/async-encfs-dvc/venv/bin/dvc init --subdir --verbose\n",
      "\u001b[34m2023-07-25 16:01:42,191\u001b[39m \u001b[34mDEBUG\u001b[39m: Added '/scratch/snx3000/lukasd/mitraccel/async-encfs-dvc/examples/data/v2/.dvc/config.local' to gitignore file.\n",
      "\u001b[34m2023-07-25 16:01:42,192\u001b[39m \u001b[34mDEBUG\u001b[39m: Added '/scratch/snx3000/lukasd/mitraccel/async-encfs-dvc/examples/data/v2/.dvc/tmp' to gitignore file.\n",
      "\u001b[34m2023-07-25 16:01:42,193\u001b[39m \u001b[34mDEBUG\u001b[39m: Added '/scratch/snx3000/lukasd/mitraccel/async-encfs-dvc/examples/data/v2/.dvc/cache' to gitignore file.\n",
      "\u001b[34m2023-07-25 16:01:42,194\u001b[39m \u001b[34mDEBUG\u001b[39m: Removing '/var/tmp/dvc/repo/61ef98c1ff5e4b884fd58ad9105a0120'\n",
      "\u001b[34m2023-07-25 16:01:42,435\u001b[39m \u001b[34mDEBUG\u001b[39m: Staging files: {'/scratch/snx3000/lukasd/mitraccel/async-encfs-dvc/examples/data/v2/.dvcignore', '/scratch/snx3000/lukasd/mitraccel/async-encfs-dvc/examples/data/v2/.dvc/config', '/scratch/snx3000/lukasd/mitraccel/async-encfs-dvc/examples/data/v2/.dvc/.gitignore'}\n",
      "Initialized DVC repository.\n",
      "\n",
      "You can now commit the changes to git.\n",
      "\n",
      "\u001b[34m2023-07-25 16:01:42,556\u001b[39m \u001b[34mDEBUG\u001b[39m: Analytics is enabled.\n",
      "\u001b[31m+---------------------------------------------------------------------+\n",
      "\u001b[0m\u001b[31m|\u001b[0m                                                                     \u001b[31m|\u001b[0m\n",
      "\u001b[31m|\u001b[0m        DVC has enabled anonymous aggregate usage analytics.         \u001b[31m|\u001b[0m\n",
      "\u001b[31m|\u001b[0m     Read the analytics documentation (and how to opt-out) here:     \u001b[31m|\u001b[0m\n",
      "\u001b[31m|\u001b[0m             <\u001b[36mhttps://dvc.org/doc/user-guide/analytics\u001b[39m>              \u001b[31m|\u001b[0m\n",
      "\u001b[31m|\u001b[0m                                                                     \u001b[31m|\u001b[0m\n",
      "\u001b[31m+---------------------------------------------------------------------+\n",
      "\u001b[0m\n",
      "\u001b[33mWhat's next?\u001b[39m\n",
      "\u001b[33m------------\u001b[39m\n",
      "- Check out the documentation: <\u001b[36mhttps://dvc.org/doc\u001b[39m>\n",
      "- Get help and share ideas: <\u001b[36mhttps://dvc.org/chat\u001b[39m>\n",
      "- Star us on GitHub: <\u001b[36mhttps://github.com/iterative/dvc\u001b[39m>\n",
      "\u001b[34m2023-07-25 16:01:42,559\u001b[39m \u001b[34mDEBUG\u001b[39m: Analytics is enabled.\n",
      "\u001b[34m2023-07-25 16:01:42,680\u001b[39m \u001b[34mDEBUG\u001b[39m: Trying to spawn '['daemon', '-q', 'analytics', '/tmp/tmptlp8ou2z']'\n",
      "\u001b[34m2023-07-25 16:01:42,682\u001b[39m \u001b[34mDEBUG\u001b[39m: Spawned '['daemon', '-q', 'analytics', '/tmp/tmptlp8ou2z']'\n",
      "\u001b[0m\u001b[0mInitialized DVC repo (encfs) and stage policies.\n"
     ]
    }
   ],
   "source": [
    "!dvc_init_repo . encfs"
   ]
  },
  {
   "cell_type": "markdown",
   "id": "cf0d1a24",
   "metadata": {},
   "source": [
    "As next step, EncFS needs to be configured, which can be achieved by running\n",
    "\n",
    "```shell\n",
    "${ENCFS_INSTALL_DIR}/bin/encfs -o allow_root,max_write=1048576,big_writes -f encrypt decrypt\n",
    "```\n",
    "as described in the [EncFS initialization instructions](../async_encfs_dvc/encfs_int/README.md).\n",
    "\n",
    "Here, only for the purpose of this tutorial, we use a pre-established configuration with a simple password. It is important that this is only for demonstration purposes - in practice always generate a **random** key and store it in a **safe location**!"
   ]
  },
  {
   "cell_type": "code",
   "execution_count": 5,
   "id": "5064a732",
   "metadata": {},
   "outputs": [],
   "source": [
    "%%bash\n",
    "echo 1234 > encfs_tutorial.key\n",
    "cp $(git rev-parse --show-toplevel)/examples/.encfs6.xml.tutorial encrypt/ && mv encrypt/.encfs6.xml.tutorial encrypt/.encfs6.xml"
   ]
  },
  {
   "cell_type": "markdown",
   "id": "e06397c8",
   "metadata": {},
   "source": [
    "At runtime, EncFS will read the password from a file. The location of that file is passed in an environment variable that has to be set when `dvc repro` is run on a stage or `encfs_launch` is used to e.g. inspect the encrypted data interactively."
   ]
  },
  {
   "cell_type": "code",
   "execution_count": 6,
   "id": "aa42666d",
   "metadata": {},
   "outputs": [],
   "source": [
    "os.environ['ENCFS_PW_FILE'] = os.path.realpath('encfs_tutorial.key')"
   ]
  },
  {
   "cell_type": "markdown",
   "id": "fd6e1e70-9135-4c7c-954f-af0c5b850341",
   "metadata": {},
   "source": [
    "The DVC repo has been initialized with repo and stage policies available under `.dvc_policies`."
   ]
  },
  {
   "cell_type": "code",
   "execution_count": 7,
   "id": "0d25ced6-1813-4891-895a-8963bb46a96d",
   "metadata": {},
   "outputs": [
    {
     "name": "stdout",
     "output_type": "stream",
     "text": [
      "\u001b[01;34m.dvc_policies\u001b[00m\n",
      "├── \u001b[01;34mrepo\u001b[00m\n",
      "│   └── dvc_root.yaml\n",
      "└── \u001b[01;34mstages\u001b[00m\n",
      "    ├── dvc_config.yaml\n",
      "    ├── dvc_etl.yaml\n",
      "    ├── dvc_in.yaml\n",
      "    ├── dvc_ml_inference.yaml\n",
      "    ├── dvc_ml_training.yaml\n",
      "    └── dvc_simulation.yaml\n",
      "\n",
      "2 directories, 7 files\n"
     ]
    }
   ],
   "source": [
    "!tree .dvc_policies"
   ]
  },
  {
   "cell_type": "markdown",
   "id": "0352c862",
   "metadata": {},
   "source": [
    "For the purpose of this tutorial, we will extract the paths of the encrypted directory and the mount target of EncFS into environment variables. This is not a necessary step to run DVC stages with EncFS, though."
   ]
  },
  {
   "cell_type": "code",
   "execution_count": 8,
   "id": "b6f5c805",
   "metadata": {},
   "outputs": [],
   "source": [
    "from async_encfs_dvc.encfs_int.mount_config import load_mount_config\n",
    "\n",
    "mount_config = [os.popen(f\"echo {d}\").read().strip() for d in  # evaluating shell exprs in paths\n",
    "                load_mount_config('.dvc_policies/repo/dvc_root.yaml')]\n",
    "\n",
    "os.environ['ENCFS_ENCRYPT_DIR'] = mount_config[0]  # encrypt (same on all hosts)\n",
    "os.environ['ENCFS_DECRYPT_DIR'] = mount_config[1]  # host-specific"
   ]
  },
  {
   "cell_type": "markdown",
   "id": "30c1eae6-bdeb-491c-a3dc-1d8ae82b6e6c",
   "metadata": {},
   "source": [
    "## Establishing the input dataset\n",
    "Our pipeline will be based on a dataset labeled `sim_dataset_v1` and thereof a specific subset `ex2` (label chosen arbitrarily). First, we create a DVC stage to track the encrypted input data. As `dvc add` on longer supports the `--file` option to locate the `.dvc` file in a different folder, we use a workaround with a frozen no-op stage analogous to the manual preprocessing step for the training dataset in the ML tutorial."
   ]
  },
  {
   "cell_type": "code",
   "execution_count": 9,
   "id": "06dd5611-cf31-4e6e-bab2-5307237c0824",
   "metadata": {},
   "outputs": [
    {
     "name": "stdout",
     "output_type": "stream",
     "text": [
      "Not using SLURM or MPI in this DVC stage.\n",
      "Writing DVC stage to config/in/sim_dataset_v1/original/ex2\n",
      "Using encfs - don't forget to set ENCFS_PW_FILE/ENCFS_INSTALL_DIR when running 'dvc repro'.\n",
      "Added stage 'in_original_add_23-07-25_16-01-44_daint101_lukasd' in 'dvc.yaml'9m>\n",
      "\n",
      "To track the changes with git, run:\n",
      "\n",
      "\tgit add dvc.yaml ../../../../../encrypt/in/sim_dataset_v1/original/ex2/.gitignore .gitignore\n",
      "\n",
      "To enable auto staging, run:\n",
      "\n",
      "\tdvc config core.autostage true\n",
      "\u001b[0mFreezing stage for execution outside dvc - run 'dvc commit in_original_add_23-07-25_16-01-44_daint101_lukasd' when outputs are done.\n",
      "Modifying stage 'in_original_add_23-07-25_16-01-44_daint101_lukasd' in 'dvc.yaml'\n",
      "\u001b[0m"
     ]
    }
   ],
   "source": [
    "!dvc_create_stage --app-yaml ../../in/dvc_app.yaml --stage add --dataset-name sim_dataset_v1 --subset-name ex2"
   ]
  },
  {
   "cell_type": "markdown",
   "id": "cfa0a293-c0f9-4390-959c-8a681d4d3baa",
   "metadata": {},
   "source": [
    "We now populate this dataset repository with input data that we generate randomly here, even though it could be downloaded from a remote source. As this will be encrypted data, we have to run `dd` that generates this data in an environment managed by EncFS, which is achieved by wrapping the command with `encfs_mount_and_run`. "
   ]
  },
  {
   "cell_type": "code",
   "execution_count": 10,
   "id": "61fa28d0-9aa6-4847-aa0d-53f40385ccba",
   "metadata": {},
   "outputs": [],
   "source": [
    "%%bash\n",
    "encfs_mount_and_run encrypt ${ENCFS_DECRYPT_DIR} ${ENCFS_DECRYPT_DIR}/in/sim_dataset_v1/original/ex2/output/encfs_out.log \\\n",
    "    dd if=/dev/urandom of=${ENCFS_DECRYPT_DIR}/in/sim_dataset_v1/original/ex2/output/sim_in.dat bs=4k iflag=fullblock,count_bytes count=$((10**7)) \\\n",
    "    > config/in/sim_dataset_v1/original/ex2/output/stage_out.log"
   ]
  },
  {
   "cell_type": "markdown",
   "id": "ca043ea7-dfb2-4d87-9873-9160eace6252",
   "metadata": {},
   "source": [
    "We can inspect the logs of the outer command, that is of `encfs_mount_and_run`, which we capture in the file `stage_out.log`."
   ]
  },
  {
   "cell_type": "code",
   "execution_count": 11,
   "id": "34135337-9d40-4b78-a192-44eb71cdbc69",
   "metadata": {},
   "outputs": [
    {
     "name": "stdout",
     "output_type": "stream",
     "text": [
      "encfs_mount_and_run[encrypt->/tmp/encfs_25680_async_encfs_dvc_ab9b828085d9]: Unable to determine local MPI rank - assuming to run in non-distributed mode (as a single process).\n",
      "encfs_mount_and_run[encrypt->/tmp/encfs_25680_async_encfs_dvc_ab9b828085d9]: Rank 0 on daint101: Running encfs-mount at /tmp/encfs_25680_async_encfs_dvc_ab9b828085d9.\n",
      "encfs_mount_and_run[encrypt->/tmp/encfs_25680_async_encfs_dvc_ab9b828085d9]: total 4.0K\n",
      "drwxr-xr-x 3 lukasd csstaff 4.0K 25. Jul 16:01 in\n",
      "encfs_mount_and_run[encrypt->/tmp/encfs_25680_async_encfs_dvc_ab9b828085d9]: Rank 0 on daint101: Successfully mounted encfs-dir at /tmp/encfs_25680_async_encfs_dvc_ab9b828085d9 and wrote to sync-file /scratch/snx3000/lukasd/mitraccel/async-encfs-dvc/examples/data/v2/encrypt/.encfs_25680_async_encfs_dvc_ab9b828085d9_daint101_local_sync - starting encfs-job\n",
      "encfs_mount_and_run[encrypt->/tmp/encfs_25680_async_encfs_dvc_ab9b828085d9]: Rank 0 on daint101: encfs-job completed.\n",
      "encfs_mount_and_run[encrypt->/tmp/encfs_25680_async_encfs_dvc_ab9b828085d9]: Rank 0 on daint101: sync-file content is 0 - entering wait-loop.\n",
      "encfs_mount_and_run[encrypt->/tmp/encfs_25680_async_encfs_dvc_ab9b828085d9]: Rank 0 on daint101: sync-file content is 0 - all local ranks finished encfs-job, unmounting encfs.\n",
      "encfs_mount_and_run[encrypt->/tmp/encfs_25680_async_encfs_dvc_ab9b828085d9]: Filesystem unmounting: /tmp/encfs_25680_async_encfs_dvc_ab9b828085d9\n"
     ]
    }
   ],
   "source": [
    "!cat config/in/sim_dataset_v1/original/ex2/output/stage_out.log"
   ]
  },
  {
   "cell_type": "markdown",
   "id": "47079eb8-0edb-4f9f-95d2-545a41651a02",
   "metadata": {},
   "source": [
    "These logs are unencrypted and do not leak any details on the application inside the EncFS-environment. The application logs are captured separately in the encrypted file `encfs_out.log`. To inspect it, we need to mount a decrypted view of `encrypt`. In a typical session, a user would launch EncFS in the foreground on a another terminal using\n",
    "```shell\n",
    "encfs_launch\n",
    "```\n",
    "and then access the decrypted data here. However, *exclusively* for the purpose of this notebook, we will copy the decrypted data to an unencrypted location to inspect it outside of EncFS. We emphasize that this is only for demonstration purposes and confidential data should *never* be handled in that manner."
   ]
  },
  {
   "cell_type": "code",
   "execution_count": 12,
   "id": "8b24fd1f-da42-4658-85a7-de18cb4e2898",
   "metadata": {},
   "outputs": [
    {
     "name": "stdout",
     "output_type": "stream",
     "text": [
      "2441+1 records in\n",
      "2441+1 records out\n",
      "10000000 bytes (10 MB, 9.5 MiB) copied, 0.47271 s, 21.2 MB/s\n"
     ]
    }
   ],
   "source": [
    "%%bash\n",
    "encfs_mount_and_run encrypt ${ENCFS_DECRYPT_DIR} /dev/null cp ${ENCFS_DECRYPT_DIR}/in/sim_dataset_v1/original/ex2/output/encfs_out.log encfs_out.log >/dev/null\n",
    "cat encfs_out.log\n",
    "rm encfs_out.log"
   ]
  },
  {
   "cell_type": "markdown",
   "id": "2af551d9-8c27-42d3-9c0c-ab1f7fac737a",
   "metadata": {},
   "source": [
    "To avoid logging the output of an EncFS-managed application to a file, you can supply `/dev/null` as a third parameter to `encfs_mount_and_run` as done here.\n",
    "\n",
    "Finally, we commit the newly added data to DVC as described in the manual preprocessing step for the training dataset in the ML tutorial."
   ]
  },
  {
   "cell_type": "code",
   "execution_count": 13,
   "id": "7564ba49-89bf-4d0c-b2e0-1ec824df756b",
   "metadata": {},
   "outputs": [
    {
     "name": "stdout",
     "output_type": "stream",
     "text": [
      "Generating lock file 'config/in/sim_dataset_v1/original/ex2/dvc.lock'           \n",
      "Updating lock file 'config/in/sim_dataset_v1/original/ex2/dvc.lock'\n",
      "\u001b[0m"
     ]
    }
   ],
   "source": [
    "!dvc commit --force config/in/sim_dataset_v1/original/ex2/dvc.yaml "
   ]
  },
  {
   "cell_type": "markdown",
   "id": "525a331d-ac6d-464a-805f-9ce38de6222e",
   "metadata": {},
   "source": [
    "The resulting file hierarchy looks as follows:"
   ]
  },
  {
   "cell_type": "code",
   "execution_count": 14,
   "id": "102870a6-3156-4b36-b72e-b368dca773e0",
   "metadata": {},
   "outputs": [
    {
     "name": "stdout",
     "output_type": "stream",
     "text": [
      "\u001b[01;34mencrypt/in\u001b[00m\n",
      "└── \u001b[01;34msim_dataset_v1\u001b[00m\n",
      "    └── \u001b[01;34moriginal\u001b[00m\n",
      "        └── \u001b[01;34mex2\u001b[00m\n",
      "            └── \u001b[01;34moutput\u001b[00m\n",
      "                ├── encfs_out.log\n",
      "                └── sim_in.dat\n",
      "\u001b[01;34mconfig\u001b[00m\n",
      "└── \u001b[01;34min\u001b[00m\n",
      "    └── \u001b[01;34msim_dataset_v1\u001b[00m\n",
      "        └── \u001b[01;34moriginal\u001b[00m\n",
      "            └── \u001b[01;34mex2\u001b[00m\n",
      "                ├── dvc_app.yaml\n",
      "                ├── dvc.lock\n",
      "                ├── dvc.yaml\n",
      "                └── \u001b[01;34moutput\u001b[00m\n",
      "                    └── stage_out.log\n",
      "\n",
      "9 directories, 6 files\n"
     ]
    }
   ],
   "source": [
    "!tree encrypt/in config"
   ]
  },
  {
   "cell_type": "markdown",
   "id": "162c3900-edd2-4cb0-8fb1-1fcba605624a",
   "metadata": {},
   "source": [
    "Before moving to the definition of preprocessing stages, we define execution labels based on timestamps for the subsequent DVC stages. In a real-world application, the timestamps would usually be generated on the fly when creating the DVC stage."
   ]
  },
  {
   "cell_type": "code",
   "execution_count": 15,
   "id": "cae5a9cc-eee6-4c68-b9fe-46e195a0619c",
   "metadata": {},
   "outputs": [
    {
     "name": "stdout",
     "output_type": "stream",
     "text": [
      "env: ETL_RUN_LABEL=ex2-20230714-083624\n",
      "env: SIM_0_RUN_LABEL=ex2-20230714-083812-0\n",
      "env: SIM_1_RUN_LABEL=ex2-20230714-083812-1\n",
      "env: SIM_2_RUN_LABEL=ex2-20230714-083812-2\n",
      "env: SIM_3_RUN_LABEL=ex2-20230714-083812-3\n"
     ]
    }
   ],
   "source": [
    "%env ETL_RUN_LABEL=ex2-20230714-083624\n",
    "%env SIM_0_RUN_LABEL=ex2-20230714-083812-0\n",
    "%env SIM_1_RUN_LABEL=ex2-20230714-083812-1\n",
    "%env SIM_2_RUN_LABEL=ex2-20230714-083812-2\n",
    "%env SIM_3_RUN_LABEL=ex2-20230714-083812-3"
   ]
  },
  {
   "cell_type": "markdown",
   "id": "47b9e318-748a-4d20-a90b-f352e23dcca7",
   "metadata": {},
   "source": [
    "## Constructing the preprocessing stage\n",
    "The next step involves setting up the preprocessing stage. For illustration purposes, we will use the same preprocessing application as in the ML repository tutorial. To simplify things, we do not run this step over SLURM yet, though this could be changed without difficulty."
   ]
  },
  {
   "cell_type": "code",
   "execution_count": 16,
   "id": "1c76eca4-4dd0-4b68-aeda-ed390736f72f",
   "metadata": {},
   "outputs": [
    {
     "name": "stdout",
     "output_type": "stream",
     "text": [
      "Added stage 'app_prep_v1_sim_ex2-20230714-083624' in 'dvc.yaml'\n",
      "\n",
      "To track the changes with git, run:\n",
      "\n",
      "\tgit add .gitignore ../../../../../../encrypt/in/sim_dataset_v1/app_prep_v1/auto/ex2-20230714-083624/.gitignore dvc.yaml\n",
      "\n",
      "To enable auto staging, run:\n",
      "\n",
      "\tdvc config core.autostage true\n",
      "Not using SLURM or MPI in this DVC stage.\n",
      "Writing DVC stage to config/in/sim_dataset_v1/app_prep_v1/auto/ex2-20230714-083624\n",
      "Using encfs - don't forget to set ENCFS_PW_FILE/ENCFS_INSTALL_DIR when running 'dvc repro'.\n"
     ]
    }
   ],
   "source": [
    "%%bash\n",
    "\n",
    "dvc_create_stage --app-yaml ../../app_prep/dvc_app.yaml --stage sim \\\n",
    "    --run-label ${ETL_RUN_LABEL} --input-etl ex2 --input-etl-file output/sim_in.dat"
   ]
  },
  {
   "cell_type": "code",
   "execution_count": 17,
   "id": "03c44d08-1860-44c3-9642-302a92b032b1",
   "metadata": {},
   "outputs": [
    {
     "name": "stderr",
     "output_type": "stream",
     "text": [
      "WARNING: stage: 'config/in/sim_dataset_v1/original/ex2/dvc.yaml:in_original_add_23-07-25_16-01-44_daint101_lukasd' is frozen. Its dependencies are not going to be reproduced.\n"
     ]
    },
    {
     "name": "stdout",
     "output_type": "stream",
     "text": [
      "Stage 'config/in/sim_dataset_v1/original/ex2/dvc.yaml:in_original_add_23-07-25_16-01-44_daint101_lukasd' didn't change, skipping\n",
      "Running stage 'config/in/sim_dataset_v1/app_prep_v1/auto/ex2-20230714-083624/dvc.yaml:app_prep_v1_sim_ex2-20230714-083624':\n",
      "> if (set -o pipefail) 2>/dev/null; then set -o pipefail; fi; mkdir -p ../../../../../../encrypt/in/sim_dataset_v1/app_prep_v1/auto/ex2-20230714-083624/output output && encfs_mount_and_run ../../../../../../encrypt /tmp/encfs_25680_async_encfs_dvc_app_prep_v1_sim_ex2-20230714-083624_1d604493207b_ab9b828085d9 ../../../../../../../../../../../../../../tmp/encfs_25680_async_encfs_dvc_app_prep_v1_sim_ex2-20230714-083624_1d604493207b_ab9b828085d9/in/sim_dataset_v1/app_prep_v1/auto/ex2-20230714-083624/output/encfs_out_{MPI_RANK}.log bash -c \"$(git rev-parse --show-toplevel)/examples/app_prep/prep.sh --etl-input /tmp/encfs_25680_async_encfs_dvc_app_prep_v1_sim_ex2-20230714-083624_1d604493207b_ab9b828085d9/in/sim_dataset_v1/original/ex2/output/sim_in.dat --etl-output /tmp/encfs_25680_async_encfs_dvc_app_prep_v1_sim_ex2-20230714-083624_1d604493207b_ab9b828085d9/in/sim_dataset_v1/app_prep_v1/auto/ex2-20230714-083624/output\" 2>&1 | tee output/stage_out.log\n",
      "encfs_mount_and_run[../../../../../../encrypt->/tmp/encfs_25680_async_encfs_dvc_app_prep_v1_sim_ex2-20230714-083624_1d604493207b_ab9b828085d9]: Unable to determine local MPI rank - assuming to run in non-distributed mode (as a single process).\n",
      "encfs_mount_and_run[../../../../../../encrypt->/tmp/encfs_25680_async_encfs_dvc_app_prep_v1_sim_ex2-20230714-083624_1d604493207b_ab9b828085d9]: Rank 0 on daint101: Running encfs-mount at /tmp/encfs_25680_async_encfs_dvc_app_prep_v1_sim_ex2-20230714-083624_1d604493207b_ab9b828085d9.\n",
      "encfs_mount_and_run[../../../../../../encrypt->/tmp/encfs_25680_async_encfs_dvc_app_prep_v1_sim_ex2-20230714-083624_1d604493207b_ab9b828085d9]: total 4.0K\n",
      "drwxr-xr-x 3 lukasd csstaff 4.0K 25. Jul 16:01 in\n",
      "encfs_mount_and_run[../../../../../../encrypt->/tmp/encfs_25680_async_encfs_dvc_app_prep_v1_sim_ex2-20230714-083624_1d604493207b_ab9b828085d9]: Rank 0 on daint101: Successfully mounted encfs-dir at /tmp/encfs_25680_async_encfs_dvc_app_prep_v1_sim_ex2-20230714-083624_1d604493207b_ab9b828085d9 and wrote to sync-file /scratch/snx3000/lukasd/mitraccel/async-encfs-dvc/examples/data/v2/encrypt/.encfs_25680_async_encfs_dvc_app_prep_v1_sim_ex2-20230714-083624_1d604493207b_ab9b828085d9_daint101_local_sync - starting encfs-job\n",
      "encfs_mount_and_run[../../../../../../encrypt->/tmp/encfs_25680_async_encfs_dvc_app_prep_v1_sim_ex2-20230714-083624_1d604493207b_ab9b828085d9]: Rank 0 on daint101: encfs-job completed.\n",
      "encfs_mount_and_run[../../../../../../encrypt->/tmp/encfs_25680_async_encfs_dvc_app_prep_v1_sim_ex2-20230714-083624_1d604493207b_ab9b828085d9]: Rank 0 on daint101: sync-file content is 0 - entering wait-loop.\n",
      "encfs_mount_and_run[../../../../../../encrypt->/tmp/encfs_25680_async_encfs_dvc_app_prep_v1_sim_ex2-20230714-083624_1d604493207b_ab9b828085d9]: Rank 0 on daint101: sync-file content is 0 - all local ranks finished encfs-job, unmounting encfs.\n",
      "encfs_mount_and_run[../../../../../../encrypt->/tmp/encfs_25680_async_encfs_dvc_app_prep_v1_sim_ex2-20230714-083624_1d604493207b_ab9b828085d9]: Filesystem unmounting: /tmp/encfs_25680_async_encfs_dvc_app_prep_v1_sim_ex2-20230714-083624_1d604493207b_ab9b828085d9\n",
      "Generating lock file 'config/in/sim_dataset_v1/app_prep_v1/auto/ex2-20230714-083624/dvc.lock'\n",
      "Updating lock file 'config/in/sim_dataset_v1/app_prep_v1/auto/ex2-20230714-083624/dvc.lock'\n",
      "\n",
      "To track the changes with git, run:\n",
      "\n",
      "\tgit add config/in/sim_dataset_v1/app_prep_v1/auto/ex2-20230714-083624/dvc.lock\n",
      "\n",
      "To enable auto staging, run:\n",
      "\n",
      "\tdvc config core.autostage true\n",
      "Use `dvc push` to send your updates to remote storage.\n"
     ]
    }
   ],
   "source": [
    "%%bash\n",
    "\n",
    "dvc repro config/in/sim_dataset_v1/app_prep_v1/auto/${ETL_RUN_LABEL}/dvc.yaml"
   ]
  },
  {
   "cell_type": "markdown",
   "id": "e0d2b7db-30e3-4e11-8f86-7e83c234a56b",
   "metadata": {},
   "source": [
    "This will execute the stage synchronously within the DVC-launched process. Execution can also be deferred to the simulation stages, where it will be triggered as a dependency. However, it is not recommended to launch mixed graphs of synchronous and asynchronous (SLURM) stages. In particular, asynchronous stages must not be launched as ancestors of synchronous DVC stages. "
   ]
  },
  {
   "cell_type": "markdown",
   "id": "22280d7e-cae3-4df3-8674-2201925fceeb",
   "metadata": {},
   "source": [
    "## Creating the simulation stages for SLURM\n",
    "Lastly, we will establish a rudimentary structure for an iterative simulation workflow that utilizes the preprocessed data. A usual simulation comes with its own tunable parameters. For this purpose, one can use a file such as for hyperparameters in the machine learning tutorial. However, for brevity here we skip this step and assume that all parameters are passed through the command line.\n",
    "\n",
    "To enable stages to be run with SLURM, we add `slurm_opts` to the application policy under the corresponding stages (here `base_simulation` and `simulation`). Upon reproducing a DVC SLURM stage, the stage dependency graph will be submitted to the SLURM queue as a corresponding job graph. Multiple jobs are created per DVC stage, specifically a stage job for the actual application, upon its succes a DVC commit job and optionally a DVC push job and upon of stage job failure a cleanup job. There is a one-to-one correspondence between dependencies of DVC stages and those of SLURM stage jobs. In the application policy, we typically specify the options for stage jobs under `stage` and those for DVC operations like commit and push under `dvc`. For options that apply to all SLURM jobs we can use `all`.\n",
    "\n",
    "We are now ready to set up the simulation stages. Where necessary, we can obtain completion suggestions with `--show-opts`."
   ]
  },
  {
   "cell_type": "code",
   "execution_count": 18,
   "id": "c23763a0-4602-4932-895e-0967304ecb65",
   "metadata": {},
   "outputs": [
    {
     "name": "stdout",
     "output_type": "stream",
     "text": [
      "Added stage 'app_sim_v1_sim_dataset_v1_base_simulation_ex2-20230714-083812-0' in 'dvc.yaml'\n",
      "\n",
      "To track the changes with git, run:\n",
      "\n",
      "\tgit add dvc.yaml ../../../../../encrypt/app_sim_v1/sim_dataset_v1/simulation/ex2-20230714-083812-0/.gitignore .gitignore\n",
      "\n",
      "To enable auto staging, run:\n",
      "\n",
      "\tdvc config core.autostage true\n",
      "Warning: stage argument --input-simulation-file not set (using Jinja2 default in app YAML if not --strict-mode).\n",
      "Writing DVC stage to config/app_sim_v1/sim_dataset_v1/simulation/ex2-20230714-083812-0\n",
      "Using encfs - don't forget to set ENCFS_PW_FILE/ENCFS_INSTALL_DIR when running 'dvc repro --no-commit'.\n",
      "Added stage 'app_sim_v1_sim_dataset_v1_simulation_ex2-20230714-083812-1' in 'dvc.yaml'\n",
      "\n",
      "To track the changes with git, run:\n",
      "\n",
      "\tgit add .gitignore ../../../../../encrypt/app_sim_v1/sim_dataset_v1/simulation/ex2-20230714-083812-1/.gitignore dvc.yaml\n",
      "\n",
      "To enable auto staging, run:\n",
      "\n",
      "\tdvc config core.autostage true\n",
      "Warning: stage argument --input-simulation-file not set (using Jinja2 default in app YAML if not --strict-mode).\n",
      "Writing DVC stage to config/app_sim_v1/sim_dataset_v1/simulation/ex2-20230714-083812-1\n",
      "Using encfs - don't forget to set ENCFS_PW_FILE/ENCFS_INSTALL_DIR when running 'dvc repro --no-commit'.\n",
      "Added stage 'app_sim_v1_sim_dataset_v1_simulation_ex2-20230714-083812-2' in 'dvc.yaml'\n",
      "\n",
      "To track the changes with git, run:\n",
      "\n",
      "\tgit add ../../../../../encrypt/app_sim_v1/sim_dataset_v1/simulation/ex2-20230714-083812-2/.gitignore .gitignore dvc.yaml\n",
      "\n",
      "To enable auto staging, run:\n",
      "\n",
      "\tdvc config core.autostage true\n",
      "Warning: stage argument --input-simulation-file not set (using Jinja2 default in app YAML if not --strict-mode).\n",
      "Writing DVC stage to config/app_sim_v1/sim_dataset_v1/simulation/ex2-20230714-083812-2\n",
      "Using encfs - don't forget to set ENCFS_PW_FILE/ENCFS_INSTALL_DIR when running 'dvc repro --no-commit'.\n",
      "Added stage 'app_sim_v1_sim_dataset_v1_simulation_ex2-20230714-083812-3' in 'dvc.yaml'\n",
      "\n",
      "To track the changes with git, run:\n",
      "\n",
      "\tgit add .gitignore dvc.yaml ../../../../../encrypt/app_sim_v1/sim_dataset_v1/simulation/ex2-20230714-083812-3/.gitignore\n",
      "\n",
      "To enable auto staging, run:\n",
      "\n",
      "\tdvc config core.autostage true\n",
      "Warning: stage argument --input-simulation-file not set (using Jinja2 default in app YAML if not --strict-mode).\n",
      "Writing DVC stage to config/app_sim_v1/sim_dataset_v1/simulation/ex2-20230714-083812-3\n",
      "Using encfs - don't forget to set ENCFS_PW_FILE/ENCFS_INSTALL_DIR when running 'dvc repro --no-commit'.\n",
      "\u001b[01;34mencrypt\u001b[00m\n",
      "├── \u001b[01;34mapp_sim_v1\u001b[00m\n",
      "│   └── \u001b[01;34msim_dataset_v1\u001b[00m\n",
      "│       └── \u001b[01;34msimulation\u001b[00m\n",
      "│           ├── \u001b[01;34mex2-20230714-083812-0\u001b[00m\n",
      "│           │   └── \u001b[01;34moutput\u001b[00m\n",
      "│           ├── \u001b[01;34mex2-20230714-083812-1\u001b[00m\n",
      "│           │   └── \u001b[01;34moutput\u001b[00m\n",
      "│           ├── \u001b[01;34mex2-20230714-083812-2\u001b[00m\n",
      "│           │   └── \u001b[01;34moutput\u001b[00m\n",
      "│           └── \u001b[01;34mex2-20230714-083812-3\u001b[00m\n",
      "│               └── \u001b[01;34moutput\u001b[00m\n",
      "└── \u001b[01;34min\u001b[00m\n",
      "    └── \u001b[01;34msim_dataset_v1\u001b[00m\n",
      "        ├── \u001b[01;34mapp_prep_v1\u001b[00m\n",
      "        │   └── \u001b[01;34mauto\u001b[00m\n",
      "        │       └── \u001b[01;34mex2-20230714-083624\u001b[00m\n",
      "        │           └── \u001b[01;34moutput\u001b[00m\n",
      "        │               ├── encfs_out_0.log\n",
      "        │               └── sim_in.dat\n",
      "        └── \u001b[01;34moriginal\u001b[00m\n",
      "            └── \u001b[01;34mex2\u001b[00m\n",
      "                └── \u001b[01;34moutput\u001b[00m\n",
      "                    ├── encfs_out.log\n",
      "                    └── sim_in.dat\n",
      "\u001b[01;34mconfig\u001b[00m\n",
      "├── \u001b[01;34mapp_sim_v1\u001b[00m\n",
      "│   └── \u001b[01;34msim_dataset_v1\u001b[00m\n",
      "│       └── \u001b[01;34msimulation\u001b[00m\n",
      "│           ├── \u001b[01;34mex2-20230714-083812-0\u001b[00m\n",
      "│           │   ├── dvc_app_slurm.yaml\n",
      "│           │   ├── dvc.yaml\n",
      "│           │   └── \u001b[01;34moutput\u001b[00m\n",
      "│           ├── \u001b[01;34mex2-20230714-083812-1\u001b[00m\n",
      "│           │   ├── dvc_app_slurm.yaml\n",
      "│           │   ├── dvc.yaml\n",
      "│           │   └── \u001b[01;34moutput\u001b[00m\n",
      "│           ├── \u001b[01;34mex2-20230714-083812-2\u001b[00m\n",
      "│           │   ├── dvc_app_slurm.yaml\n",
      "│           │   ├── dvc.yaml\n",
      "│           │   └── \u001b[01;34moutput\u001b[00m\n",
      "│           └── \u001b[01;34mex2-20230714-083812-3\u001b[00m\n",
      "│               ├── dvc_app_slurm.yaml\n",
      "│               ├── dvc.yaml\n",
      "│               └── \u001b[01;34moutput\u001b[00m\n",
      "└── \u001b[01;34min\u001b[00m\n",
      "    └── \u001b[01;34msim_dataset_v1\u001b[00m\n",
      "        ├── \u001b[01;34mapp_prep_v1\u001b[00m\n",
      "        │   └── \u001b[01;34mauto\u001b[00m\n",
      "        │       └── \u001b[01;34mex2-20230714-083624\u001b[00m\n",
      "        │           ├── dvc_app.yaml\n",
      "        │           ├── dvc.lock\n",
      "        │           ├── dvc.yaml\n",
      "        │           └── \u001b[01;34moutput\u001b[00m\n",
      "        │               └── stage_out.log\n",
      "        └── \u001b[01;34moriginal\u001b[00m\n",
      "            └── \u001b[01;34mex2\u001b[00m\n",
      "                ├── dvc_app.yaml\n",
      "                ├── dvc.lock\n",
      "                ├── dvc.yaml\n",
      "                └── \u001b[01;34moutput\u001b[00m\n",
      "                    └── stage_out.log\n",
      "\n",
      "40 directories, 20 files\n"
     ]
    }
   ],
   "source": [
    "%%bash\n",
    "dvc_create_stage --app-yaml ../../app_sim/dvc_app_slurm.yaml --stage base_simulation \\\n",
    "  --run-label ${SIM_0_RUN_LABEL} \\\n",
    "  --input-simulation ${ETL_RUN_LABEL} \\\n",
    "  --simulation-output-file-num-per-rank 3 \\\n",
    "  --simulation-output-file-size $((10**6 * 2**0 / 3))\n",
    "\n",
    "dvc_create_stage --app-yaml ../../app_sim/dvc_app_slurm.yaml --stage simulation \\\n",
    "  --run-label ${SIM_1_RUN_LABEL} \\\n",
    "  --input-simulation ${SIM_0_RUN_LABEL} \\\n",
    "  --simulation-output-file-num-per-rank 3 \\\n",
    "  --simulation-output-file-size $((10**6 * 2**1 / 3))\n",
    "\n",
    "dvc_create_stage --app-yaml ../../app_sim/dvc_app_slurm.yaml --stage simulation \\\n",
    "  --run-label ${SIM_2_RUN_LABEL} \\\n",
    "  --input-simulation ${SIM_1_RUN_LABEL} \\\n",
    "  --simulation-output-file-num-per-rank 3 \\\n",
    "  --simulation-output-file-size $((10**6 * 2**2 / 3))\n",
    "\n",
    "dvc_create_stage --app-yaml ../../app_sim/dvc_app_slurm.yaml --stage simulation \\\n",
    "  --run-label ${SIM_3_RUN_LABEL} \\\n",
    "  --input-simulation ${SIM_2_RUN_LABEL} \\\n",
    "  --simulation-output-file-num-per-rank 3 \\\n",
    "  --simulation-output-file-size $((10**6 * 2**3 / 3))\n",
    "\n",
    "tree encrypt config"
   ]
  },
  {
   "cell_type": "markdown",
   "id": "b0b50a3d-a9e5-43a9-aff9-dcd44fa351a4",
   "metadata": {},
   "source": [
    "## Running and monitoring the pipeline with SLURM\n",
    "The stages can be inspected with:"
   ]
  },
  {
   "cell_type": "code",
   "execution_count": 19,
   "id": "1141181e-6424-4c28-86c0-6c729fa25dbd",
   "metadata": {},
   "outputs": [
    {
     "name": "stdout",
     "output_type": "stream",
     "text": [
      "strict digraph  {\n",
      "\"config/app_sim_v1/sim_dataset_v1/simulation/ex2-20230714-083812-3/dvc.yaml:app_sim_v1_sim_dataset_v1_simulation_ex2-20230714-083812-3\";\n",
      "\"config/app_sim_v1/sim_dataset_v1/simulation/ex2-20230714-083812-2/dvc.yaml:app_sim_v1_sim_dataset_v1_simulation_ex2-20230714-083812-2\";\n",
      "\"config/app_sim_v1/sim_dataset_v1/simulation/ex2-20230714-083812-1/dvc.yaml:app_sim_v1_sim_dataset_v1_simulation_ex2-20230714-083812-1\";\n",
      "\"config/app_sim_v1/sim_dataset_v1/simulation/ex2-20230714-083812-0/dvc.yaml:app_sim_v1_sim_dataset_v1_base_simulation_ex2-20230714-083812-0\";\n",
      "\"config/in/sim_dataset_v1/app_prep_v1/auto/ex2-20230714-083624/dvc.yaml:app_prep_v1_sim_ex2-20230714-083624\";\n",
      "\"config/in/sim_dataset_v1/original/ex2/dvc.yaml:in_original_add_23-07-25_16-01-44_daint101_lukasd\";\n",
      "\"config/app_sim_v1/sim_dataset_v1/simulation/ex2-20230714-083812-2/dvc.yaml:app_sim_v1_sim_dataset_v1_simulation_ex2-20230714-083812-2\" -> \"config/app_sim_v1/sim_dataset_v1/simulation/ex2-20230714-083812-3/dvc.yaml:app_sim_v1_sim_dataset_v1_simulation_ex2-20230714-083812-3\";\n",
      "\"config/app_sim_v1/sim_dataset_v1/simulation/ex2-20230714-083812-1/dvc.yaml:app_sim_v1_sim_dataset_v1_simulation_ex2-20230714-083812-1\" -> \"config/app_sim_v1/sim_dataset_v1/simulation/ex2-20230714-083812-2/dvc.yaml:app_sim_v1_sim_dataset_v1_simulation_ex2-20230714-083812-2\";\n",
      "\"config/app_sim_v1/sim_dataset_v1/simulation/ex2-20230714-083812-0/dvc.yaml:app_sim_v1_sim_dataset_v1_base_simulation_ex2-20230714-083812-0\" -> \"config/app_sim_v1/sim_dataset_v1/simulation/ex2-20230714-083812-1/dvc.yaml:app_sim_v1_sim_dataset_v1_simulation_ex2-20230714-083812-1\";\n",
      "\"config/in/sim_dataset_v1/app_prep_v1/auto/ex2-20230714-083624/dvc.yaml:app_prep_v1_sim_ex2-20230714-083624\" -> \"config/app_sim_v1/sim_dataset_v1/simulation/ex2-20230714-083812-0/dvc.yaml:app_sim_v1_sim_dataset_v1_base_simulation_ex2-20230714-083812-0\";\n",
      "\"config/in/sim_dataset_v1/original/ex2/dvc.yaml:in_original_add_23-07-25_16-01-44_daint101_lukasd\" -> \"config/in/sim_dataset_v1/app_prep_v1/auto/ex2-20230714-083624/dvc.yaml:app_prep_v1_sim_ex2-20230714-083624\";\n",
      "}\n",
      "\n"
     ]
    }
   ],
   "source": [
    "%%bash\n",
    "dvc dag --dot config/app_sim_v1/sim_dataset_v1/simulation/${SIM_3_RUN_LABEL}/dvc.yaml | tee config/app_sim_v1/sim_dataset_v1/simulation/${SIM_3_RUN_LABEL}/dvc_dag.dot\n",
    "if [[ $(command -v dot) ]]; then\n",
    "    dot -Tsvg config/app_sim_v1/sim_dataset_v1/simulation/${SIM_3_RUN_LABEL}/dvc_dag.dot > config/app_sim_v1/sim_dataset_v1/simulation/${SIM_3_RUN_LABEL}/dvc_dag.svg\n",
    "fi"
   ]
  },
  {
   "cell_type": "code",
   "execution_count": 20,
   "id": "587cc186-b78b-4df0-a900-713b4e4168b8",
   "metadata": {},
   "outputs": [],
   "source": [
    "dvc_dag_img = 'config/app_sim_v1/sim_dataset_v1/simulation/' + os.environ['SIM_3_RUN_LABEL'] + '/dvc_dag.svg'  # test_slurm_async_sim_tutorial: skip\n",
    "if os.path.exists(dvc_dag_img):  # test_slurm_async_sim_tutorial: skip\n",
    "    display(SVG(filename=dvc_dag_img))  # test_slurm_async_sim_tutorial: skip"
   ]
  },
  {
   "cell_type": "markdown",
   "id": "5093f914-a50b-4ee0-b94e-579cf8ec5c82",
   "metadata": {},
   "source": [
    "We can now submit the pipeline of asynchronous SLURM stages. Note that we use `dvc repro --no-commit` to submit asynchronous stages. This is in order not to add any output during SLURM job submission time to the DVC cache."
   ]
  },
  {
   "cell_type": "code",
   "execution_count": 21,
   "id": "8dec8894-90c8-432a-876c-443a77333032",
   "metadata": {},
   "outputs": [
    {
     "name": "stderr",
     "output_type": "stream",
     "text": [
      "WARNING: stage: 'config/in/sim_dataset_v1/original/ex2/dvc.yaml:in_original_add_23-07-25_16-01-44_daint101_lukasd' is frozen. Its dependencies are not going to be reproduced.\n"
     ]
    },
    {
     "name": "stdout",
     "output_type": "stream",
     "text": [
      "Stage 'config/in/sim_dataset_v1/original/ex2/dvc.yaml:in_original_add_23-07-25_16-01-44_daint101_lukasd' didn't change, skipping\n",
      "Stage 'config/in/sim_dataset_v1/app_prep_v1/auto/ex2-20230714-083624/dvc.yaml:app_prep_v1_sim_ex2-20230714-083624' didn't change, skipping\n",
      "Running stage 'config/app_sim_v1/sim_dataset_v1/simulation/ex2-20230714-083812-0/dvc.yaml:app_sim_v1_sim_dataset_v1_base_simulation_ex2-20230714-083812-0':\n",
      "> if (set -o pipefail) 2>/dev/null; then set -o pipefail; fi; mkdir -p ../../../../../encrypt/app_sim_v1/sim_dataset_v1/simulation/ex2-20230714-083812-0/output output && slurm_enqueue.sh app_sim_v1_sim_dataset_v1_base_simulation_ex2-20230714-083812-0 dvc_app_slurm.yaml base_simulation encfs_mount_and_run ../../../../../encrypt /tmp/encfs_25680_async_encfs_dvc_app_sim_v1_sim_dataset_v1_base_simulation_ex2-20230714-083812-0_b8eaaec1281c_ab9b828085d9 ../../../../../../../../../../../../../tmp/encfs_25680_async_encfs_dvc_app_sim_v1_sim_dataset_v1_base_simulation_ex2-20230714-083812-0_b8eaaec1281c_ab9b828085d9/app_sim_v1/sim_dataset_v1/simulation/ex2-20230714-083812-0/output/encfs_out_{MPI_RANK}.log sarus run --mount=type=bind,source=\"/tmp/encfs_25680_async_encfs_dvc_app_sim_v1_sim_dataset_v1_base_simulation_ex2-20230714-083812-0_b8eaaec1281c_ab9b828085d9\",destination=\"/app-data\"  --entrypoint bash load/async-encfs-dvc/app_sim -c \"/src/app/simulation.sh --simulation-input /app-data/in/sim_dataset_v1/app_prep_v1/auto/ex2-20230714-083624/output --simulation-output /app-data/app_sim_v1/sim_dataset_v1/simulation/ex2-20230714-083812-0/output --simulation-output-file-num-per-rank 3 --simulation-output-file-size 333333\" 2>&1 | tee output/stage_out.log\n",
      "slurm_enqueue.sh[app_sim_v1_sim_dataset_v1_base_simulation_ex2-20230714-083812-0]: Info: Putting any concurrent dvc commit or push operations on hold (use dvc_scontrol release later). Warning: Concurrent dvc operations cause a potential conflict for acquiring ../../../../../.dvc/tmp/rwlock) and dvc commands (incl. repro) will error out if they detect this.\n",
      "dvc_scontrol: All jobs of lukasd held. To make sure that no other users run DVC commands on this repo use 'dvc_scontrol show commit'.\n",
      "dvc_scontrol: All jobs of lukasd held. To make sure that no other users run DVC commands on this repo use 'dvc_scontrol show push'.\n",
      "slurm_enqueue.sh[app_sim_v1_sim_dataset_v1_base_simulation_ex2-20230714-083812-0]: DVC stage deps of app_sim_v1_sim_dataset_v1_base_simulation_ex2-20230714-083812-0: ../../../../in/sim_dataset_v1/app_prep_v1/auto/ex2-20230714-083624/dvc.yaml:app_prep_v1_sim_ex2-20230714-083624\n",
      "slurm_enqueue.sh[app_sim_v1_sim_dataset_v1_base_simulation_ex2-20230714-083812-0]: DVC stage outs of app_sim_v1_sim_dataset_v1_base_simulation_ex2-20230714-083812-0: ../../../../../encrypt/app_sim_v1/sim_dataset_v1/simulation/ex2-20230714-083812-0/output output\n",
      "slurm_enqueue.sh[app_sim_v1_sim_dataset_v1_base_simulation_ex2-20230714-083812-0]: Looking for state of DVC dependency ../../../../in/sim_dataset_v1/app_prep_v1/auto/ex2-20230714-083624/dvc.yaml:app_prep_v1_sim_ex2-20230714-083624.\n",
      "slurm_enqueue.sh[app_sim_v1_sim_dataset_v1_base_simulation_ex2-20230714-083812-0]: No SLURM status (pending/started/complete/failed) set for DVC dependency ../../../../in/sim_dataset_v1/app_prep_v1/auto/ex2-20230714-083624/dvc.yaml:app_prep_v1_sim_ex2-20230714-083624 - assuming committed, skipping this dependency.\n",
      "slurm_enqueue.sh[app_sim_v1_sim_dataset_v1_base_simulation_ex2-20230714-083812-0]: Cannot find running/committed stage app_sim_v1_sim_dataset_v1_base_simulation_ex2-20230714-083812-0 - submitting it.\n",
      "slurm_enqueue.sh[app_sim_v1_sim_dataset_v1_base_simulation_ex2-20230714-083812-0]: Launching asynchronous stage app_sim_v1_sim_dataset_v1_base_simulation_ex2-20230714-083812-0 with SLURM\n",
      "slurm_enqueue.sh[app_sim_v1_sim_dataset_v1_base_simulation_ex2-20230714-083812-0]: Submit push job for app_sim_v1_sim_dataset_v1_base_simulation_ex2-20230714-083812-0 manually with slurm_enqueue_dvc_push_app_sim_v1_sim_dataset_v1_base_simulation_ex2-20230714-083812-0.sh.\n",
      "slurm_enqueue.sh[app_sim_v1_sim_dataset_v1_base_simulation_ex2-20230714-083812-0]: Submitted all jobs for stage app_sim_v1_sim_dataset_v1_base_simulation_ex2-20230714-083812-0 (stage: 47951743, cleanup: 47951744, commit: 47951745).\n",
      "slurm_enqueue.sh[app_sim_v1_sim_dataset_v1_base_simulation_ex2-20230714-083812-0]: All jobs submitted on hold to enable further DVC usage. When ready, use 'scontrol release <job-id1> <job-id2> ...' to selectively unblock invidual jobs or 'dvc_scontrol release (stage|commit|push)' to unblock all jobs of particular type in this DVC repo.\n"
     ]
    },
    {
     "name": "stderr",
     "output_type": "stream",
     "text": [
      "WARNING: 'encrypt/app_sim_v1/sim_dataset_v1/simulation/ex2-20230714-083812-0/output' is empty.\n"
     ]
    },
    {
     "name": "stdout",
     "output_type": "stream",
     "text": [
      "Generating lock file 'config/app_sim_v1/sim_dataset_v1/simulation/ex2-20230714-083812-0/dvc.lock'\n",
      "Updating lock file 'config/app_sim_v1/sim_dataset_v1/simulation/ex2-20230714-083812-0/dvc.lock'\n",
      "\n"
     ]
    },
    {
     "name": "stderr",
     "output_type": "stream",
     "text": [
      "WARNING: 'encrypt/app_sim_v1/sim_dataset_v1/simulation/ex2-20230714-083812-0/output' is empty.\n"
     ]
    },
    {
     "name": "stdout",
     "output_type": "stream",
     "text": [
      "Running stage 'config/app_sim_v1/sim_dataset_v1/simulation/ex2-20230714-083812-1/dvc.yaml:app_sim_v1_sim_dataset_v1_simulation_ex2-20230714-083812-1':\n",
      "> if (set -o pipefail) 2>/dev/null; then set -o pipefail; fi; mkdir -p ../../../../../encrypt/app_sim_v1/sim_dataset_v1/simulation/ex2-20230714-083812-1/output output && slurm_enqueue.sh app_sim_v1_sim_dataset_v1_simulation_ex2-20230714-083812-1 dvc_app_slurm.yaml simulation encfs_mount_and_run ../../../../../encrypt /tmp/encfs_25680_async_encfs_dvc_app_sim_v1_sim_dataset_v1_simulation_ex2-20230714-083812-1_f23b2839f70c_ab9b828085d9 ../../../../../../../../../../../../../tmp/encfs_25680_async_encfs_dvc_app_sim_v1_sim_dataset_v1_simulation_ex2-20230714-083812-1_f23b2839f70c_ab9b828085d9/app_sim_v1/sim_dataset_v1/simulation/ex2-20230714-083812-1/output/encfs_out_{MPI_RANK}.log sarus run --mount=type=bind,source=\"/tmp/encfs_25680_async_encfs_dvc_app_sim_v1_sim_dataset_v1_simulation_ex2-20230714-083812-1_f23b2839f70c_ab9b828085d9\",destination=\"/app-data\"  --entrypoint bash load/async-encfs-dvc/app_sim -c \"/src/app/simulation.sh --simulation-input /app-data/app_sim_v1/sim_dataset_v1/simulation/ex2-20230714-083812-0/output --simulation-output /app-data/app_sim_v1/sim_dataset_v1/simulation/ex2-20230714-083812-1/output --simulation-output-file-num-per-rank 3 --simulation-output-file-size 666666\" 2>&1 | tee output/stage_out.log\n",
      "slurm_enqueue.sh[app_sim_v1_sim_dataset_v1_simulation_ex2-20230714-083812-1]: Info: Putting any concurrent dvc commit or push operations on hold (use dvc_scontrol release later). Warning: Concurrent dvc operations cause a potential conflict for acquiring ../../../../../.dvc/tmp/rwlock) and dvc commands (incl. repro) will error out if they detect this.\n",
      "dvc_scontrol: All jobs of lukasd held. To make sure that no other users run DVC commands on this repo use 'dvc_scontrol show commit'.\n",
      "dvc_scontrol: All jobs of lukasd held. To make sure that no other users run DVC commands on this repo use 'dvc_scontrol show push'.\n",
      "slurm_enqueue.sh[app_sim_v1_sim_dataset_v1_simulation_ex2-20230714-083812-1]: DVC stage deps of app_sim_v1_sim_dataset_v1_simulation_ex2-20230714-083812-1: ../ex2-20230714-083812-0/dvc.yaml:app_sim_v1_sim_dataset_v1_base_simulation_ex2-20230714-083812-0\n",
      "slurm_enqueue.sh[app_sim_v1_sim_dataset_v1_simulation_ex2-20230714-083812-1]: DVC stage outs of app_sim_v1_sim_dataset_v1_simulation_ex2-20230714-083812-1: ../../../../../encrypt/app_sim_v1/sim_dataset_v1/simulation/ex2-20230714-083812-1/output output\n",
      "slurm_enqueue.sh[app_sim_v1_sim_dataset_v1_simulation_ex2-20230714-083812-1]: Looking for state of DVC dependency ../ex2-20230714-083812-0/dvc.yaml:app_sim_v1_sim_dataset_v1_base_simulation_ex2-20230714-083812-0.\n",
      "slurm_enqueue.sh[app_sim_v1_sim_dataset_v1_simulation_ex2-20230714-083812-1]: Cannot find running/committed stage app_sim_v1_sim_dataset_v1_simulation_ex2-20230714-083812-1 - submitting it.\n",
      "slurm_enqueue.sh[app_sim_v1_sim_dataset_v1_simulation_ex2-20230714-083812-1]: Launching asynchronous stage app_sim_v1_sim_dataset_v1_simulation_ex2-20230714-083812-1 with SLURM\n",
      "slurm_enqueue.sh[app_sim_v1_sim_dataset_v1_simulation_ex2-20230714-083812-1]: Submit push job for app_sim_v1_sim_dataset_v1_simulation_ex2-20230714-083812-1 manually with slurm_enqueue_dvc_push_app_sim_v1_sim_dataset_v1_simulation_ex2-20230714-083812-1.sh.\n",
      "slurm_enqueue.sh[app_sim_v1_sim_dataset_v1_simulation_ex2-20230714-083812-1]: Submitted all jobs for stage app_sim_v1_sim_dataset_v1_simulation_ex2-20230714-083812-1 (stage: 47951750, cleanup: 47951752, commit: 47951753).\n",
      "slurm_enqueue.sh[app_sim_v1_sim_dataset_v1_simulation_ex2-20230714-083812-1]: All jobs submitted on hold to enable further DVC usage. When ready, use 'scontrol release <job-id1> <job-id2> ...' to selectively unblock invidual jobs or 'dvc_scontrol release (stage|commit|push)' to unblock all jobs of particular type in this DVC repo.\n"
     ]
    },
    {
     "name": "stderr",
     "output_type": "stream",
     "text": [
      "WARNING: 'encrypt/app_sim_v1/sim_dataset_v1/simulation/ex2-20230714-083812-0/output' is empty.\n",
      "WARNING: 'encrypt/app_sim_v1/sim_dataset_v1/simulation/ex2-20230714-083812-1/output' is empty.\n"
     ]
    },
    {
     "name": "stdout",
     "output_type": "stream",
     "text": [
      "Generating lock file 'config/app_sim_v1/sim_dataset_v1/simulation/ex2-20230714-083812-1/dvc.lock'\n",
      "Updating lock file 'config/app_sim_v1/sim_dataset_v1/simulation/ex2-20230714-083812-1/dvc.lock'\n",
      "\n"
     ]
    },
    {
     "name": "stderr",
     "output_type": "stream",
     "text": [
      "WARNING: 'encrypt/app_sim_v1/sim_dataset_v1/simulation/ex2-20230714-083812-1/output' is empty.\n"
     ]
    },
    {
     "name": "stdout",
     "output_type": "stream",
     "text": [
      "Running stage 'config/app_sim_v1/sim_dataset_v1/simulation/ex2-20230714-083812-2/dvc.yaml:app_sim_v1_sim_dataset_v1_simulation_ex2-20230714-083812-2':\n",
      "> if (set -o pipefail) 2>/dev/null; then set -o pipefail; fi; mkdir -p ../../../../../encrypt/app_sim_v1/sim_dataset_v1/simulation/ex2-20230714-083812-2/output output && slurm_enqueue.sh app_sim_v1_sim_dataset_v1_simulation_ex2-20230714-083812-2 dvc_app_slurm.yaml simulation encfs_mount_and_run ../../../../../encrypt /tmp/encfs_25680_async_encfs_dvc_app_sim_v1_sim_dataset_v1_simulation_ex2-20230714-083812-2_f9f408e24b78_ab9b828085d9 ../../../../../../../../../../../../../tmp/encfs_25680_async_encfs_dvc_app_sim_v1_sim_dataset_v1_simulation_ex2-20230714-083812-2_f9f408e24b78_ab9b828085d9/app_sim_v1/sim_dataset_v1/simulation/ex2-20230714-083812-2/output/encfs_out_{MPI_RANK}.log sarus run --mount=type=bind,source=\"/tmp/encfs_25680_async_encfs_dvc_app_sim_v1_sim_dataset_v1_simulation_ex2-20230714-083812-2_f9f408e24b78_ab9b828085d9\",destination=\"/app-data\"  --entrypoint bash load/async-encfs-dvc/app_sim -c \"/src/app/simulation.sh --simulation-input /app-data/app_sim_v1/sim_dataset_v1/simulation/ex2-20230714-083812-1/output --simulation-output /app-data/app_sim_v1/sim_dataset_v1/simulation/ex2-20230714-083812-2/output --simulation-output-file-num-per-rank 3 --simulation-output-file-size 1333333\" 2>&1 | tee output/stage_out.log\n",
      "slurm_enqueue.sh[app_sim_v1_sim_dataset_v1_simulation_ex2-20230714-083812-2]: Info: Putting any concurrent dvc commit or push operations on hold (use dvc_scontrol release later). Warning: Concurrent dvc operations cause a potential conflict for acquiring ../../../../../.dvc/tmp/rwlock) and dvc commands (incl. repro) will error out if they detect this.\n",
      "dvc_scontrol: All jobs of lukasd held. To make sure that no other users run DVC commands on this repo use 'dvc_scontrol show commit'.\n",
      "dvc_scontrol: All jobs of lukasd held. To make sure that no other users run DVC commands on this repo use 'dvc_scontrol show push'.\n",
      "slurm_enqueue.sh[app_sim_v1_sim_dataset_v1_simulation_ex2-20230714-083812-2]: DVC stage deps of app_sim_v1_sim_dataset_v1_simulation_ex2-20230714-083812-2: ../ex2-20230714-083812-1/dvc.yaml:app_sim_v1_sim_dataset_v1_simulation_ex2-20230714-083812-1\n",
      "slurm_enqueue.sh[app_sim_v1_sim_dataset_v1_simulation_ex2-20230714-083812-2]: DVC stage outs of app_sim_v1_sim_dataset_v1_simulation_ex2-20230714-083812-2: ../../../../../encrypt/app_sim_v1/sim_dataset_v1/simulation/ex2-20230714-083812-2/output output\n",
      "slurm_enqueue.sh[app_sim_v1_sim_dataset_v1_simulation_ex2-20230714-083812-2]: Looking for state of DVC dependency ../ex2-20230714-083812-1/dvc.yaml:app_sim_v1_sim_dataset_v1_simulation_ex2-20230714-083812-1.\n",
      "slurm_enqueue.sh[app_sim_v1_sim_dataset_v1_simulation_ex2-20230714-083812-2]: Cannot find running/committed stage app_sim_v1_sim_dataset_v1_simulation_ex2-20230714-083812-2 - submitting it.\n",
      "slurm_enqueue.sh[app_sim_v1_sim_dataset_v1_simulation_ex2-20230714-083812-2]: Launching asynchronous stage app_sim_v1_sim_dataset_v1_simulation_ex2-20230714-083812-2 with SLURM\n",
      "slurm_enqueue.sh[app_sim_v1_sim_dataset_v1_simulation_ex2-20230714-083812-2]: Submit push job for app_sim_v1_sim_dataset_v1_simulation_ex2-20230714-083812-2 manually with slurm_enqueue_dvc_push_app_sim_v1_sim_dataset_v1_simulation_ex2-20230714-083812-2.sh.\n",
      "slurm_enqueue.sh[app_sim_v1_sim_dataset_v1_simulation_ex2-20230714-083812-2]: Submitted all jobs for stage app_sim_v1_sim_dataset_v1_simulation_ex2-20230714-083812-2 (stage: 47951757, cleanup: 47951758, commit: 47951759).\n",
      "slurm_enqueue.sh[app_sim_v1_sim_dataset_v1_simulation_ex2-20230714-083812-2]: All jobs submitted on hold to enable further DVC usage. When ready, use 'scontrol release <job-id1> <job-id2> ...' to selectively unblock invidual jobs or 'dvc_scontrol release (stage|commit|push)' to unblock all jobs of particular type in this DVC repo.\n"
     ]
    },
    {
     "name": "stderr",
     "output_type": "stream",
     "text": [
      "WARNING: 'encrypt/app_sim_v1/sim_dataset_v1/simulation/ex2-20230714-083812-1/output' is empty.\n",
      "WARNING: 'encrypt/app_sim_v1/sim_dataset_v1/simulation/ex2-20230714-083812-2/output' is empty.\n"
     ]
    },
    {
     "name": "stdout",
     "output_type": "stream",
     "text": [
      "Generating lock file 'config/app_sim_v1/sim_dataset_v1/simulation/ex2-20230714-083812-2/dvc.lock'\n",
      "Updating lock file 'config/app_sim_v1/sim_dataset_v1/simulation/ex2-20230714-083812-2/dvc.lock'\n",
      "\n"
     ]
    },
    {
     "name": "stderr",
     "output_type": "stream",
     "text": [
      "WARNING: 'encrypt/app_sim_v1/sim_dataset_v1/simulation/ex2-20230714-083812-2/output' is empty.\n"
     ]
    },
    {
     "name": "stdout",
     "output_type": "stream",
     "text": [
      "Running stage 'config/app_sim_v1/sim_dataset_v1/simulation/ex2-20230714-083812-3/dvc.yaml:app_sim_v1_sim_dataset_v1_simulation_ex2-20230714-083812-3':\n",
      "> if (set -o pipefail) 2>/dev/null; then set -o pipefail; fi; mkdir -p ../../../../../encrypt/app_sim_v1/sim_dataset_v1/simulation/ex2-20230714-083812-3/output output && slurm_enqueue.sh app_sim_v1_sim_dataset_v1_simulation_ex2-20230714-083812-3 dvc_app_slurm.yaml simulation encfs_mount_and_run ../../../../../encrypt /tmp/encfs_25680_async_encfs_dvc_app_sim_v1_sim_dataset_v1_simulation_ex2-20230714-083812-3_f0aa05e5c171_ab9b828085d9 ../../../../../../../../../../../../../tmp/encfs_25680_async_encfs_dvc_app_sim_v1_sim_dataset_v1_simulation_ex2-20230714-083812-3_f0aa05e5c171_ab9b828085d9/app_sim_v1/sim_dataset_v1/simulation/ex2-20230714-083812-3/output/encfs_out_{MPI_RANK}.log sarus run --mount=type=bind,source=\"/tmp/encfs_25680_async_encfs_dvc_app_sim_v1_sim_dataset_v1_simulation_ex2-20230714-083812-3_f0aa05e5c171_ab9b828085d9\",destination=\"/app-data\"  --entrypoint bash load/async-encfs-dvc/app_sim -c \"/src/app/simulation.sh --simulation-input /app-data/app_sim_v1/sim_dataset_v1/simulation/ex2-20230714-083812-2/output --simulation-output /app-data/app_sim_v1/sim_dataset_v1/simulation/ex2-20230714-083812-3/output --simulation-output-file-num-per-rank 3 --simulation-output-file-size 2666666\" 2>&1 | tee output/stage_out.log\n",
      "slurm_enqueue.sh[app_sim_v1_sim_dataset_v1_simulation_ex2-20230714-083812-3]: Info: Putting any concurrent dvc commit or push operations on hold (use dvc_scontrol release later). Warning: Concurrent dvc operations cause a potential conflict for acquiring ../../../../../.dvc/tmp/rwlock) and dvc commands (incl. repro) will error out if they detect this.\n",
      "dvc_scontrol: All jobs of lukasd held. To make sure that no other users run DVC commands on this repo use 'dvc_scontrol show commit'.\n",
      "dvc_scontrol: All jobs of lukasd held. To make sure that no other users run DVC commands on this repo use 'dvc_scontrol show push'.\n",
      "slurm_enqueue.sh[app_sim_v1_sim_dataset_v1_simulation_ex2-20230714-083812-3]: DVC stage deps of app_sim_v1_sim_dataset_v1_simulation_ex2-20230714-083812-3: ../ex2-20230714-083812-2/dvc.yaml:app_sim_v1_sim_dataset_v1_simulation_ex2-20230714-083812-2\n",
      "slurm_enqueue.sh[app_sim_v1_sim_dataset_v1_simulation_ex2-20230714-083812-3]: DVC stage outs of app_sim_v1_sim_dataset_v1_simulation_ex2-20230714-083812-3: ../../../../../encrypt/app_sim_v1/sim_dataset_v1/simulation/ex2-20230714-083812-3/output output\n",
      "slurm_enqueue.sh[app_sim_v1_sim_dataset_v1_simulation_ex2-20230714-083812-3]: Looking for state of DVC dependency ../ex2-20230714-083812-2/dvc.yaml:app_sim_v1_sim_dataset_v1_simulation_ex2-20230714-083812-2.\n",
      "slurm_enqueue.sh[app_sim_v1_sim_dataset_v1_simulation_ex2-20230714-083812-3]: Cannot find running/committed stage app_sim_v1_sim_dataset_v1_simulation_ex2-20230714-083812-3 - submitting it.\n",
      "slurm_enqueue.sh[app_sim_v1_sim_dataset_v1_simulation_ex2-20230714-083812-3]: Launching asynchronous stage app_sim_v1_sim_dataset_v1_simulation_ex2-20230714-083812-3 with SLURM\n",
      "slurm_enqueue.sh[app_sim_v1_sim_dataset_v1_simulation_ex2-20230714-083812-3]: Submit push job for app_sim_v1_sim_dataset_v1_simulation_ex2-20230714-083812-3 manually with slurm_enqueue_dvc_push_app_sim_v1_sim_dataset_v1_simulation_ex2-20230714-083812-3.sh.\n",
      "slurm_enqueue.sh[app_sim_v1_sim_dataset_v1_simulation_ex2-20230714-083812-3]: Submitted all jobs for stage app_sim_v1_sim_dataset_v1_simulation_ex2-20230714-083812-3 (stage: 47951766, cleanup: 47951769, commit: 47951772).\n",
      "slurm_enqueue.sh[app_sim_v1_sim_dataset_v1_simulation_ex2-20230714-083812-3]: All jobs submitted on hold to enable further DVC usage. When ready, use 'scontrol release <job-id1> <job-id2> ...' to selectively unblock invidual jobs or 'dvc_scontrol release (stage|commit|push)' to unblock all jobs of particular type in this DVC repo.\n"
     ]
    },
    {
     "name": "stderr",
     "output_type": "stream",
     "text": [
      "WARNING: 'encrypt/app_sim_v1/sim_dataset_v1/simulation/ex2-20230714-083812-2/output' is empty.\n",
      "WARNING: 'encrypt/app_sim_v1/sim_dataset_v1/simulation/ex2-20230714-083812-3/output' is empty.\n"
     ]
    },
    {
     "name": "stdout",
     "output_type": "stream",
     "text": [
      "Generating lock file 'config/app_sim_v1/sim_dataset_v1/simulation/ex2-20230714-083812-3/dvc.lock'\n",
      "Updating lock file 'config/app_sim_v1/sim_dataset_v1/simulation/ex2-20230714-083812-3/dvc.lock'\n",
      "\n",
      "To track the changes with git, run:\n",
      "\n",
      "\tgit add config/app_sim_v1/sim_dataset_v1/simulation/ex2-20230714-083812-3/dvc.lock config/app_sim_v1/sim_dataset_v1/simulation/ex2-20230714-083812-2/dvc.lock config/app_sim_v1/sim_dataset_v1/simulation/ex2-20230714-083812-0/dvc.lock config/app_sim_v1/sim_dataset_v1/simulation/ex2-20230714-083812-1/dvc.lock\n",
      "\n",
      "To enable auto staging, run:\n",
      "\n",
      "\tdvc config core.autostage true\n",
      "Use `dvc push` to send your updates to remote storage.\n"
     ]
    }
   ],
   "source": [
    "%%bash\n",
    "if [[ ! -x \"$(command -v sarus)\" ]]; then  # slurm_enqueue checks availability of sarus\n",
    "    module load sarus\n",
    "fi\n",
    "dvc repro --no-commit config/app_sim_v1/sim_dataset_v1/simulation/${SIM_3_RUN_LABEL}/dvc.yaml"
   ]
  },
  {
   "cell_type": "markdown",
   "id": "38074287",
   "metadata": {},
   "source": [
    "The submitted SLURM stages can be monitored with a status file and log files in the `dvc.yaml` directory and the tool `dvc_scontrol`. The latter makes functionality of SLURM's `scontrol` available for asynchronous DVC stages and, thus, also allows to control DVC SLURM job groups. In particular, we can list the submitted jobs."
   ]
  },
  {
   "cell_type": "code",
   "execution_count": 22,
   "id": "407ed3e4",
   "metadata": {},
   "outputs": [
    {
     "name": "stdout",
     "output_type": "stream",
     "text": [
      "dvc_scontrol: DVC stage jobs:\n",
      "           USER           JOBID     REASON       TIME  TIME_LEFT                                                         NAME                                                                                                                           WORK_DIR\n",
      "         lukasd        47951743 JobHeldUse       0:00       5:00 dvc_app_sim_v1_sim_dataset_v1_base_simulation_ex2-20230714-0 /scratch/snx3000/lukasd/mitraccel/async-encfs-dvc/examples/data/v2/config/app_sim_v1/sim_dataset_v1/simulation/ex2-20230714-083812\n",
      "         lukasd        47951750 JobHeldUse       0:00       5:00 dvc_app_sim_v1_sim_dataset_v1_simulation_ex2-20230714-083812 /scratch/snx3000/lukasd/mitraccel/async-encfs-dvc/examples/data/v2/config/app_sim_v1/sim_dataset_v1/simulation/ex2-20230714-083812\n",
      "         lukasd        47951757 JobHeldUse       0:00       5:00 dvc_app_sim_v1_sim_dataset_v1_simulation_ex2-20230714-083812 /scratch/snx3000/lukasd/mitraccel/async-encfs-dvc/examples/data/v2/config/app_sim_v1/sim_dataset_v1/simulation/ex2-20230714-083812\n",
      "         lukasd        47951766 JobHeldUse       0:00       5:00 dvc_app_sim_v1_sim_dataset_v1_simulation_ex2-20230714-083812 /scratch/snx3000/lukasd/mitraccel/async-encfs-dvc/examples/data/v2/config/app_sim_v1/sim_dataset_v1/simulation/ex2-20230714-083812\n",
      "dvc_scontrol: DVC commit jobs:\n",
      "           USER           JOBID     REASON       TIME  TIME_LEFT                                                         NAME                                                                                                                           WORK_DIR\n",
      "         lukasd        47951745 JobHeldUse       0:00   12:00:00                                          dvc_op_ab9b828085d9 /scratch/snx3000/lukasd/mitraccel/async-encfs-dvc/examples/data/v2/config/app_sim_v1/sim_dataset_v1/simulation/ex2-20230714-083812\n",
      "         lukasd        47951753 JobHeldUse       0:00   12:00:00                                          dvc_op_ab9b828085d9 /scratch/snx3000/lukasd/mitraccel/async-encfs-dvc/examples/data/v2/config/app_sim_v1/sim_dataset_v1/simulation/ex2-20230714-083812\n",
      "         lukasd        47951759 JobHeldUse       0:00   12:00:00                                          dvc_op_ab9b828085d9 /scratch/snx3000/lukasd/mitraccel/async-encfs-dvc/examples/data/v2/config/app_sim_v1/sim_dataset_v1/simulation/ex2-20230714-083812\n",
      "         lukasd        47951772 JobHeldUse       0:00   12:00:00                                          dvc_op_ab9b828085d9 /scratch/snx3000/lukasd/mitraccel/async-encfs-dvc/examples/data/v2/config/app_sim_v1/sim_dataset_v1/simulation/ex2-20230714-083812\n",
      "dvc_scontrol: DVC push jobs:\n",
      "           USER           JOBID     REASON       TIME  TIME_LEFT                                                         NAME                                                                                                                           WORK_DIR\n",
      "dvc_scontrol: DVC cleanup jobs:\n",
      "           USER           JOBID     REASON       TIME  TIME_LEFT                                                         NAME                                                                                                                           WORK_DIR\n",
      "         lukasd        47951744 Dependency       0:00   12:00:00 dvc_cleanup_app_sim_v1_sim_dataset_v1_base_simulation_ex2-20 /scratch/snx3000/lukasd/mitraccel/async-encfs-dvc/examples/data/v2/config/app_sim_v1/sim_dataset_v1/simulation/ex2-20230714-083812\n",
      "         lukasd        47951752 Dependency       0:00   12:00:00 dvc_cleanup_app_sim_v1_sim_dataset_v1_simulation_ex2-2023071 /scratch/snx3000/lukasd/mitraccel/async-encfs-dvc/examples/data/v2/config/app_sim_v1/sim_dataset_v1/simulation/ex2-20230714-083812\n",
      "         lukasd        47951758 Dependency       0:00   12:00:00 dvc_cleanup_app_sim_v1_sim_dataset_v1_simulation_ex2-2023071 /scratch/snx3000/lukasd/mitraccel/async-encfs-dvc/examples/data/v2/config/app_sim_v1/sim_dataset_v1/simulation/ex2-20230714-083812\n",
      "         lukasd        47951769 Dependency       0:00   12:00:00 dvc_cleanup_app_sim_v1_sim_dataset_v1_simulation_ex2-2023071 /scratch/snx3000/lukasd/mitraccel/async-encfs-dvc/examples/data/v2/config/app_sim_v1/sim_dataset_v1/simulation/ex2-20230714-083812\n"
     ]
    }
   ],
   "source": [
    "!dvc_scontrol show all"
   ]
  },
  {
   "cell_type": "markdown",
   "id": "36126280",
   "metadata": {},
   "source": [
    "As the stage and commit jobs are put on hold in order to enable the submission of more DVC SLURM stages by the user, we have to release them. "
   ]
  },
  {
   "cell_type": "code",
   "execution_count": 23,
   "id": "a085a180",
   "metadata": {},
   "outputs": [
    {
     "name": "stdout",
     "output_type": "stream",
     "text": [
      "dvc_scontrol: Releasing job dvc_app_sim_v1_sim_dataset_v1_base_simulation_ex2-20230714-083812-0_ab9b828085d9[sbatch_dvc_stage_app_sim_v1_sim_dataset_v1_base_simulation_ex2-2023] (reason JobHeldUser) at 47951743.\n",
      "dvc_scontrol: Releasing job dvc_app_sim_v1_sim_dataset_v1_simulation_ex2-20230714-083812-1_ab9b828085d9[sbatch_dvc_stage_app_sim_v1_sim_dataset_v1_simulation_ex2-20230714-] (reason JobHeldUser) at 47951750.\n",
      "dvc_scontrol: Releasing job dvc_app_sim_v1_sim_dataset_v1_simulation_ex2-20230714-083812-2_ab9b828085d9[sbatch_dvc_stage_app_sim_v1_sim_dataset_v1_simulation_ex2-20230714-] (reason JobHeldUser) at 47951757.\n",
      "dvc_scontrol: Releasing job dvc_app_sim_v1_sim_dataset_v1_simulation_ex2-20230714-083812-3_ab9b828085d9[sbatch_dvc_stage_app_sim_v1_sim_dataset_v1_simulation_ex2-20230714-] (reason JobHeldUser) at 47951766.\n",
      "dvc_scontrol: Releasing job dvc_op_ab9b828085d9[sbatch_dvc_commit.sh] (reason JobHeldUser) at 47951745.\n",
      "dvc_scontrol: Releasing job dvc_op_ab9b828085d9[sbatch_dvc_commit.sh] (reason JobHeldUser) at 47951753.\n",
      "dvc_scontrol: Releasing job dvc_op_ab9b828085d9[sbatch_dvc_commit.sh] (reason JobHeldUser) at 47951759.\n",
      "dvc_scontrol: Releasing job dvc_op_ab9b828085d9[sbatch_dvc_commit.sh] (reason JobHeldUser) at 47951772.\n"
     ]
    }
   ],
   "source": [
    "!dvc_scontrol release stage,commit"
   ]
  },
  {
   "cell_type": "markdown",
   "id": "20f72914",
   "metadata": {},
   "source": [
    "This will enable resource allocation and execution of the application stages. Upon successfull execution, the stage outputs will also be committed. We can now log out from the SLURM cluster and return later to inspect results.\n",
    "\n",
    "For the purpose of this tutorial, however, we want to keep monitoring the pipeline on SLURM and wait for the completion of the last job, which is a DVC commit.  "
   ]
  },
  {
   "cell_type": "code",
   "execution_count": 24,
   "id": "e5fd32a8",
   "metadata": {},
   "outputs": [
    {
     "name": "stdout",
     "output_type": "stream",
     "text": [
      "Monitoring SLURM job 47951772.\n",
      "The SLURM pipeline is still in process.\n",
      "dvc_scontrol: DVC stage jobs:\n",
      "           USER           JOBID     REASON       TIME  TIME_LEFT                                                         NAME                                                                                                                           WORK_DIR\n",
      "         lukasd        47951743   Priority       0:00       5:00 dvc_app_sim_v1_sim_dataset_v1_base_simulation_ex2-20230714-0 /scratch/snx3000/lukasd/mitraccel/async-encfs-dvc/examples/data/v2/config/app_sim_v1/sim_dataset_v1/simulation/ex2-20230714-083812\n",
      "         lukasd        47951750 Dependency       0:00       5:00 dvc_app_sim_v1_sim_dataset_v1_simulation_ex2-20230714-083812 /scratch/snx3000/lukasd/mitraccel/async-encfs-dvc/examples/data/v2/config/app_sim_v1/sim_dataset_v1/simulation/ex2-20230714-083812\n",
      "         lukasd        47951757 Dependency       0:00       5:00 dvc_app_sim_v1_sim_dataset_v1_simulation_ex2-20230714-083812 /scratch/snx3000/lukasd/mitraccel/async-encfs-dvc/examples/data/v2/config/app_sim_v1/sim_dataset_v1/simulation/ex2-20230714-083812\n",
      "         lukasd        47951766 Dependency       0:00       5:00 dvc_app_sim_v1_sim_dataset_v1_simulation_ex2-20230714-083812 /scratch/snx3000/lukasd/mitraccel/async-encfs-dvc/examples/data/v2/config/app_sim_v1/sim_dataset_v1/simulation/ex2-20230714-083812\n",
      "dvc_scontrol: DVC commit jobs:\n",
      "           USER           JOBID     REASON       TIME  TIME_LEFT                                                         NAME                                                                                                                           WORK_DIR\n",
      "         lukasd        47951745 Dependency       0:00   12:00:00                                          dvc_op_ab9b828085d9 /scratch/snx3000/lukasd/mitraccel/async-encfs-dvc/examples/data/v2/config/app_sim_v1/sim_dataset_v1/simulation/ex2-20230714-083812\n",
      "         lukasd        47951753 Dependency       0:00   12:00:00                                          dvc_op_ab9b828085d9 /scratch/snx3000/lukasd/mitraccel/async-encfs-dvc/examples/data/v2/config/app_sim_v1/sim_dataset_v1/simulation/ex2-20230714-083812\n",
      "         lukasd        47951759 Dependency       0:00   12:00:00                                          dvc_op_ab9b828085d9 /scratch/snx3000/lukasd/mitraccel/async-encfs-dvc/examples/data/v2/config/app_sim_v1/sim_dataset_v1/simulation/ex2-20230714-083812\n",
      "         lukasd        47951772 Dependency       0:00   12:00:00                                          dvc_op_ab9b828085d9 /scratch/snx3000/lukasd/mitraccel/async-encfs-dvc/examples/data/v2/config/app_sim_v1/sim_dataset_v1/simulation/ex2-20230714-083812\n",
      "The SLURM pipeline is still in process.\n",
      "dvc_scontrol: DVC stage jobs:\n",
      "           USER           JOBID     REASON       TIME  TIME_LEFT                                                         NAME                                                                                                                           WORK_DIR\n",
      "         lukasd        47951743   Priority       0:00       5:00 dvc_app_sim_v1_sim_dataset_v1_base_simulation_ex2-20230714-0 /scratch/snx3000/lukasd/mitraccel/async-encfs-dvc/examples/data/v2/config/app_sim_v1/sim_dataset_v1/simulation/ex2-20230714-083812\n",
      "         lukasd        47951750 Dependency       0:00       5:00 dvc_app_sim_v1_sim_dataset_v1_simulation_ex2-20230714-083812 /scratch/snx3000/lukasd/mitraccel/async-encfs-dvc/examples/data/v2/config/app_sim_v1/sim_dataset_v1/simulation/ex2-20230714-083812\n",
      "         lukasd        47951757 Dependency       0:00       5:00 dvc_app_sim_v1_sim_dataset_v1_simulation_ex2-20230714-083812 /scratch/snx3000/lukasd/mitraccel/async-encfs-dvc/examples/data/v2/config/app_sim_v1/sim_dataset_v1/simulation/ex2-20230714-083812\n",
      "         lukasd        47951766 Dependency       0:00       5:00 dvc_app_sim_v1_sim_dataset_v1_simulation_ex2-20230714-083812 /scratch/snx3000/lukasd/mitraccel/async-encfs-dvc/examples/data/v2/config/app_sim_v1/sim_dataset_v1/simulation/ex2-20230714-083812\n",
      "dvc_scontrol: DVC commit jobs:\n",
      "           USER           JOBID     REASON       TIME  TIME_LEFT                                                         NAME                                                                                                                           WORK_DIR\n",
      "         lukasd        47951745 Dependency       0:00   12:00:00                                          dvc_op_ab9b828085d9 /scratch/snx3000/lukasd/mitraccel/async-encfs-dvc/examples/data/v2/config/app_sim_v1/sim_dataset_v1/simulation/ex2-20230714-083812\n",
      "         lukasd        47951753 Dependency       0:00   12:00:00                                          dvc_op_ab9b828085d9 /scratch/snx3000/lukasd/mitraccel/async-encfs-dvc/examples/data/v2/config/app_sim_v1/sim_dataset_v1/simulation/ex2-20230714-083812\n",
      "         lukasd        47951759 Dependency       0:00   12:00:00                                          dvc_op_ab9b828085d9 /scratch/snx3000/lukasd/mitraccel/async-encfs-dvc/examples/data/v2/config/app_sim_v1/sim_dataset_v1/simulation/ex2-20230714-083812\n",
      "         lukasd        47951772 Dependency       0:00   12:00:00                                          dvc_op_ab9b828085d9 /scratch/snx3000/lukasd/mitraccel/async-encfs-dvc/examples/data/v2/config/app_sim_v1/sim_dataset_v1/simulation/ex2-20230714-083812\n",
      "The SLURM pipeline is still in process.\n",
      "dvc_scontrol: DVC stage jobs:\n",
      "           USER           JOBID     REASON       TIME  TIME_LEFT                                                         NAME                                                                                                                           WORK_DIR\n",
      "         lukasd        47951743       None       0:57       4:03 dvc_app_sim_v1_sim_dataset_v1_base_simulation_ex2-20230714-0 /scratch/snx3000/lukasd/mitraccel/async-encfs-dvc/examples/data/v2/config/app_sim_v1/sim_dataset_v1/simulation/ex2-20230714-083812\n",
      "         lukasd        47951750 Dependency       0:00       5:00 dvc_app_sim_v1_sim_dataset_v1_simulation_ex2-20230714-083812 /scratch/snx3000/lukasd/mitraccel/async-encfs-dvc/examples/data/v2/config/app_sim_v1/sim_dataset_v1/simulation/ex2-20230714-083812\n",
      "         lukasd        47951757 Dependency       0:00       5:00 dvc_app_sim_v1_sim_dataset_v1_simulation_ex2-20230714-083812 /scratch/snx3000/lukasd/mitraccel/async-encfs-dvc/examples/data/v2/config/app_sim_v1/sim_dataset_v1/simulation/ex2-20230714-083812\n",
      "         lukasd        47951766 Dependency       0:00       5:00 dvc_app_sim_v1_sim_dataset_v1_simulation_ex2-20230714-083812 /scratch/snx3000/lukasd/mitraccel/async-encfs-dvc/examples/data/v2/config/app_sim_v1/sim_dataset_v1/simulation/ex2-20230714-083812\n",
      "dvc_scontrol: DVC commit jobs:\n",
      "           USER           JOBID     REASON       TIME  TIME_LEFT                                                         NAME                                                                                                                           WORK_DIR\n",
      "         lukasd        47951745 Dependency       0:00   12:00:00                                          dvc_op_ab9b828085d9 /scratch/snx3000/lukasd/mitraccel/async-encfs-dvc/examples/data/v2/config/app_sim_v1/sim_dataset_v1/simulation/ex2-20230714-083812\n",
      "         lukasd        47951753 Dependency       0:00   12:00:00                                          dvc_op_ab9b828085d9 /scratch/snx3000/lukasd/mitraccel/async-encfs-dvc/examples/data/v2/config/app_sim_v1/sim_dataset_v1/simulation/ex2-20230714-083812\n",
      "         lukasd        47951759 Dependency       0:00   12:00:00                                          dvc_op_ab9b828085d9 /scratch/snx3000/lukasd/mitraccel/async-encfs-dvc/examples/data/v2/config/app_sim_v1/sim_dataset_v1/simulation/ex2-20230714-083812\n",
      "         lukasd        47951772 Dependency       0:00   12:00:00                                          dvc_op_ab9b828085d9 /scratch/snx3000/lukasd/mitraccel/async-encfs-dvc/examples/data/v2/config/app_sim_v1/sim_dataset_v1/simulation/ex2-20230714-083812\n",
      "The SLURM pipeline is still in process.\n",
      "dvc_scontrol: DVC stage jobs:\n",
      "           USER           JOBID     REASON       TIME  TIME_LEFT                                                         NAME                                                                                                                           WORK_DIR\n",
      "         lukasd        47951750   Priority       0:00       5:00 dvc_app_sim_v1_sim_dataset_v1_simulation_ex2-20230714-083812 /scratch/snx3000/lukasd/mitraccel/async-encfs-dvc/examples/data/v2/config/app_sim_v1/sim_dataset_v1/simulation/ex2-20230714-083812\n",
      "         lukasd        47951757 Dependency       0:00       5:00 dvc_app_sim_v1_sim_dataset_v1_simulation_ex2-20230714-083812 /scratch/snx3000/lukasd/mitraccel/async-encfs-dvc/examples/data/v2/config/app_sim_v1/sim_dataset_v1/simulation/ex2-20230714-083812\n",
      "         lukasd        47951766 Dependency       0:00       5:00 dvc_app_sim_v1_sim_dataset_v1_simulation_ex2-20230714-083812 /scratch/snx3000/lukasd/mitraccel/async-encfs-dvc/examples/data/v2/config/app_sim_v1/sim_dataset_v1/simulation/ex2-20230714-083812\n",
      "dvc_scontrol: DVC commit jobs:\n",
      "           USER           JOBID     REASON       TIME  TIME_LEFT                                                         NAME                                                                                                                           WORK_DIR\n",
      "         lukasd        47951745   Priority       0:00   12:00:00                                          dvc_op_ab9b828085d9 /scratch/snx3000/lukasd/mitraccel/async-encfs-dvc/examples/data/v2/config/app_sim_v1/sim_dataset_v1/simulation/ex2-20230714-083812\n",
      "         lukasd        47951753 Dependency       0:00   12:00:00                                          dvc_op_ab9b828085d9 /scratch/snx3000/lukasd/mitraccel/async-encfs-dvc/examples/data/v2/config/app_sim_v1/sim_dataset_v1/simulation/ex2-20230714-083812\n",
      "         lukasd        47951759 Dependency       0:00   12:00:00                                          dvc_op_ab9b828085d9 /scratch/snx3000/lukasd/mitraccel/async-encfs-dvc/examples/data/v2/config/app_sim_v1/sim_dataset_v1/simulation/ex2-20230714-083812\n",
      "         lukasd        47951772 Dependency       0:00   12:00:00                                          dvc_op_ab9b828085d9 /scratch/snx3000/lukasd/mitraccel/async-encfs-dvc/examples/data/v2/config/app_sim_v1/sim_dataset_v1/simulation/ex2-20230714-083812\n",
      "The SLURM pipeline is still in process.\n",
      "dvc_scontrol: DVC stage jobs:\n",
      "           USER           JOBID     REASON       TIME  TIME_LEFT                                                         NAME                                                                                                                           WORK_DIR\n",
      "         lukasd        47951750       None       0:20       4:40 dvc_app_sim_v1_sim_dataset_v1_simulation_ex2-20230714-083812 /scratch/snx3000/lukasd/mitraccel/async-encfs-dvc/examples/data/v2/config/app_sim_v1/sim_dataset_v1/simulation/ex2-20230714-083812\n",
      "         lukasd        47951757 Dependency       0:00       5:00 dvc_app_sim_v1_sim_dataset_v1_simulation_ex2-20230714-083812 /scratch/snx3000/lukasd/mitraccel/async-encfs-dvc/examples/data/v2/config/app_sim_v1/sim_dataset_v1/simulation/ex2-20230714-083812\n",
      "         lukasd        47951766 Dependency       0:00       5:00 dvc_app_sim_v1_sim_dataset_v1_simulation_ex2-20230714-083812 /scratch/snx3000/lukasd/mitraccel/async-encfs-dvc/examples/data/v2/config/app_sim_v1/sim_dataset_v1/simulation/ex2-20230714-083812\n",
      "dvc_scontrol: DVC commit jobs:\n",
      "           USER           JOBID     REASON       TIME  TIME_LEFT                                                         NAME                                                                                                                           WORK_DIR\n",
      "         lukasd        47951745       None       0:23   11:59:37                                          dvc_op_ab9b828085d9 /scratch/snx3000/lukasd/mitraccel/async-encfs-dvc/examples/data/v2/config/app_sim_v1/sim_dataset_v1/simulation/ex2-20230714-083812\n",
      "         lukasd        47951753 Dependency       0:00   12:00:00                                          dvc_op_ab9b828085d9 /scratch/snx3000/lukasd/mitraccel/async-encfs-dvc/examples/data/v2/config/app_sim_v1/sim_dataset_v1/simulation/ex2-20230714-083812\n",
      "         lukasd        47951759 Dependency       0:00   12:00:00                                          dvc_op_ab9b828085d9 /scratch/snx3000/lukasd/mitraccel/async-encfs-dvc/examples/data/v2/config/app_sim_v1/sim_dataset_v1/simulation/ex2-20230714-083812\n",
      "         lukasd        47951772 Dependency       0:00   12:00:00                                          dvc_op_ab9b828085d9 /scratch/snx3000/lukasd/mitraccel/async-encfs-dvc/examples/data/v2/config/app_sim_v1/sim_dataset_v1/simulation/ex2-20230714-083812\n",
      "The SLURM pipeline is still in process.\n",
      "dvc_scontrol: DVC stage jobs:\n",
      "           USER           JOBID     REASON       TIME  TIME_LEFT                                                         NAME                                                                                                                           WORK_DIR\n",
      "         lukasd        47951757   Priority       0:00       5:00 dvc_app_sim_v1_sim_dataset_v1_simulation_ex2-20230714-083812 /scratch/snx3000/lukasd/mitraccel/async-encfs-dvc/examples/data/v2/config/app_sim_v1/sim_dataset_v1/simulation/ex2-20230714-083812\n",
      "         lukasd        47951766 Dependency       0:00       5:00 dvc_app_sim_v1_sim_dataset_v1_simulation_ex2-20230714-083812 /scratch/snx3000/lukasd/mitraccel/async-encfs-dvc/examples/data/v2/config/app_sim_v1/sim_dataset_v1/simulation/ex2-20230714-083812\n",
      "dvc_scontrol: DVC commit jobs:\n",
      "           USER           JOBID     REASON       TIME  TIME_LEFT                                                         NAME                                                                                                                           WORK_DIR\n",
      "         lukasd        47951753   Priority       0:00   12:00:00                                          dvc_op_ab9b828085d9 /scratch/snx3000/lukasd/mitraccel/async-encfs-dvc/examples/data/v2/config/app_sim_v1/sim_dataset_v1/simulation/ex2-20230714-083812\n",
      "         lukasd        47951759 Dependency       0:00   12:00:00                                          dvc_op_ab9b828085d9 /scratch/snx3000/lukasd/mitraccel/async-encfs-dvc/examples/data/v2/config/app_sim_v1/sim_dataset_v1/simulation/ex2-20230714-083812\n",
      "         lukasd        47951772 Dependency       0:00   12:00:00                                          dvc_op_ab9b828085d9 /scratch/snx3000/lukasd/mitraccel/async-encfs-dvc/examples/data/v2/config/app_sim_v1/sim_dataset_v1/simulation/ex2-20230714-083812\n",
      "The SLURM pipeline is still in process.\n",
      "dvc_scontrol: DVC stage jobs:\n",
      "           USER           JOBID     REASON       TIME  TIME_LEFT                                                         NAME                                                                                                                           WORK_DIR\n",
      "         lukasd        47951757   Priority       0:00       5:00 dvc_app_sim_v1_sim_dataset_v1_simulation_ex2-20230714-083812 /scratch/snx3000/lukasd/mitraccel/async-encfs-dvc/examples/data/v2/config/app_sim_v1/sim_dataset_v1/simulation/ex2-20230714-083812\n",
      "         lukasd        47951766 Dependency       0:00       5:00 dvc_app_sim_v1_sim_dataset_v1_simulation_ex2-20230714-083812 /scratch/snx3000/lukasd/mitraccel/async-encfs-dvc/examples/data/v2/config/app_sim_v1/sim_dataset_v1/simulation/ex2-20230714-083812\n",
      "dvc_scontrol: DVC commit jobs:\n",
      "           USER           JOBID     REASON       TIME  TIME_LEFT                                                         NAME                                                                                                                           WORK_DIR\n",
      "         lukasd        47951753   Priority       0:00   12:00:00                                          dvc_op_ab9b828085d9 /scratch/snx3000/lukasd/mitraccel/async-encfs-dvc/examples/data/v2/config/app_sim_v1/sim_dataset_v1/simulation/ex2-20230714-083812\n",
      "         lukasd        47951759 Dependency       0:00   12:00:00                                          dvc_op_ab9b828085d9 /scratch/snx3000/lukasd/mitraccel/async-encfs-dvc/examples/data/v2/config/app_sim_v1/sim_dataset_v1/simulation/ex2-20230714-083812\n",
      "         lukasd        47951772 Dependency       0:00   12:00:00                                          dvc_op_ab9b828085d9 /scratch/snx3000/lukasd/mitraccel/async-encfs-dvc/examples/data/v2/config/app_sim_v1/sim_dataset_v1/simulation/ex2-20230714-083812\n",
      "The SLURM pipeline is still in process.\n",
      "dvc_scontrol: DVC stage jobs:\n",
      "           USER           JOBID     REASON       TIME  TIME_LEFT                                                         NAME                                                                                                                           WORK_DIR\n",
      "         lukasd        47951766     Prolog       0:03       4:57 dvc_app_sim_v1_sim_dataset_v1_simulation_ex2-20230714-083812 /scratch/snx3000/lukasd/mitraccel/async-encfs-dvc/examples/data/v2/config/app_sim_v1/sim_dataset_v1/simulation/ex2-20230714-083812\n",
      "dvc_scontrol: DVC commit jobs:\n",
      "           USER           JOBID     REASON       TIME  TIME_LEFT                                                         NAME                                                                                                                           WORK_DIR\n",
      "         lukasd        47951759     Prolog       0:04   11:59:56                                          dvc_op_ab9b828085d9 /scratch/snx3000/lukasd/mitraccel/async-encfs-dvc/examples/data/v2/config/app_sim_v1/sim_dataset_v1/simulation/ex2-20230714-083812\n",
      "         lukasd        47951772 Dependency       0:00   12:00:00                                          dvc_op_ab9b828085d9 /scratch/snx3000/lukasd/mitraccel/async-encfs-dvc/examples/data/v2/config/app_sim_v1/sim_dataset_v1/simulation/ex2-20230714-083812\n",
      "The SLURM pipeline has successfully completed.\n"
     ]
    }
   ],
   "source": [
    "%%bash\n",
    "# ID of last commit job\n",
    "commit_jobid=$(cat config/app_sim_v1/sim_dataset_v1/simulation/${SIM_3_RUN_LABEL}/app_sim_v1_sim_dataset_v1_simulation_${SIM_3_RUN_LABEL}.dvc_commit_jobid)\n",
    "../../slurm_wait_for_job.sh ${commit_jobid}"
   ]
  },
  {
   "cell_type": "markdown",
   "id": "763bb5af",
   "metadata": {},
   "source": [
    "Once the pipeline has completed, as described above, results can be inspected by running EncFS with `encfs_launch` from the DVC root directory in another terminal and then accessing the data through the decrypted directory."
   ]
  },
  {
   "cell_type": "code",
   "execution_count": 25,
   "id": "f456a0fe-49f4-42fb-a3de-61847c305369",
   "metadata": {},
   "outputs": [
    {
     "name": "stdout",
     "output_type": "stream",
     "text": [
      "\u001b[01;34mencrypt\u001b[00m\n",
      "├── \u001b[01;34mapp_sim_v1\u001b[00m\n",
      "│   └── \u001b[01;34msim_dataset_v1\u001b[00m\n",
      "│       └── \u001b[01;34msimulation\u001b[00m\n",
      "│           ├── \u001b[01;34mex2-20230714-083812-0\u001b[00m\n",
      "│           │   └── \u001b[01;34moutput\u001b[00m\n",
      "│           │       ├── encfs_out_0.log\n",
      "│           │       ├── encfs_out_10.log\n",
      "│           │       ├── encfs_out_11.log\n",
      "│           │       ├── encfs_out_12.log\n",
      "│           │       ├── encfs_out_13.log\n",
      "│           │       ├── encfs_out_14.log\n",
      "│           │       ├── encfs_out_15.log\n",
      "│           │       ├── encfs_out_1.log\n",
      "│           │       ├── encfs_out_2.log\n",
      "│           │       ├── encfs_out_3.log\n",
      "│           │       ├── encfs_out_4.log\n",
      "│           │       ├── encfs_out_5.log\n",
      "│           │       ├── encfs_out_6.log\n",
      "│           │       ├── encfs_out_7.log\n",
      "│           │       ├── encfs_out_8.log\n",
      "│           │       ├── encfs_out_9.log\n",
      "│           │       ├── sim.0.0.dat\n",
      "│           │       ├── sim.0.1.dat\n",
      "│           │       ├── sim.0.2.dat\n",
      "│           │       ├── sim.10.0.dat\n",
      "│           │       ├── sim.10.1.dat\n",
      "│           │       ├── sim.10.2.dat\n",
      "│           │       ├── sim.1.0.dat\n",
      "│           │       ├── sim.11.0.dat\n",
      "│           │       ├── sim.11.1.dat\n",
      "│           │       ├── sim.11.2.dat\n",
      "│           │       ├── sim.1.1.dat\n",
      "│           │       ├── sim.12.0.dat\n",
      "│           │       ├── sim.12.1.dat\n",
      "│           │       ├── sim.12.2.dat\n",
      "│           │       ├── sim.1.2.dat\n",
      "│           │       ├── sim.13.0.dat\n",
      "│           │       ├── sim.13.1.dat\n",
      "│           │       ├── sim.13.2.dat\n",
      "│           │       ├── sim.14.0.dat\n",
      "│           │       ├── sim.14.1.dat\n",
      "│           │       ├── sim.14.2.dat\n",
      "│           │       ├── sim.15.0.dat\n",
      "│           │       ├── sim.15.1.dat\n",
      "│           │       ├── sim.15.2.dat\n",
      "│           │       ├── sim.2.0.dat\n",
      "│           │       ├── sim.2.1.dat\n",
      "│           │       ├── sim.2.2.dat\n",
      "│           │       ├── sim.3.0.dat\n",
      "│           │       ├── sim.3.1.dat\n",
      "│           │       ├── sim.3.2.dat\n",
      "│           │       ├── sim.4.0.dat\n",
      "│           │       ├── sim.4.1.dat\n",
      "│           │       ├── sim.4.2.dat\n",
      "│           │       ├── sim.5.0.dat\n",
      "│           │       ├── sim.5.1.dat\n",
      "│           │       ├── sim.5.2.dat\n",
      "│           │       ├── sim.6.0.dat\n",
      "│           │       ├── sim.6.1.dat\n",
      "│           │       ├── sim.6.2.dat\n",
      "│           │       ├── sim.7.0.dat\n",
      "│           │       ├── sim.7.1.dat\n",
      "│           │       ├── sim.7.2.dat\n",
      "│           │       ├── sim.8.0.dat\n",
      "│           │       ├── sim.8.1.dat\n",
      "│           │       ├── sim.8.2.dat\n",
      "│           │       ├── sim.9.0.dat\n",
      "│           │       ├── sim.9.1.dat\n",
      "│           │       └── sim.9.2.dat\n",
      "│           ├── \u001b[01;34mex2-20230714-083812-1\u001b[00m\n",
      "│           │   └── \u001b[01;34moutput\u001b[00m\n",
      "│           │       ├── encfs_out_0.log\n",
      "│           │       ├── encfs_out_10.log\n",
      "│           │       ├── encfs_out_11.log\n",
      "│           │       ├── encfs_out_12.log\n",
      "│           │       ├── encfs_out_13.log\n",
      "│           │       ├── encfs_out_14.log\n",
      "│           │       ├── encfs_out_15.log\n",
      "│           │       ├── encfs_out_1.log\n",
      "│           │       ├── encfs_out_2.log\n",
      "│           │       ├── encfs_out_3.log\n",
      "│           │       ├── encfs_out_4.log\n",
      "│           │       ├── encfs_out_5.log\n",
      "│           │       ├── encfs_out_6.log\n",
      "│           │       ├── encfs_out_7.log\n",
      "│           │       ├── encfs_out_8.log\n",
      "│           │       ├── encfs_out_9.log\n",
      "│           │       ├── sim.0.0.dat\n",
      "│           │       ├── sim.0.1.dat\n",
      "│           │       ├── sim.0.2.dat\n",
      "│           │       ├── sim.10.0.dat\n",
      "│           │       ├── sim.10.1.dat\n",
      "│           │       ├── sim.10.2.dat\n",
      "│           │       ├── sim.1.0.dat\n",
      "│           │       ├── sim.11.0.dat\n",
      "│           │       ├── sim.11.1.dat\n",
      "│           │       ├── sim.11.2.dat\n",
      "│           │       ├── sim.1.1.dat\n",
      "│           │       ├── sim.12.0.dat\n",
      "│           │       ├── sim.12.1.dat\n",
      "│           │       ├── sim.12.2.dat\n",
      "│           │       ├── sim.1.2.dat\n",
      "│           │       ├── sim.13.0.dat\n",
      "│           │       ├── sim.13.1.dat\n",
      "│           │       ├── sim.13.2.dat\n",
      "│           │       ├── sim.14.0.dat\n",
      "│           │       ├── sim.14.1.dat\n",
      "│           │       ├── sim.14.2.dat\n",
      "│           │       ├── sim.15.0.dat\n",
      "│           │       ├── sim.15.1.dat\n",
      "│           │       ├── sim.15.2.dat\n",
      "│           │       ├── sim.2.0.dat\n",
      "│           │       ├── sim.2.1.dat\n",
      "│           │       ├── sim.2.2.dat\n",
      "│           │       ├── sim.3.0.dat\n",
      "│           │       ├── sim.3.1.dat\n",
      "│           │       ├── sim.3.2.dat\n",
      "│           │       ├── sim.4.0.dat\n",
      "│           │       ├── sim.4.1.dat\n",
      "│           │       ├── sim.4.2.dat\n",
      "│           │       ├── sim.5.0.dat\n",
      "│           │       ├── sim.5.1.dat\n",
      "│           │       ├── sim.5.2.dat\n",
      "│           │       ├── sim.6.0.dat\n",
      "│           │       ├── sim.6.1.dat\n",
      "│           │       ├── sim.6.2.dat\n",
      "│           │       ├── sim.7.0.dat\n",
      "│           │       ├── sim.7.1.dat\n",
      "│           │       ├── sim.7.2.dat\n",
      "│           │       ├── sim.8.0.dat\n",
      "│           │       ├── sim.8.1.dat\n",
      "│           │       ├── sim.8.2.dat\n",
      "│           │       ├── sim.9.0.dat\n",
      "│           │       ├── sim.9.1.dat\n",
      "│           │       └── sim.9.2.dat\n",
      "│           ├── \u001b[01;34mex2-20230714-083812-2\u001b[00m\n",
      "│           │   └── \u001b[01;34moutput\u001b[00m\n",
      "│           │       ├── encfs_out_0.log\n",
      "│           │       ├── encfs_out_10.log\n",
      "│           │       ├── encfs_out_11.log\n",
      "│           │       ├── encfs_out_12.log\n",
      "│           │       ├── encfs_out_13.log\n",
      "│           │       ├── encfs_out_14.log\n",
      "│           │       ├── encfs_out_15.log\n",
      "│           │       ├── encfs_out_1.log\n",
      "│           │       ├── encfs_out_2.log\n",
      "│           │       ├── encfs_out_3.log\n",
      "│           │       ├── encfs_out_4.log\n",
      "│           │       ├── encfs_out_5.log\n",
      "│           │       ├── encfs_out_6.log\n",
      "│           │       ├── encfs_out_7.log\n",
      "│           │       ├── encfs_out_8.log\n",
      "│           │       ├── encfs_out_9.log\n",
      "│           │       ├── sim.0.0.dat\n",
      "│           │       ├── sim.0.1.dat\n",
      "│           │       ├── sim.0.2.dat\n",
      "│           │       ├── sim.10.0.dat\n",
      "│           │       ├── sim.10.1.dat\n",
      "│           │       ├── sim.10.2.dat\n",
      "│           │       ├── sim.1.0.dat\n",
      "│           │       ├── sim.11.0.dat\n",
      "│           │       ├── sim.11.1.dat\n",
      "│           │       ├── sim.11.2.dat\n",
      "│           │       ├── sim.1.1.dat\n",
      "│           │       ├── sim.12.0.dat\n",
      "│           │       ├── sim.12.1.dat\n",
      "│           │       ├── sim.12.2.dat\n",
      "│           │       ├── sim.1.2.dat\n",
      "│           │       ├── sim.13.0.dat\n",
      "│           │       ├── sim.13.1.dat\n",
      "│           │       ├── sim.13.2.dat\n",
      "│           │       ├── sim.14.0.dat\n",
      "│           │       ├── sim.14.1.dat\n",
      "│           │       ├── sim.14.2.dat\n",
      "│           │       ├── sim.15.0.dat\n",
      "│           │       ├── sim.15.1.dat\n",
      "│           │       ├── sim.15.2.dat\n",
      "│           │       ├── sim.2.0.dat\n",
      "│           │       ├── sim.2.1.dat\n",
      "│           │       ├── sim.2.2.dat\n",
      "│           │       ├── sim.3.0.dat\n",
      "│           │       ├── sim.3.1.dat\n",
      "│           │       ├── sim.3.2.dat\n",
      "│           │       ├── sim.4.0.dat\n",
      "│           │       ├── sim.4.1.dat\n",
      "│           │       ├── sim.4.2.dat\n",
      "│           │       ├── sim.5.0.dat\n",
      "│           │       ├── sim.5.1.dat\n",
      "│           │       ├── sim.5.2.dat\n",
      "│           │       ├── sim.6.0.dat\n",
      "│           │       ├── sim.6.1.dat\n",
      "│           │       ├── sim.6.2.dat\n",
      "│           │       ├── sim.7.0.dat\n",
      "│           │       ├── sim.7.1.dat\n",
      "│           │       ├── sim.7.2.dat\n",
      "│           │       ├── sim.8.0.dat\n",
      "│           │       ├── sim.8.1.dat\n",
      "│           │       ├── sim.8.2.dat\n",
      "│           │       ├── sim.9.0.dat\n",
      "│           │       ├── sim.9.1.dat\n",
      "│           │       └── sim.9.2.dat\n",
      "│           └── \u001b[01;34mex2-20230714-083812-3\u001b[00m\n",
      "│               └── \u001b[01;34moutput\u001b[00m\n",
      "│                   ├── encfs_out_0.log\n",
      "│                   ├── encfs_out_10.log\n",
      "│                   ├── encfs_out_11.log\n",
      "│                   ├── encfs_out_12.log\n",
      "│                   ├── encfs_out_13.log\n",
      "│                   ├── encfs_out_14.log\n",
      "│                   ├── encfs_out_15.log\n",
      "│                   ├── encfs_out_1.log\n",
      "│                   ├── encfs_out_2.log\n",
      "│                   ├── encfs_out_3.log\n",
      "│                   ├── encfs_out_4.log\n",
      "│                   ├── encfs_out_5.log\n",
      "│                   ├── encfs_out_6.log\n",
      "│                   ├── encfs_out_7.log\n",
      "│                   ├── encfs_out_8.log\n",
      "│                   ├── encfs_out_9.log\n",
      "│                   ├── sim.0.0.dat\n",
      "│                   ├── sim.0.1.dat\n",
      "│                   ├── sim.0.2.dat\n",
      "│                   ├── sim.10.0.dat\n",
      "│                   ├── sim.10.1.dat\n",
      "│                   ├── sim.10.2.dat\n",
      "│                   ├── sim.1.0.dat\n",
      "│                   ├── sim.11.0.dat\n",
      "│                   ├── sim.11.1.dat\n",
      "│                   ├── sim.11.2.dat\n",
      "│                   ├── sim.1.1.dat\n",
      "│                   ├── sim.12.0.dat\n",
      "│                   ├── sim.12.1.dat\n",
      "│                   ├── sim.12.2.dat\n",
      "│                   ├── sim.1.2.dat\n",
      "│                   ├── sim.13.0.dat\n",
      "│                   ├── sim.13.1.dat\n",
      "│                   ├── sim.13.2.dat\n",
      "│                   ├── sim.14.0.dat\n",
      "│                   ├── sim.14.1.dat\n",
      "│                   ├── sim.14.2.dat\n",
      "│                   ├── sim.15.0.dat\n",
      "│                   ├── sim.15.1.dat\n",
      "│                   ├── sim.15.2.dat\n",
      "│                   ├── sim.2.0.dat\n",
      "│                   ├── sim.2.1.dat\n",
      "│                   ├── sim.2.2.dat\n",
      "│                   ├── sim.3.0.dat\n",
      "│                   ├── sim.3.1.dat\n",
      "│                   ├── sim.3.2.dat\n",
      "│                   ├── sim.4.0.dat\n",
      "│                   ├── sim.4.1.dat\n",
      "│                   ├── sim.4.2.dat\n",
      "│                   ├── sim.5.0.dat\n",
      "│                   ├── sim.5.1.dat\n",
      "│                   ├── sim.5.2.dat\n",
      "│                   ├── sim.6.0.dat\n",
      "│                   ├── sim.6.1.dat\n",
      "│                   ├── sim.6.2.dat\n",
      "│                   ├── sim.7.0.dat\n",
      "│                   ├── sim.7.1.dat\n",
      "│                   ├── sim.7.2.dat\n",
      "│                   ├── sim.8.0.dat\n",
      "│                   ├── sim.8.1.dat\n",
      "│                   ├── sim.8.2.dat\n",
      "│                   ├── sim.9.0.dat\n",
      "│                   ├── sim.9.1.dat\n",
      "│                   └── sim.9.2.dat\n",
      "└── \u001b[01;34min\u001b[00m\n",
      "    └── \u001b[01;34msim_dataset_v1\u001b[00m\n",
      "        ├── \u001b[01;34mapp_prep_v1\u001b[00m\n",
      "        │   └── \u001b[01;34mauto\u001b[00m\n",
      "        │       └── \u001b[01;34mex2-20230714-083624\u001b[00m\n",
      "        │           └── \u001b[01;34moutput\u001b[00m\n",
      "        │               ├── encfs_out_0.log\n",
      "        │               └── sim_in.dat\n",
      "        └── \u001b[01;34moriginal\u001b[00m\n",
      "            └── \u001b[01;34mex2\u001b[00m\n",
      "                └── \u001b[01;34moutput\u001b[00m\n",
      "                    ├── encfs_out.log\n",
      "                    └── sim_in.dat\n",
      "\u001b[01;34mconfig\u001b[00m\n",
      "├── \u001b[01;34mapp_sim_v1\u001b[00m\n",
      "│   └── \u001b[01;34msim_dataset_v1\u001b[00m\n",
      "│       └── \u001b[01;34msimulation\u001b[00m\n",
      "│           ├── \u001b[01;34mex2-20230714-083812-0\u001b[00m\n",
      "│           │   ├── app_sim_v1_sim_dataset_v1_base_simulation_ex2-20230714-083812-0.dvc_cleanup_jobid\n",
      "│           │   ├── app_sim_v1_sim_dataset_v1_base_simulation_ex2-20230714-083812-0.dvc_commit_jobid\n",
      "│           │   ├── app_sim_v1_sim_dataset_v1_base_simulation_ex2-20230714-083812-0.dvc_stage_jobid\n",
      "│           │   ├── dvc_app_slurm.yaml\n",
      "│           │   ├── dvc.lock\n",
      "│           │   ├── dvc_sbatch.dvc_commit.47951745.err\n",
      "│           │   ├── dvc_sbatch.dvc_commit.47951745.out\n",
      "│           │   ├── dvc.yaml\n",
      "│           │   ├── \u001b[01;34moutput\u001b[00m\n",
      "│           │   │   ├── dvc_sbatch.dvc_app_sim_v1_sim_dataset_v1_base_simulation_ex2-20230714-083812-0_ab9b828085d9.47951743.out\n",
      "│           │   │   └── stage_out.log\n",
      "│           │   ├── \u001b[00;32msbatch_dvc_stage_app_sim_v1_sim_dataset_v1_base_simulation_ex2-20230714-083812-0.sh\u001b[00m\n",
      "│           │   └── \u001b[00;32mslurm_enqueue_dvc_push_app_sim_v1_sim_dataset_v1_base_simulation_ex2-20230714-083812-0.sh\u001b[00m\n",
      "│           ├── \u001b[01;34mex2-20230714-083812-1\u001b[00m\n",
      "│           │   ├── app_sim_v1_sim_dataset_v1_simulation_ex2-20230714-083812-1.dvc_cleanup_jobid\n",
      "│           │   ├── app_sim_v1_sim_dataset_v1_simulation_ex2-20230714-083812-1.dvc_commit_jobid\n",
      "│           │   ├── app_sim_v1_sim_dataset_v1_simulation_ex2-20230714-083812-1.dvc_stage_jobid\n",
      "│           │   ├── dvc_app_slurm.yaml\n",
      "│           │   ├── dvc.lock\n",
      "│           │   ├── dvc_sbatch.dvc_commit.47951753.err\n",
      "│           │   ├── dvc_sbatch.dvc_commit.47951753.out\n",
      "│           │   ├── dvc.yaml\n",
      "│           │   ├── \u001b[01;34moutput\u001b[00m\n",
      "│           │   │   ├── dvc_sbatch.dvc_app_sim_v1_sim_dataset_v1_simulation_ex2-20230714-083812-1_ab9b828085d9.47951750.out\n",
      "│           │   │   └── stage_out.log\n",
      "│           │   ├── \u001b[00;32msbatch_dvc_stage_app_sim_v1_sim_dataset_v1_simulation_ex2-20230714-083812-1.sh\u001b[00m\n",
      "│           │   └── \u001b[00;32mslurm_enqueue_dvc_push_app_sim_v1_sim_dataset_v1_simulation_ex2-20230714-083812-1.sh\u001b[00m\n",
      "│           ├── \u001b[01;34mex2-20230714-083812-2\u001b[00m\n",
      "│           │   ├── app_sim_v1_sim_dataset_v1_simulation_ex2-20230714-083812-2.dvc_cleanup_jobid\n",
      "│           │   ├── app_sim_v1_sim_dataset_v1_simulation_ex2-20230714-083812-2.dvc_commit_jobid\n",
      "│           │   ├── app_sim_v1_sim_dataset_v1_simulation_ex2-20230714-083812-2.dvc_stage_jobid\n",
      "│           │   ├── dvc_app_slurm.yaml\n",
      "│           │   ├── dvc.lock\n",
      "│           │   ├── dvc_sbatch.dvc_commit.47951759.err\n",
      "│           │   ├── dvc_sbatch.dvc_commit.47951759.out\n",
      "│           │   ├── dvc.yaml\n",
      "│           │   ├── \u001b[01;34moutput\u001b[00m\n",
      "│           │   │   ├── dvc_sbatch.dvc_app_sim_v1_sim_dataset_v1_simulation_ex2-20230714-083812-2_ab9b828085d9.47951757.out\n",
      "│           │   │   └── stage_out.log\n",
      "│           │   ├── \u001b[00;32msbatch_dvc_stage_app_sim_v1_sim_dataset_v1_simulation_ex2-20230714-083812-2.sh\u001b[00m\n",
      "│           │   └── \u001b[00;32mslurm_enqueue_dvc_push_app_sim_v1_sim_dataset_v1_simulation_ex2-20230714-083812-2.sh\u001b[00m\n",
      "│           └── \u001b[01;34mex2-20230714-083812-3\u001b[00m\n",
      "│               ├── app_sim_v1_sim_dataset_v1_simulation_ex2-20230714-083812-3.dvc_cleanup_jobid\n",
      "│               ├── app_sim_v1_sim_dataset_v1_simulation_ex2-20230714-083812-3.dvc_commit_jobid\n",
      "│               ├── app_sim_v1_sim_dataset_v1_simulation_ex2-20230714-083812-3.dvc_stage_jobid\n",
      "│               ├── dvc_app_slurm.yaml\n",
      "│               ├── dvc_dag.dot\n",
      "│               ├── dvc.lock\n",
      "│               ├── dvc_sbatch.dvc_commit.47951772.err\n",
      "│               ├── dvc_sbatch.dvc_commit.47951772.out\n",
      "│               ├── dvc.yaml\n",
      "│               ├── \u001b[01;34moutput\u001b[00m\n",
      "│               │   ├── dvc_sbatch.dvc_app_sim_v1_sim_dataset_v1_simulation_ex2-20230714-083812-3_ab9b828085d9.47951766.out\n",
      "│               │   └── stage_out.log\n",
      "│               ├── \u001b[00;32msbatch_dvc_stage_app_sim_v1_sim_dataset_v1_simulation_ex2-20230714-083812-3.sh\u001b[00m\n",
      "│               └── \u001b[00;32mslurm_enqueue_dvc_push_app_sim_v1_sim_dataset_v1_simulation_ex2-20230714-083812-3.sh\u001b[00m\n",
      "└── \u001b[01;34min\u001b[00m\n",
      "    └── \u001b[01;34msim_dataset_v1\u001b[00m\n",
      "        ├── \u001b[01;34mapp_prep_v1\u001b[00m\n",
      "        │   └── \u001b[01;34mauto\u001b[00m\n",
      "        │       └── \u001b[01;34mex2-20230714-083624\u001b[00m\n",
      "        │           ├── dvc_app.yaml\n",
      "        │           ├── dvc.lock\n",
      "        │           ├── dvc.yaml\n",
      "        │           └── \u001b[01;34moutput\u001b[00m\n",
      "        │               └── stage_out.log\n",
      "        └── \u001b[01;34moriginal\u001b[00m\n",
      "            └── \u001b[01;34mex2\u001b[00m\n",
      "                ├── dvc_app.yaml\n",
      "                ├── dvc.lock\n",
      "                ├── dvc.yaml\n",
      "                └── \u001b[01;34moutput\u001b[00m\n",
      "                    └── stage_out.log\n",
      "\n",
      "40 directories, 317 files\n"
     ]
    }
   ],
   "source": [
    "!tree encrypt config"
   ]
  },
  {
   "cell_type": "code",
   "execution_count": null,
   "id": "71c6271c-3780-44c7-a73f-a72d22d5e5a1",
   "metadata": {},
   "outputs": [],
   "source": []
  }
 ],
 "metadata": {
  "kernelspec": {
   "display_name": "Python 3 (ipykernel)",
   "language": "python",
   "name": "python3"
  },
  "language_info": {
   "codemirror_mode": {
    "name": "ipython",
    "version": 3
   },
   "file_extension": ".py",
   "mimetype": "text/x-python",
   "name": "python",
   "nbconvert_exporter": "python",
   "pygments_lexer": "ipython3",
   "version": "3.9.4"
  }
 },
 "nbformat": 4,
 "nbformat_minor": 5
}
